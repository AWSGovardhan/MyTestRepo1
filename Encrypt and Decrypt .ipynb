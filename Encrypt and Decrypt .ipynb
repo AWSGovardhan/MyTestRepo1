{
 "cells": [
  {
   "cell_type": "code",
   "execution_count": 1,
   "id": "24886c56",
   "metadata": {},
   "outputs": [],
   "source": [
    "from cryptography.fernet import Fernet"
   ]
  },
  {
   "cell_type": "code",
   "execution_count": 8,
   "id": "f0eb70c0",
   "metadata": {},
   "outputs": [],
   "source": [
    "key = Fernet.generate_key()"
   ]
  },
  {
   "cell_type": "code",
   "execution_count": 9,
   "id": "ba516312",
   "metadata": {},
   "outputs": [
    {
     "data": {
      "text/plain": [
       "b'Kya6S-R0UHrm7JtYSzwZsLo3ygdrOq90xt_EGJTLt2Q='"
      ]
     },
     "execution_count": 9,
     "metadata": {},
     "output_type": "execute_result"
    }
   ],
   "source": [
    "key"
   ]
  },
  {
   "cell_type": "code",
   "execution_count": 10,
   "id": "84c60fe6",
   "metadata": {},
   "outputs": [
    {
     "data": {
      "text/plain": [
       "bytes"
      ]
     },
     "execution_count": 10,
     "metadata": {},
     "output_type": "execute_result"
    }
   ],
   "source": [
    "type(key)"
   ]
  },
  {
   "cell_type": "code",
   "execution_count": null,
   "id": "6fabd711",
   "metadata": {},
   "outputs": [],
   "source": []
  },
  {
   "cell_type": "code",
   "execution_count": 4,
   "id": "fa763563",
   "metadata": {},
   "outputs": [
    {
     "name": "stdout",
     "output_type": "stream",
     "text": [
      "b'gAAAAABlO04QcAEIF8fa_aqUfIABqnWvhBZ6mZMKDmtWYnC1_tc3ZOcngh6sFgrGo3YDhRfMv4oexDGoNEL4incAgLU9-w5V5g=='\n"
     ]
    }
   ],
   "source": [
    "from cryptography.fernet import Fernet\n",
    "key = b'2Bsy_jRLsVXTc-QanwydVLp0urIl8rBR0voFiLmX4wY='\n",
    "cipher_suite = Fernet(key)\n",
    "ciphered_text = cipher_suite.encrypt(b\"My@TestPass\")   \n",
    "print(ciphered_text)"
   ]
  },
  {
   "cell_type": "code",
   "execution_count": null,
   "id": "43f3c4f5",
   "metadata": {},
   "outputs": [],
   "source": []
  },
  {
   "cell_type": "code",
   "execution_count": 5,
   "id": "2f90167e",
   "metadata": {},
   "outputs": [
    {
     "name": "stdout",
     "output_type": "stream",
     "text": [
      "b'My@TestPass'\n"
     ]
    }
   ],
   "source": [
    "from cryptography.fernet import Fernet\n",
    "key = b'2Bsy_jRLsVXTc-QanwydVLp0urIl8rBR0voFiLmX4wY='\n",
    "cipher_suite = Fernet(key)\n",
    "ciphered_text = b'gAAAAABlO04QcAEIF8fa_aqUfIABqnWvhBZ6mZMKDmtWYnC1_tc3ZOcngh6sFgrGo3YDhRfMv4oexDGoNEL4incAgLU9-w5V5g=='\n",
    "unciphered_text = (cipher_suite.decrypt(ciphered_text))\n",
    "print(unciphered_text)"
   ]
  },
  {
   "cell_type": "code",
   "execution_count": 11,
   "id": "7a6e3805",
   "metadata": {},
   "outputs": [
    {
     "name": "stdout",
     "output_type": "stream",
     "text": [
      "Help on class Fernet in module cryptography.fernet:\n",
      "\n",
      "class Fernet(builtins.object)\n",
      " |  Fernet(key: Union[bytes, str], backend: Any = None)\n",
      " |  \n",
      " |  Methods defined here:\n",
      " |  \n",
      " |  __init__(self, key: Union[bytes, str], backend: Any = None)\n",
      " |      Initialize self.  See help(type(self)) for accurate signature.\n",
      " |  \n",
      " |  decrypt(self, token: bytes, ttl: Optional[int] = None) -> bytes\n",
      " |  \n",
      " |  decrypt_at_time(self, token: bytes, ttl: int, current_time: int) -> bytes\n",
      " |  \n",
      " |  encrypt(self, data: bytes) -> bytes\n",
      " |  \n",
      " |  encrypt_at_time(self, data: bytes, current_time: int) -> bytes\n",
      " |  \n",
      " |  extract_timestamp(self, token: bytes) -> int\n",
      " |  \n",
      " |  ----------------------------------------------------------------------\n",
      " |  Class methods defined here:\n",
      " |  \n",
      " |  generate_key() -> bytes from builtins.type\n",
      " |  \n",
      " |  ----------------------------------------------------------------------\n",
      " |  Data descriptors defined here:\n",
      " |  \n",
      " |  __dict__\n",
      " |      dictionary for instance variables (if defined)\n",
      " |  \n",
      " |  __weakref__\n",
      " |      list of weak references to the object (if defined)\n",
      "\n"
     ]
    }
   ],
   "source": [
    "help(Fernet)"
   ]
  },
  {
   "cell_type": "code",
   "execution_count": 12,
   "id": "161cc9d7",
   "metadata": {},
   "outputs": [
    {
     "name": "stdout",
     "output_type": "stream",
     "text": [
      "b'gAAAAABlO1gTnDhvhepHzhJ1yaHx-m7C9772VihL--Aa5zC8HZz_Pcwn3ost_Fz4Kj6hqmBxGwjhbrde0Yx496tV8yNi6Z9AbsO1ELem9hAB6jV64p0aPT8='\n",
      "b'my deep dark secret'\n"
     ]
    }
   ],
   "source": [
    "from cryptography.fernet import Fernet\n",
    "key = Fernet.generate_key()\n",
    "f = Fernet(key)\n",
    "token = f.encrypt(b\"my deep dark secret\")\n",
    "print(token)\n",
    "print(f.decrypt(token))\n",
    "#b'my deep dark secret'"
   ]
  },
  {
   "cell_type": "code",
   "execution_count": null,
   "id": "0849d814",
   "metadata": {},
   "outputs": [],
   "source": []
  }
 ],
 "metadata": {
  "kernelspec": {
   "display_name": "Python 3 (ipykernel)",
   "language": "python",
   "name": "python3"
  },
  "language_info": {
   "codemirror_mode": {
    "name": "ipython",
    "version": 3
   },
   "file_extension": ".py",
   "mimetype": "text/x-python",
   "name": "python",
   "nbconvert_exporter": "python",
   "pygments_lexer": "ipython3",
   "version": "3.9.13"
  }
 },
 "nbformat": 4,
 "nbformat_minor": 5
}
