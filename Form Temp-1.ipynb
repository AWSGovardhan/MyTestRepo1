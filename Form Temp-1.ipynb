{
 "cells": [
  {
   "cell_type": "code",
   "execution_count": 2,
   "id": "8c81d3a1",
   "metadata": {},
   "outputs": [],
   "source": [
    "import functools"
   ]
  },
  {
   "cell_type": "code",
   "execution_count": 3,
   "id": "2eeaf8b2",
   "metadata": {},
   "outputs": [
    {
     "name": "stdout",
     "output_type": "stream",
     "text": [
      "Help on module functools:\n",
      "\n",
      "NAME\n",
      "    functools - functools.py - Tools for working with functions and callable objects\n",
      "\n",
      "MODULE REFERENCE\n",
      "    https://docs.python.org/3.9/library/functools\n",
      "    \n",
      "    The following documentation is automatically generated from the Python\n",
      "    source files.  It may be incomplete, incorrect or include features that\n",
      "    are considered implementation detail and may vary between Python\n",
      "    implementations.  When in doubt, consult the module reference at the\n",
      "    location listed above.\n",
      "\n",
      "CLASSES\n",
      "    builtins.object\n",
      "        cached_property\n",
      "        partial\n",
      "        partialmethod\n",
      "        singledispatchmethod\n",
      "    \n",
      "    class cached_property(builtins.object)\n",
      "     |  cached_property(func)\n",
      "     |  \n",
      "     |  Methods defined here:\n",
      "     |  \n",
      "     |  __get__(self, instance, owner=None)\n",
      "     |  \n",
      "     |  __init__(self, func)\n",
      "     |      Initialize self.  See help(type(self)) for accurate signature.\n",
      "     |  \n",
      "     |  __set_name__(self, owner, name)\n",
      "     |  \n",
      "     |  ----------------------------------------------------------------------\n",
      "     |  Class methods defined here:\n",
      "     |  \n",
      "     |  __class_getitem__ = GenericAlias(...) from builtins.type\n",
      "     |      Represent a PEP 585 generic type\n",
      "     |      \n",
      "     |      E.g. for t = list[int], t.__origin__ is list and t.__args__ is (int,).\n",
      "     |  \n",
      "     |  ----------------------------------------------------------------------\n",
      "     |  Data descriptors defined here:\n",
      "     |  \n",
      "     |  __dict__\n",
      "     |      dictionary for instance variables (if defined)\n",
      "     |  \n",
      "     |  __weakref__\n",
      "     |      list of weak references to the object (if defined)\n",
      "    \n",
      "    class partial(builtins.object)\n",
      "     |  partial(func, *args, **keywords) - new function with partial application\n",
      "     |  of the given arguments and keywords.\n",
      "     |  \n",
      "     |  Methods defined here:\n",
      "     |  \n",
      "     |  __call__(self, /, *args, **kwargs)\n",
      "     |      Call self as a function.\n",
      "     |  \n",
      "     |  __delattr__(self, name, /)\n",
      "     |      Implement delattr(self, name).\n",
      "     |  \n",
      "     |  __getattribute__(self, name, /)\n",
      "     |      Return getattr(self, name).\n",
      "     |  \n",
      "     |  __reduce__(...)\n",
      "     |      Helper for pickle.\n",
      "     |  \n",
      "     |  __repr__(self, /)\n",
      "     |      Return repr(self).\n",
      "     |  \n",
      "     |  __setattr__(self, name, value, /)\n",
      "     |      Implement setattr(self, name, value).\n",
      "     |  \n",
      "     |  __setstate__(...)\n",
      "     |  \n",
      "     |  ----------------------------------------------------------------------\n",
      "     |  Class methods defined here:\n",
      "     |  \n",
      "     |  __class_getitem__(...) from builtins.type\n",
      "     |      See PEP 585\n",
      "     |  \n",
      "     |  ----------------------------------------------------------------------\n",
      "     |  Static methods defined here:\n",
      "     |  \n",
      "     |  __new__(*args, **kwargs) from builtins.type\n",
      "     |      Create and return a new object.  See help(type) for accurate signature.\n",
      "     |  \n",
      "     |  ----------------------------------------------------------------------\n",
      "     |  Data descriptors defined here:\n",
      "     |  \n",
      "     |  __dict__\n",
      "     |  \n",
      "     |  args\n",
      "     |      tuple of arguments to future partial calls\n",
      "     |  \n",
      "     |  func\n",
      "     |      function object to use in future partial calls\n",
      "     |  \n",
      "     |  keywords\n",
      "     |      dictionary of keyword arguments to future partial calls\n",
      "    \n",
      "    class partialmethod(builtins.object)\n",
      "     |  partialmethod(func, /, *args, **keywords)\n",
      "     |  \n",
      "     |  Method descriptor with partial application of the given arguments\n",
      "     |  and keywords.\n",
      "     |  \n",
      "     |  Supports wrapping existing descriptors and handles non-descriptor\n",
      "     |  callables as instance methods.\n",
      "     |  \n",
      "     |  Methods defined here:\n",
      "     |  \n",
      "     |  __get__(self, obj, cls=None)\n",
      "     |  \n",
      "     |  __init__(self, func, /, *args, **keywords)\n",
      "     |      Initialize self.  See help(type(self)) for accurate signature.\n",
      "     |  \n",
      "     |  __repr__(self)\n",
      "     |      Return repr(self).\n",
      "     |  \n",
      "     |  ----------------------------------------------------------------------\n",
      "     |  Class methods defined here:\n",
      "     |  \n",
      "     |  __class_getitem__ = GenericAlias(...) from builtins.type\n",
      "     |      Represent a PEP 585 generic type\n",
      "     |      \n",
      "     |      E.g. for t = list[int], t.__origin__ is list and t.__args__ is (int,).\n",
      "     |  \n",
      "     |  ----------------------------------------------------------------------\n",
      "     |  Readonly properties defined here:\n",
      "     |  \n",
      "     |  __isabstractmethod__\n",
      "     |  \n",
      "     |  ----------------------------------------------------------------------\n",
      "     |  Data descriptors defined here:\n",
      "     |  \n",
      "     |  __dict__\n",
      "     |      dictionary for instance variables (if defined)\n",
      "     |  \n",
      "     |  __weakref__\n",
      "     |      list of weak references to the object (if defined)\n",
      "    \n",
      "    class singledispatchmethod(builtins.object)\n",
      "     |  singledispatchmethod(func)\n",
      "     |  \n",
      "     |  Single-dispatch generic method descriptor.\n",
      "     |  \n",
      "     |  Supports wrapping existing descriptors and handles non-descriptor\n",
      "     |  callables as instance methods.\n",
      "     |  \n",
      "     |  Methods defined here:\n",
      "     |  \n",
      "     |  __get__(self, obj, cls=None)\n",
      "     |  \n",
      "     |  __init__(self, func)\n",
      "     |      Initialize self.  See help(type(self)) for accurate signature.\n",
      "     |  \n",
      "     |  register(self, cls, method=None)\n",
      "     |      generic_method.register(cls, func) -> func\n",
      "     |      \n",
      "     |      Registers a new implementation for the given *cls* on a *generic_method*.\n",
      "     |  \n",
      "     |  ----------------------------------------------------------------------\n",
      "     |  Readonly properties defined here:\n",
      "     |  \n",
      "     |  __isabstractmethod__\n",
      "     |  \n",
      "     |  ----------------------------------------------------------------------\n",
      "     |  Data descriptors defined here:\n",
      "     |  \n",
      "     |  __dict__\n",
      "     |      dictionary for instance variables (if defined)\n",
      "     |  \n",
      "     |  __weakref__\n",
      "     |      list of weak references to the object (if defined)\n",
      "\n",
      "FUNCTIONS\n",
      "    cache(user_function, /)\n",
      "        Simple lightweight unbounded cache.  Sometimes called \"memoize\".\n",
      "    \n",
      "    cmp_to_key(...)\n",
      "        Convert a cmp= function into a key= function.\n",
      "    \n",
      "    lru_cache(maxsize=128, typed=False)\n",
      "        Least-recently-used cache decorator.\n",
      "        \n",
      "        If *maxsize* is set to None, the LRU features are disabled and the cache\n",
      "        can grow without bound.\n",
      "        \n",
      "        If *typed* is True, arguments of different types will be cached separately.\n",
      "        For example, f(3.0) and f(3) will be treated as distinct calls with\n",
      "        distinct results.\n",
      "        \n",
      "        Arguments to the cached function must be hashable.\n",
      "        \n",
      "        View the cache statistics named tuple (hits, misses, maxsize, currsize)\n",
      "        with f.cache_info().  Clear the cache and statistics with f.cache_clear().\n",
      "        Access the underlying function with f.__wrapped__.\n",
      "        \n",
      "        See:  https://en.wikipedia.org/wiki/Cache_replacement_policies#Least_recently_used_(LRU)\n",
      "    \n",
      "    reduce(...)\n",
      "        reduce(function, sequence[, initial]) -> value\n",
      "        \n",
      "        Apply a function of two arguments cumulatively to the items of a sequence,\n",
      "        from left to right, so as to reduce the sequence to a single value.\n",
      "        For example, reduce(lambda x, y: x+y, [1, 2, 3, 4, 5]) calculates\n",
      "        ((((1+2)+3)+4)+5).  If initial is present, it is placed before the items\n",
      "        of the sequence in the calculation, and serves as a default when the\n",
      "        sequence is empty.\n",
      "    \n",
      "    singledispatch(func)\n",
      "        Single-dispatch generic function decorator.\n",
      "        \n",
      "        Transforms a function into a generic function, which can have different\n",
      "        behaviours depending upon the type of its first argument. The decorated\n",
      "        function acts as the default implementation, and additional\n",
      "        implementations can be registered using the register() attribute of the\n",
      "        generic function.\n",
      "    \n",
      "    total_ordering(cls)\n",
      "        Class decorator that fills in missing ordering methods\n",
      "    \n",
      "    update_wrapper(wrapper, wrapped, assigned=('__module__', '__name__', '__qualname__', '__doc__', '__annotations__'), updated=('__dict__',))\n",
      "        Update a wrapper function to look like the wrapped function\n",
      "        \n",
      "        wrapper is the function to be updated\n",
      "        wrapped is the original function\n",
      "        assigned is a tuple naming the attributes assigned directly\n",
      "        from the wrapped function to the wrapper function (defaults to\n",
      "        functools.WRAPPER_ASSIGNMENTS)\n",
      "        updated is a tuple naming the attributes of the wrapper that\n",
      "        are updated with the corresponding attribute from the wrapped\n",
      "        function (defaults to functools.WRAPPER_UPDATES)\n",
      "    \n",
      "    wraps(wrapped, assigned=('__module__', '__name__', '__qualname__', '__doc__', '__annotations__'), updated=('__dict__',))\n",
      "        Decorator factory to apply update_wrapper() to a wrapper function\n",
      "        \n",
      "        Returns a decorator that invokes update_wrapper() with the decorated\n",
      "        function as the wrapper argument and the arguments to wraps() as the\n",
      "        remaining arguments. Default arguments are as for update_wrapper().\n",
      "        This is a convenience function to simplify applying partial() to\n",
      "        update_wrapper().\n",
      "\n",
      "DATA\n",
      "    WRAPPER_ASSIGNMENTS = ('__module__', '__name__', '__qualname__', '__do...\n",
      "    WRAPPER_UPDATES = ('__dict__',)\n",
      "    __all__ = ['update_wrapper', 'wraps', 'WRAPPER_ASSIGNMENTS', 'WRAPPER_...\n",
      "\n",
      "FILE\n",
      "    c:\\users\\mechknow\\anaconda3\\lib\\functools.py\n",
      "\n",
      "\n"
     ]
    }
   ],
   "source": [
    "help(functools)"
   ]
  },
  {
   "cell_type": "code",
   "execution_count": 4,
   "id": "d5ad9882",
   "metadata": {},
   "outputs": [
    {
     "ename": "NameError",
     "evalue": "name 'itertools' is not defined",
     "output_type": "error",
     "traceback": [
      "\u001b[1;31m---------------------------------------------------------------------------\u001b[0m",
      "\u001b[1;31mNameError\u001b[0m                                 Traceback (most recent call last)",
      "Cell \u001b[1;32mIn[4], line 1\u001b[0m\n\u001b[1;32m----> 1\u001b[0m help(\u001b[43mitertools\u001b[49m)\n",
      "\u001b[1;31mNameError\u001b[0m: name 'itertools' is not defined"
     ]
    }
   ],
   "source": [
    "help(itertools)"
   ]
  },
  {
   "cell_type": "code",
   "execution_count": 5,
   "id": "43226a08",
   "metadata": {},
   "outputs": [],
   "source": [
    "import itertools"
   ]
  },
  {
   "cell_type": "code",
   "execution_count": 6,
   "id": "3de84559",
   "metadata": {},
   "outputs": [
    {
     "name": "stdout",
     "output_type": "stream",
     "text": [
      "Help on built-in module itertools:\n",
      "\n",
      "NAME\n",
      "    itertools - Functional tools for creating and using iterators.\n",
      "\n",
      "DESCRIPTION\n",
      "    Infinite iterators:\n",
      "    count(start=0, step=1) --> start, start+step, start+2*step, ...\n",
      "    cycle(p) --> p0, p1, ... plast, p0, p1, ...\n",
      "    repeat(elem [,n]) --> elem, elem, elem, ... endlessly or up to n times\n",
      "    \n",
      "    Iterators terminating on the shortest input sequence:\n",
      "    accumulate(p[, func]) --> p0, p0+p1, p0+p1+p2\n",
      "    chain(p, q, ...) --> p0, p1, ... plast, q0, q1, ...\n",
      "    chain.from_iterable([p, q, ...]) --> p0, p1, ... plast, q0, q1, ...\n",
      "    compress(data, selectors) --> (d[0] if s[0]), (d[1] if s[1]), ...\n",
      "    dropwhile(pred, seq) --> seq[n], seq[n+1], starting when pred fails\n",
      "    groupby(iterable[, keyfunc]) --> sub-iterators grouped by value of keyfunc(v)\n",
      "    filterfalse(pred, seq) --> elements of seq where pred(elem) is False\n",
      "    islice(seq, [start,] stop [, step]) --> elements from\n",
      "           seq[start:stop:step]\n",
      "    starmap(fun, seq) --> fun(*seq[0]), fun(*seq[1]), ...\n",
      "    tee(it, n=2) --> (it1, it2 , ... itn) splits one iterator into n\n",
      "    takewhile(pred, seq) --> seq[0], seq[1], until pred fails\n",
      "    zip_longest(p, q, ...) --> (p[0], q[0]), (p[1], q[1]), ...\n",
      "    \n",
      "    Combinatoric generators:\n",
      "    product(p, q, ... [repeat=1]) --> cartesian product\n",
      "    permutations(p[, r])\n",
      "    combinations(p, r)\n",
      "    combinations_with_replacement(p, r)\n",
      "\n",
      "CLASSES\n",
      "    builtins.object\n",
      "        accumulate\n",
      "        chain\n",
      "        combinations\n",
      "        combinations_with_replacement\n",
      "        compress\n",
      "        count\n",
      "        cycle\n",
      "        dropwhile\n",
      "        filterfalse\n",
      "        groupby\n",
      "        islice\n",
      "        permutations\n",
      "        product\n",
      "        repeat\n",
      "        starmap\n",
      "        takewhile\n",
      "        zip_longest\n",
      "    \n",
      "    class accumulate(builtins.object)\n",
      "     |  accumulate(iterable, func=None, *, initial=None)\n",
      "     |  \n",
      "     |  Return series of accumulated sums (or other binary function results).\n",
      "     |  \n",
      "     |  Methods defined here:\n",
      "     |  \n",
      "     |  __getattribute__(self, name, /)\n",
      "     |      Return getattr(self, name).\n",
      "     |  \n",
      "     |  __iter__(self, /)\n",
      "     |      Implement iter(self).\n",
      "     |  \n",
      "     |  __next__(self, /)\n",
      "     |      Implement next(self).\n",
      "     |  \n",
      "     |  __reduce__(...)\n",
      "     |      Return state information for pickling.\n",
      "     |  \n",
      "     |  __setstate__(...)\n",
      "     |      Set state information for unpickling.\n",
      "     |  \n",
      "     |  ----------------------------------------------------------------------\n",
      "     |  Static methods defined here:\n",
      "     |  \n",
      "     |  __new__(*args, **kwargs) from builtins.type\n",
      "     |      Create and return a new object.  See help(type) for accurate signature.\n",
      "    \n",
      "    class chain(builtins.object)\n",
      "     |  chain(*iterables) --> chain object\n",
      "     |  \n",
      "     |  Return a chain object whose .__next__() method returns elements from the\n",
      "     |  first iterable until it is exhausted, then elements from the next\n",
      "     |  iterable, until all of the iterables are exhausted.\n",
      "     |  \n",
      "     |  Methods defined here:\n",
      "     |  \n",
      "     |  __getattribute__(self, name, /)\n",
      "     |      Return getattr(self, name).\n",
      "     |  \n",
      "     |  __iter__(self, /)\n",
      "     |      Implement iter(self).\n",
      "     |  \n",
      "     |  __next__(self, /)\n",
      "     |      Implement next(self).\n",
      "     |  \n",
      "     |  __reduce__(...)\n",
      "     |      Return state information for pickling.\n",
      "     |  \n",
      "     |  __setstate__(...)\n",
      "     |      Set state information for unpickling.\n",
      "     |  \n",
      "     |  ----------------------------------------------------------------------\n",
      "     |  Class methods defined here:\n",
      "     |  \n",
      "     |  __class_getitem__(...) from builtins.type\n",
      "     |      See PEP 585\n",
      "     |  \n",
      "     |  from_iterable(iterable, /) from builtins.type\n",
      "     |      Alternative chain() constructor taking a single iterable argument that evaluates lazily.\n",
      "     |  \n",
      "     |  ----------------------------------------------------------------------\n",
      "     |  Static methods defined here:\n",
      "     |  \n",
      "     |  __new__(*args, **kwargs) from builtins.type\n",
      "     |      Create and return a new object.  See help(type) for accurate signature.\n",
      "    \n",
      "    class combinations(builtins.object)\n",
      "     |  combinations(iterable, r)\n",
      "     |  \n",
      "     |  Return successive r-length combinations of elements in the iterable.\n",
      "     |  \n",
      "     |  combinations(range(4), 3) --> (0,1,2), (0,1,3), (0,2,3), (1,2,3)\n",
      "     |  \n",
      "     |  Methods defined here:\n",
      "     |  \n",
      "     |  __getattribute__(self, name, /)\n",
      "     |      Return getattr(self, name).\n",
      "     |  \n",
      "     |  __iter__(self, /)\n",
      "     |      Implement iter(self).\n",
      "     |  \n",
      "     |  __next__(self, /)\n",
      "     |      Implement next(self).\n",
      "     |  \n",
      "     |  __reduce__(...)\n",
      "     |      Return state information for pickling.\n",
      "     |  \n",
      "     |  __setstate__(...)\n",
      "     |      Set state information for unpickling.\n",
      "     |  \n",
      "     |  __sizeof__(...)\n",
      "     |      Returns size in memory, in bytes.\n",
      "     |  \n",
      "     |  ----------------------------------------------------------------------\n",
      "     |  Static methods defined here:\n",
      "     |  \n",
      "     |  __new__(*args, **kwargs) from builtins.type\n",
      "     |      Create and return a new object.  See help(type) for accurate signature.\n",
      "    \n",
      "    class combinations_with_replacement(builtins.object)\n",
      "     |  combinations_with_replacement(iterable, r)\n",
      "     |  \n",
      "     |  Return successive r-length combinations of elements in the iterable allowing individual elements to have successive repeats.\n",
      "     |  \n",
      "     |  combinations_with_replacement('ABC', 2) --> ('A','A'), ('A','B'), ('A','C'), ('B','B'), ('B','C'), ('C','C')\n",
      "     |  \n",
      "     |  Methods defined here:\n",
      "     |  \n",
      "     |  __getattribute__(self, name, /)\n",
      "     |      Return getattr(self, name).\n",
      "     |  \n",
      "     |  __iter__(self, /)\n",
      "     |      Implement iter(self).\n",
      "     |  \n",
      "     |  __next__(self, /)\n",
      "     |      Implement next(self).\n",
      "     |  \n",
      "     |  __reduce__(...)\n",
      "     |      Return state information for pickling.\n",
      "     |  \n",
      "     |  __setstate__(...)\n",
      "     |      Set state information for unpickling.\n",
      "     |  \n",
      "     |  __sizeof__(...)\n",
      "     |      Returns size in memory, in bytes.\n",
      "     |  \n",
      "     |  ----------------------------------------------------------------------\n",
      "     |  Static methods defined here:\n",
      "     |  \n",
      "     |  __new__(*args, **kwargs) from builtins.type\n",
      "     |      Create and return a new object.  See help(type) for accurate signature.\n",
      "    \n",
      "    class compress(builtins.object)\n",
      "     |  compress(data, selectors)\n",
      "     |  \n",
      "     |  Return data elements corresponding to true selector elements.\n",
      "     |  \n",
      "     |  Forms a shorter iterator from selected data elements using the selectors to\n",
      "     |  choose the data elements.\n",
      "     |  \n",
      "     |  Methods defined here:\n",
      "     |  \n",
      "     |  __getattribute__(self, name, /)\n",
      "     |      Return getattr(self, name).\n",
      "     |  \n",
      "     |  __iter__(self, /)\n",
      "     |      Implement iter(self).\n",
      "     |  \n",
      "     |  __next__(self, /)\n",
      "     |      Implement next(self).\n",
      "     |  \n",
      "     |  __reduce__(...)\n",
      "     |      Return state information for pickling.\n",
      "     |  \n",
      "     |  ----------------------------------------------------------------------\n",
      "     |  Static methods defined here:\n",
      "     |  \n",
      "     |  __new__(*args, **kwargs) from builtins.type\n",
      "     |      Create and return a new object.  See help(type) for accurate signature.\n",
      "    \n",
      "    class count(builtins.object)\n",
      "     |  count(start=0, step=1)\n",
      "     |  \n",
      "     |  Return a count object whose .__next__() method returns consecutive values.\n",
      "     |  \n",
      "     |  Equivalent to:\n",
      "     |      def count(firstval=0, step=1):\n",
      "     |          x = firstval\n",
      "     |          while 1:\n",
      "     |              yield x\n",
      "     |              x += step\n",
      "     |  \n",
      "     |  Methods defined here:\n",
      "     |  \n",
      "     |  __getattribute__(self, name, /)\n",
      "     |      Return getattr(self, name).\n",
      "     |  \n",
      "     |  __iter__(self, /)\n",
      "     |      Implement iter(self).\n",
      "     |  \n",
      "     |  __next__(self, /)\n",
      "     |      Implement next(self).\n",
      "     |  \n",
      "     |  __reduce__(...)\n",
      "     |      Return state information for pickling.\n",
      "     |  \n",
      "     |  __repr__(self, /)\n",
      "     |      Return repr(self).\n",
      "     |  \n",
      "     |  ----------------------------------------------------------------------\n",
      "     |  Static methods defined here:\n",
      "     |  \n",
      "     |  __new__(*args, **kwargs) from builtins.type\n",
      "     |      Create and return a new object.  See help(type) for accurate signature.\n",
      "    \n",
      "    class cycle(builtins.object)\n",
      "     |  cycle(iterable, /)\n",
      "     |  \n",
      "     |  Return elements from the iterable until it is exhausted. Then repeat the sequence indefinitely.\n",
      "     |  \n",
      "     |  Methods defined here:\n",
      "     |  \n",
      "     |  __getattribute__(self, name, /)\n",
      "     |      Return getattr(self, name).\n",
      "     |  \n",
      "     |  __iter__(self, /)\n",
      "     |      Implement iter(self).\n",
      "     |  \n",
      "     |  __next__(self, /)\n",
      "     |      Implement next(self).\n",
      "     |  \n",
      "     |  __reduce__(...)\n",
      "     |      Return state information for pickling.\n",
      "     |  \n",
      "     |  __setstate__(...)\n",
      "     |      Set state information for unpickling.\n",
      "     |  \n",
      "     |  ----------------------------------------------------------------------\n",
      "     |  Static methods defined here:\n",
      "     |  \n",
      "     |  __new__(*args, **kwargs) from builtins.type\n",
      "     |      Create and return a new object.  See help(type) for accurate signature.\n",
      "    \n",
      "    class dropwhile(builtins.object)\n",
      "     |  dropwhile(predicate, iterable, /)\n",
      "     |  \n",
      "     |  Drop items from the iterable while predicate(item) is true.\n",
      "     |  \n",
      "     |  Afterwards, return every element until the iterable is exhausted.\n",
      "     |  \n",
      "     |  Methods defined here:\n",
      "     |  \n",
      "     |  __getattribute__(self, name, /)\n",
      "     |      Return getattr(self, name).\n",
      "     |  \n",
      "     |  __iter__(self, /)\n",
      "     |      Implement iter(self).\n",
      "     |  \n",
      "     |  __next__(self, /)\n",
      "     |      Implement next(self).\n",
      "     |  \n",
      "     |  __reduce__(...)\n",
      "     |      Return state information for pickling.\n",
      "     |  \n",
      "     |  __setstate__(...)\n",
      "     |      Set state information for unpickling.\n",
      "     |  \n",
      "     |  ----------------------------------------------------------------------\n",
      "     |  Static methods defined here:\n",
      "     |  \n",
      "     |  __new__(*args, **kwargs) from builtins.type\n",
      "     |      Create and return a new object.  See help(type) for accurate signature.\n",
      "    \n",
      "    class filterfalse(builtins.object)\n",
      "     |  filterfalse(function, iterable, /)\n",
      "     |  \n",
      "     |  Return those items of iterable for which function(item) is false.\n",
      "     |  \n",
      "     |  If function is None, return the items that are false.\n",
      "     |  \n",
      "     |  Methods defined here:\n",
      "     |  \n",
      "     |  __getattribute__(self, name, /)\n",
      "     |      Return getattr(self, name).\n",
      "     |  \n",
      "     |  __iter__(self, /)\n",
      "     |      Implement iter(self).\n",
      "     |  \n",
      "     |  __next__(self, /)\n",
      "     |      Implement next(self).\n",
      "     |  \n",
      "     |  __reduce__(...)\n",
      "     |      Return state information for pickling.\n",
      "     |  \n",
      "     |  ----------------------------------------------------------------------\n",
      "     |  Static methods defined here:\n",
      "     |  \n",
      "     |  __new__(*args, **kwargs) from builtins.type\n",
      "     |      Create and return a new object.  See help(type) for accurate signature.\n",
      "    \n",
      "    class groupby(builtins.object)\n",
      "     |  groupby(iterable, key=None)\n",
      "     |  \n",
      "     |  make an iterator that returns consecutive keys and groups from the iterable\n",
      "     |  \n",
      "     |  iterable\n",
      "     |    Elements to divide into groups according to the key function.\n",
      "     |  key\n",
      "     |    A function for computing the group category for each element.\n",
      "     |    If the key function is not specified or is None, the element itself\n",
      "     |    is used for grouping.\n",
      "     |  \n",
      "     |  Methods defined here:\n",
      "     |  \n",
      "     |  __getattribute__(self, name, /)\n",
      "     |      Return getattr(self, name).\n",
      "     |  \n",
      "     |  __iter__(self, /)\n",
      "     |      Implement iter(self).\n",
      "     |  \n",
      "     |  __next__(self, /)\n",
      "     |      Implement next(self).\n",
      "     |  \n",
      "     |  __reduce__(...)\n",
      "     |      Return state information for pickling.\n",
      "     |  \n",
      "     |  __setstate__(...)\n",
      "     |      Set state information for unpickling.\n",
      "     |  \n",
      "     |  ----------------------------------------------------------------------\n",
      "     |  Static methods defined here:\n",
      "     |  \n",
      "     |  __new__(*args, **kwargs) from builtins.type\n",
      "     |      Create and return a new object.  See help(type) for accurate signature.\n",
      "    \n",
      "    class islice(builtins.object)\n",
      "     |  islice(iterable, stop) --> islice object\n",
      "     |  islice(iterable, start, stop[, step]) --> islice object\n",
      "     |  \n",
      "     |  Return an iterator whose next() method returns selected values from an\n",
      "     |  iterable.  If start is specified, will skip all preceding elements;\n",
      "     |  otherwise, start defaults to zero.  Step defaults to one.  If\n",
      "     |  specified as another value, step determines how many values are\n",
      "     |  skipped between successive calls.  Works like a slice() on a list\n",
      "     |  but returns an iterator.\n",
      "     |  \n",
      "     |  Methods defined here:\n",
      "     |  \n",
      "     |  __getattribute__(self, name, /)\n",
      "     |      Return getattr(self, name).\n",
      "     |  \n",
      "     |  __iter__(self, /)\n",
      "     |      Implement iter(self).\n",
      "     |  \n",
      "     |  __next__(self, /)\n",
      "     |      Implement next(self).\n",
      "     |  \n",
      "     |  __reduce__(...)\n",
      "     |      Return state information for pickling.\n",
      "     |  \n",
      "     |  __setstate__(...)\n",
      "     |      Set state information for unpickling.\n",
      "     |  \n",
      "     |  ----------------------------------------------------------------------\n",
      "     |  Static methods defined here:\n",
      "     |  \n",
      "     |  __new__(*args, **kwargs) from builtins.type\n",
      "     |      Create and return a new object.  See help(type) for accurate signature.\n",
      "    \n",
      "    class permutations(builtins.object)\n",
      "     |  permutations(iterable, r=None)\n",
      "     |  \n",
      "     |  Return successive r-length permutations of elements in the iterable.\n",
      "     |  \n",
      "     |  permutations(range(3), 2) --> (0,1), (0,2), (1,0), (1,2), (2,0), (2,1)\n",
      "     |  \n",
      "     |  Methods defined here:\n",
      "     |  \n",
      "     |  __getattribute__(self, name, /)\n",
      "     |      Return getattr(self, name).\n",
      "     |  \n",
      "     |  __iter__(self, /)\n",
      "     |      Implement iter(self).\n",
      "     |  \n",
      "     |  __next__(self, /)\n",
      "     |      Implement next(self).\n",
      "     |  \n",
      "     |  __reduce__(...)\n",
      "     |      Return state information for pickling.\n",
      "     |  \n",
      "     |  __setstate__(...)\n",
      "     |      Set state information for unpickling.\n",
      "     |  \n",
      "     |  __sizeof__(...)\n",
      "     |      Returns size in memory, in bytes.\n",
      "     |  \n",
      "     |  ----------------------------------------------------------------------\n",
      "     |  Static methods defined here:\n",
      "     |  \n",
      "     |  __new__(*args, **kwargs) from builtins.type\n",
      "     |      Create and return a new object.  See help(type) for accurate signature.\n",
      "    \n",
      "    class product(builtins.object)\n",
      "     |  product(*iterables, repeat=1) --> product object\n",
      "     |  \n",
      "     |  Cartesian product of input iterables.  Equivalent to nested for-loops.\n",
      "     |  \n",
      "     |  For example, product(A, B) returns the same as:  ((x,y) for x in A for y in B).\n",
      "     |  The leftmost iterators are in the outermost for-loop, so the output tuples\n",
      "     |  cycle in a manner similar to an odometer (with the rightmost element changing\n",
      "     |  on every iteration).\n",
      "     |  \n",
      "     |  To compute the product of an iterable with itself, specify the number\n",
      "     |  of repetitions with the optional repeat keyword argument. For example,\n",
      "     |  product(A, repeat=4) means the same as product(A, A, A, A).\n",
      "     |  \n",
      "     |  product('ab', range(3)) --> ('a',0) ('a',1) ('a',2) ('b',0) ('b',1) ('b',2)\n",
      "     |  product((0,1), (0,1), (0,1)) --> (0,0,0) (0,0,1) (0,1,0) (0,1,1) (1,0,0) ...\n",
      "     |  \n",
      "     |  Methods defined here:\n",
      "     |  \n",
      "     |  __getattribute__(self, name, /)\n",
      "     |      Return getattr(self, name).\n",
      "     |  \n",
      "     |  __iter__(self, /)\n",
      "     |      Implement iter(self).\n",
      "     |  \n",
      "     |  __next__(self, /)\n",
      "     |      Implement next(self).\n",
      "     |  \n",
      "     |  __reduce__(...)\n",
      "     |      Return state information for pickling.\n",
      "     |  \n",
      "     |  __setstate__(...)\n",
      "     |      Set state information for unpickling.\n",
      "     |  \n",
      "     |  __sizeof__(...)\n",
      "     |      Returns size in memory, in bytes.\n",
      "     |  \n",
      "     |  ----------------------------------------------------------------------\n",
      "     |  Static methods defined here:\n",
      "     |  \n",
      "     |  __new__(*args, **kwargs) from builtins.type\n",
      "     |      Create and return a new object.  See help(type) for accurate signature.\n",
      "    \n",
      "    class repeat(builtins.object)\n",
      "     |  repeat(object [,times]) -> create an iterator which returns the object\n",
      "     |  for the specified number of times.  If not specified, returns the object\n",
      "     |  endlessly.\n",
      "     |  \n",
      "     |  Methods defined here:\n",
      "     |  \n",
      "     |  __getattribute__(self, name, /)\n",
      "     |      Return getattr(self, name).\n",
      "     |  \n",
      "     |  __iter__(self, /)\n",
      "     |      Implement iter(self).\n",
      "     |  \n",
      "     |  __length_hint__(...)\n",
      "     |      Private method returning an estimate of len(list(it)).\n",
      "     |  \n",
      "     |  __next__(self, /)\n",
      "     |      Implement next(self).\n",
      "     |  \n",
      "     |  __reduce__(...)\n",
      "     |      Return state information for pickling.\n",
      "     |  \n",
      "     |  __repr__(self, /)\n",
      "     |      Return repr(self).\n",
      "     |  \n",
      "     |  ----------------------------------------------------------------------\n",
      "     |  Static methods defined here:\n",
      "     |  \n",
      "     |  __new__(*args, **kwargs) from builtins.type\n",
      "     |      Create and return a new object.  See help(type) for accurate signature.\n",
      "    \n",
      "    class starmap(builtins.object)\n",
      "     |  starmap(function, iterable, /)\n",
      "     |  \n",
      "     |  Return an iterator whose values are returned from the function evaluated with an argument tuple taken from the given sequence.\n",
      "     |  \n",
      "     |  Methods defined here:\n",
      "     |  \n",
      "     |  __getattribute__(self, name, /)\n",
      "     |      Return getattr(self, name).\n",
      "     |  \n",
      "     |  __iter__(self, /)\n",
      "     |      Implement iter(self).\n",
      "     |  \n",
      "     |  __next__(self, /)\n",
      "     |      Implement next(self).\n",
      "     |  \n",
      "     |  __reduce__(...)\n",
      "     |      Return state information for pickling.\n",
      "     |  \n",
      "     |  ----------------------------------------------------------------------\n",
      "     |  Static methods defined here:\n",
      "     |  \n",
      "     |  __new__(*args, **kwargs) from builtins.type\n",
      "     |      Create and return a new object.  See help(type) for accurate signature.\n",
      "    \n",
      "    class takewhile(builtins.object)\n",
      "     |  takewhile(predicate, iterable, /)\n",
      "     |  \n",
      "     |  Return successive entries from an iterable as long as the predicate evaluates to true for each entry.\n",
      "     |  \n",
      "     |  Methods defined here:\n",
      "     |  \n",
      "     |  __getattribute__(self, name, /)\n",
      "     |      Return getattr(self, name).\n",
      "     |  \n",
      "     |  __iter__(self, /)\n",
      "     |      Implement iter(self).\n",
      "     |  \n",
      "     |  __next__(self, /)\n",
      "     |      Implement next(self).\n",
      "     |  \n",
      "     |  __reduce__(...)\n",
      "     |      Return state information for pickling.\n",
      "     |  \n",
      "     |  __setstate__(...)\n",
      "     |      Set state information for unpickling.\n",
      "     |  \n",
      "     |  ----------------------------------------------------------------------\n",
      "     |  Static methods defined here:\n",
      "     |  \n",
      "     |  __new__(*args, **kwargs) from builtins.type\n",
      "     |      Create and return a new object.  See help(type) for accurate signature.\n",
      "    \n",
      "    class zip_longest(builtins.object)\n",
      "     |  zip_longest(iter1 [,iter2 [...]], [fillvalue=None]) --> zip_longest object\n",
      "     |  \n",
      "     |  Return a zip_longest object whose .__next__() method returns a tuple where\n",
      "     |  the i-th element comes from the i-th iterable argument.  The .__next__()\n",
      "     |  method continues until the longest iterable in the argument sequence\n",
      "     |  is exhausted and then it raises StopIteration.  When the shorter iterables\n",
      "     |  are exhausted, the fillvalue is substituted in their place.  The fillvalue\n",
      "     |  defaults to None or can be specified by a keyword argument.\n",
      "     |  \n",
      "     |  Methods defined here:\n",
      "     |  \n",
      "     |  __getattribute__(self, name, /)\n",
      "     |      Return getattr(self, name).\n",
      "     |  \n",
      "     |  __iter__(self, /)\n",
      "     |      Implement iter(self).\n",
      "     |  \n",
      "     |  __next__(self, /)\n",
      "     |      Implement next(self).\n",
      "     |  \n",
      "     |  __reduce__(...)\n",
      "     |      Return state information for pickling.\n",
      "     |  \n",
      "     |  __setstate__(...)\n",
      "     |      Set state information for unpickling.\n",
      "     |  \n",
      "     |  ----------------------------------------------------------------------\n",
      "     |  Static methods defined here:\n",
      "     |  \n",
      "     |  __new__(*args, **kwargs) from builtins.type\n",
      "     |      Create and return a new object.  See help(type) for accurate signature.\n",
      "\n",
      "FUNCTIONS\n",
      "    tee(iterable, n=2, /)\n",
      "        Returns a tuple of n independent iterators.\n",
      "\n",
      "FILE\n",
      "    (built-in)\n",
      "\n",
      "\n"
     ]
    }
   ],
   "source": [
    "help(itertools)"
   ]
  },
  {
   "cell_type": "code",
   "execution_count": 7,
   "id": "229de140",
   "metadata": {},
   "outputs": [],
   "source": [
    "nums = list(range(1,4))"
   ]
  },
  {
   "cell_type": "code",
   "execution_count": 8,
   "id": "9536c144",
   "metadata": {},
   "outputs": [
    {
     "data": {
      "text/plain": [
       "[1, 2, 3]"
      ]
     },
     "execution_count": 8,
     "metadata": {},
     "output_type": "execute_result"
    }
   ],
   "source": [
    "nums"
   ]
  },
  {
   "cell_type": "code",
   "execution_count": 9,
   "id": "ef510280",
   "metadata": {},
   "outputs": [],
   "source": [
    "comb = itertools.combinations(nums,3)"
   ]
  },
  {
   "cell_type": "code",
   "execution_count": 11,
   "id": "a1043ba3",
   "metadata": {},
   "outputs": [
    {
     "data": {
      "text/plain": [
       "[(1, 2, 3)]"
      ]
     },
     "execution_count": 11,
     "metadata": {},
     "output_type": "execute_result"
    }
   ],
   "source": [
    "list(comb)"
   ]
  },
  {
   "cell_type": "code",
   "execution_count": 14,
   "id": "ba2adf19",
   "metadata": {},
   "outputs": [],
   "source": [
    "perm = itertools.permutations(nums,3)"
   ]
  },
  {
   "cell_type": "code",
   "execution_count": 15,
   "id": "203e72a2",
   "metadata": {},
   "outputs": [
    {
     "data": {
      "text/plain": [
       "[(1, 2, 3), (1, 3, 2), (2, 1, 3), (2, 3, 1), (3, 1, 2), (3, 2, 1)]"
      ]
     },
     "execution_count": 15,
     "metadata": {},
     "output_type": "execute_result"
    }
   ],
   "source": [
    "list(perm)"
   ]
  },
  {
   "cell_type": "code",
   "execution_count": 16,
   "id": "b83417f9",
   "metadata": {},
   "outputs": [],
   "source": [
    "agmt = [\"L\",\"C\",\"R\"]"
   ]
  },
  {
   "cell_type": "code",
   "execution_count": 17,
   "id": "845905bd",
   "metadata": {},
   "outputs": [
    {
     "data": {
      "text/plain": [
       "['L', 'C', 'R']"
      ]
     },
     "execution_count": 17,
     "metadata": {},
     "output_type": "execute_result"
    }
   ],
   "source": [
    "agmt"
   ]
  },
  {
   "cell_type": "code",
   "execution_count": 18,
   "id": "f14b10d5",
   "metadata": {},
   "outputs": [],
   "source": [
    "perm = itertools.permutations(agmt,3)"
   ]
  },
  {
   "cell_type": "code",
   "execution_count": 19,
   "id": "d9a4e925",
   "metadata": {},
   "outputs": [
    {
     "data": {
      "text/plain": [
       "[('L', 'C', 'R'),\n",
       " ('L', 'R', 'C'),\n",
       " ('C', 'L', 'R'),\n",
       " ('C', 'R', 'L'),\n",
       " ('R', 'L', 'C'),\n",
       " ('R', 'C', 'L')]"
      ]
     },
     "execution_count": 19,
     "metadata": {},
     "output_type": "execute_result"
    }
   ],
   "source": [
    "list(perm)"
   ]
  },
  {
   "cell_type": "code",
   "execution_count": 20,
   "id": "69575296",
   "metadata": {},
   "outputs": [],
   "source": [
    "alg = itertools.permutations(agmt,3)"
   ]
  },
  {
   "cell_type": "code",
   "execution_count": 21,
   "id": "4c4fd674",
   "metadata": {},
   "outputs": [
    {
     "data": {
      "text/plain": [
       "[('L', 'C', 'R'),\n",
       " ('L', 'R', 'C'),\n",
       " ('C', 'L', 'R'),\n",
       " ('C', 'R', 'L'),\n",
       " ('R', 'L', 'C'),\n",
       " ('R', 'C', 'L')]"
      ]
     },
     "execution_count": 21,
     "metadata": {},
     "output_type": "execute_result"
    }
   ],
   "source": [
    "list(alg)"
   ]
  },
  {
   "cell_type": "code",
   "execution_count": 23,
   "id": "1d279b93",
   "metadata": {},
   "outputs": [],
   "source": [
    "Hc = [('Ttle','Log'),(\"L\",\"R\",\"C\")]"
   ]
  },
  {
   "cell_type": "code",
   "execution_count": 24,
   "id": "68d94dd6",
   "metadata": {},
   "outputs": [
    {
     "name": "stdout",
     "output_type": "stream",
     "text": [
      "('Ttle', 'Log')\n",
      "('L', 'R', 'C')\n"
     ]
    }
   ],
   "source": [
    "for e in Hc:\n",
    "    print(e)"
   ]
  },
  {
   "cell_type": "code",
   "execution_count": 26,
   "id": "234fac03",
   "metadata": {},
   "outputs": [
    {
     "data": {
      "text/plain": [
       "[('Ttle', 'Log'), ('L', 'R', 'C')]"
      ]
     },
     "execution_count": 26,
     "metadata": {},
     "output_type": "execute_result"
    }
   ],
   "source": [
    "Hc"
   ]
  },
  {
   "cell_type": "code",
   "execution_count": 27,
   "id": "6938fe3c",
   "metadata": {},
   "outputs": [
    {
     "data": {
      "text/plain": [
       "('Ttle', 'Log')"
      ]
     },
     "execution_count": 27,
     "metadata": {},
     "output_type": "execute_result"
    }
   ],
   "source": [
    "Hc[0]"
   ]
  },
  {
   "cell_type": "code",
   "execution_count": 28,
   "id": "81f299a7",
   "metadata": {},
   "outputs": [
    {
     "name": "stdout",
     "output_type": "stream",
     "text": [
      "Ttle\n",
      "Log\n"
     ]
    }
   ],
   "source": [
    "for e in Hc[0]:\n",
    "    print(e)"
   ]
  },
  {
   "cell_type": "code",
   "execution_count": 29,
   "id": "8a8d5576",
   "metadata": {},
   "outputs": [
    {
     "name": "stdout",
     "output_type": "stream",
     "text": [
      "L\n",
      "R\n",
      "C\n"
     ]
    }
   ],
   "source": [
    "for e in Hc[1]:\n",
    "    print(e)"
   ]
  },
  {
   "cell_type": "code",
   "execution_count": 30,
   "id": "394a522e",
   "metadata": {},
   "outputs": [],
   "source": [
    "r1 = []\n",
    "for e in Hc[0]:\n",
    "    for j in Hc[1]:\n",
    "       r1.append(e+' '+j) "
   ]
  },
  {
   "cell_type": "code",
   "execution_count": 31,
   "id": "07a01085",
   "metadata": {},
   "outputs": [
    {
     "data": {
      "text/plain": [
       "['Ttle L', 'Ttle R', 'Ttle C', 'Log L', 'Log R', 'Log C']"
      ]
     },
     "execution_count": 31,
     "metadata": {},
     "output_type": "execute_result"
    }
   ],
   "source": [
    "r1"
   ]
  },
  {
   "cell_type": "code",
   "execution_count": null,
   "id": "02c9147c",
   "metadata": {},
   "outputs": [],
   "source": []
  },
  {
   "cell_type": "code",
   "execution_count": null,
   "id": "2104ea60",
   "metadata": {},
   "outputs": [],
   "source": []
  },
  {
   "cell_type": "code",
   "execution_count": null,
   "id": "f4eb2f81",
   "metadata": {},
   "outputs": [],
   "source": []
  },
  {
   "cell_type": "code",
   "execution_count": 25,
   "id": "02f30271",
   "metadata": {},
   "outputs": [
    {
     "ename": "TypeError",
     "evalue": "'tuple' object cannot be interpreted as an integer",
     "output_type": "error",
     "traceback": [
      "\u001b[1;31m---------------------------------------------------------------------------\u001b[0m",
      "\u001b[1;31mTypeError\u001b[0m                                 Traceback (most recent call last)",
      "Cell \u001b[1;32mIn[25], line 1\u001b[0m\n\u001b[1;32m----> 1\u001b[0m \u001b[38;5;28;01mfor\u001b[39;00m i \u001b[38;5;129;01min\u001b[39;00m \u001b[38;5;28mlen\u001b[39m(\u001b[38;5;28;43mrange\u001b[39;49m\u001b[43m(\u001b[49m\u001b[43mHc\u001b[49m\u001b[43m[\u001b[49m\u001b[38;5;241;43m0\u001b[39;49m\u001b[43m]\u001b[49m\u001b[43m)\u001b[49m):\n\u001b[0;32m      2\u001b[0m     \u001b[38;5;28mprint\u001b[39m(Hc[\u001b[38;5;241m0\u001b[39m][i])\n",
      "\u001b[1;31mTypeError\u001b[0m: 'tuple' object cannot be interpreted as an integer"
     ]
    }
   ],
   "source": [
    "for i in len(range(Hc[0])):\n",
    "    print(Hc[0][i])"
   ]
  },
  {
   "cell_type": "code",
   "execution_count": null,
   "id": "cd7cd141",
   "metadata": {},
   "outputs": [],
   "source": []
  },
  {
   "cell_type": "code",
   "execution_count": null,
   "id": "ff326d18",
   "metadata": {},
   "outputs": [],
   "source": []
  },
  {
   "cell_type": "code",
   "execution_count": null,
   "id": "e9cd8acd",
   "metadata": {},
   "outputs": [],
   "source": [
    "r1 = []\n",
    "for i in range(len(Hc[0])):\n",
    "    r1.append(Hc[])"
   ]
  },
  {
   "cell_type": "code",
   "execution_count": null,
   "id": "ccb16537",
   "metadata": {},
   "outputs": [],
   "source": []
  },
  {
   "cell_type": "code",
   "execution_count": null,
   "id": "95f40cae",
   "metadata": {},
   "outputs": [],
   "source": [
    "##### CGP"
   ]
  },
  {
   "cell_type": "code",
   "execution_count": 33,
   "id": "04ed61a1",
   "metadata": {},
   "outputs": [],
   "source": [
    "# Two tuples to be permuted\n",
    "tuple1 = (1, 2)\n",
    "tuple2 = ('a', 'b')"
   ]
  },
  {
   "cell_type": "code",
   "execution_count": 34,
   "id": "ff0024ee",
   "metadata": {},
   "outputs": [
    {
     "data": {
      "text/plain": [
       "(1, 2)"
      ]
     },
     "execution_count": 34,
     "metadata": {},
     "output_type": "execute_result"
    }
   ],
   "source": [
    "tuple1"
   ]
  },
  {
   "cell_type": "code",
   "execution_count": 35,
   "id": "2d43fd7d",
   "metadata": {},
   "outputs": [
    {
     "data": {
      "text/plain": [
       "('a', 'b')"
      ]
     },
     "execution_count": 35,
     "metadata": {},
     "output_type": "execute_result"
    }
   ],
   "source": [
    "tuple2"
   ]
  },
  {
   "cell_type": "code",
   "execution_count": 36,
   "id": "52a5a3a5",
   "metadata": {},
   "outputs": [
    {
     "data": {
      "text/plain": [
       "(1, 2, 'a', 'b')"
      ]
     },
     "execution_count": 36,
     "metadata": {},
     "output_type": "execute_result"
    }
   ],
   "source": [
    "tuple1 + tuple2"
   ]
  },
  {
   "cell_type": "code",
   "execution_count": 38,
   "id": "a5dd1f51",
   "metadata": {},
   "outputs": [
    {
     "data": {
      "text/plain": [
       "2"
      ]
     },
     "execution_count": 38,
     "metadata": {},
     "output_type": "execute_result"
    }
   ],
   "source": [
    "len(tuple1)"
   ]
  },
  {
   "cell_type": "code",
   "execution_count": 39,
   "id": "f79f6daa",
   "metadata": {},
   "outputs": [
    {
     "data": {
      "text/plain": [
       "2"
      ]
     },
     "execution_count": 39,
     "metadata": {},
     "output_type": "execute_result"
    }
   ],
   "source": [
    "len(tuple2)"
   ]
  },
  {
   "cell_type": "code",
   "execution_count": 37,
   "id": "5c2549e5",
   "metadata": {},
   "outputs": [],
   "source": [
    "from itertools import permutations"
   ]
  },
  {
   "cell_type": "code",
   "execution_count": 43,
   "id": "00cc13c6",
   "metadata": {},
   "outputs": [],
   "source": [
    "res = list(permutations(tuple1+tuple2,len(tuple1)+len(tuple2)))"
   ]
  },
  {
   "cell_type": "code",
   "execution_count": 44,
   "id": "7dfabf08",
   "metadata": {},
   "outputs": [
    {
     "data": {
      "text/plain": [
       "[(1, 2, 'a', 'b'),\n",
       " (1, 2, 'b', 'a'),\n",
       " (1, 'a', 2, 'b'),\n",
       " (1, 'a', 'b', 2),\n",
       " (1, 'b', 2, 'a'),\n",
       " (1, 'b', 'a', 2),\n",
       " (2, 1, 'a', 'b'),\n",
       " (2, 1, 'b', 'a'),\n",
       " (2, 'a', 1, 'b'),\n",
       " (2, 'a', 'b', 1),\n",
       " (2, 'b', 1, 'a'),\n",
       " (2, 'b', 'a', 1),\n",
       " ('a', 1, 2, 'b'),\n",
       " ('a', 1, 'b', 2),\n",
       " ('a', 2, 1, 'b'),\n",
       " ('a', 2, 'b', 1),\n",
       " ('a', 'b', 1, 2),\n",
       " ('a', 'b', 2, 1),\n",
       " ('b', 1, 2, 'a'),\n",
       " ('b', 1, 'a', 2),\n",
       " ('b', 2, 1, 'a'),\n",
       " ('b', 2, 'a', 1),\n",
       " ('b', 'a', 1, 2),\n",
       " ('b', 'a', 2, 1)]"
      ]
     },
     "execution_count": 44,
     "metadata": {},
     "output_type": "execute_result"
    }
   ],
   "source": [
    "res"
   ]
  },
  {
   "cell_type": "code",
   "execution_count": 46,
   "id": "49c3b713",
   "metadata": {},
   "outputs": [
    {
     "data": {
      "text/plain": [
       "24"
      ]
     },
     "execution_count": 46,
     "metadata": {},
     "output_type": "execute_result"
    }
   ],
   "source": [
    "len(res)"
   ]
  },
  {
   "cell_type": "code",
   "execution_count": 45,
   "id": "817f3b82",
   "metadata": {},
   "outputs": [
    {
     "name": "stdout",
     "output_type": "stream",
     "text": [
      "[(1, 2, 'a', 'b'), (1, 2, 'b', 'a'), (1, 'a', 2, 'b'), (1, 'a', 'b', 2), (1, 'b', 2, 'a'), (1, 'b', 'a', 2), (2, 1, 'a', 'b'), (2, 1, 'b', 'a'), (2, 'a', 1, 'b'), (2, 'a', 'b', 1), (2, 'b', 1, 'a'), (2, 'b', 'a', 1), ('a', 1, 2, 'b'), ('a', 1, 'b', 2), ('a', 2, 1, 'b'), ('a', 2, 'b', 1), ('a', 'b', 1, 2), ('a', 'b', 2, 1), ('b', 1, 2, 'a'), ('b', 1, 'a', 2), ('b', 2, 1, 'a'), ('b', 2, 'a', 1), ('b', 'a', 1, 2), ('b', 'a', 2, 1)]\n",
      "24\n"
     ]
    }
   ],
   "source": [
    "from itertools import permutations\n",
    "\n",
    "# Two tuples to be permuted\n",
    "tuple1 = (1, 2)\n",
    "tuple2 = ('a', 'b')\n",
    "\n",
    "# Generate permutations\n",
    "permutations_result = list(permutations(tuple1 + tuple2, len(tuple1) + len(tuple2)))\n",
    "\n",
    "# Print the result\n",
    "print(permutations_result)\n",
    "print(len(permutations_result))"
   ]
  },
  {
   "cell_type": "code",
   "execution_count": 48,
   "id": "acd6843e",
   "metadata": {},
   "outputs": [],
   "source": [
    "t = ('T-L','T-C','T-R')\n",
    "i = ('I-L','I-C','I-R')"
   ]
  },
  {
   "cell_type": "code",
   "execution_count": 49,
   "id": "86af8660",
   "metadata": {},
   "outputs": [],
   "source": [
    "h = [t,i]"
   ]
  },
  {
   "cell_type": "code",
   "execution_count": 50,
   "id": "9f3db3e1",
   "metadata": {},
   "outputs": [
    {
     "data": {
      "text/plain": [
       "[('T-L', 'T-C', 'T-R'), ('I-L', 'I-C', 'I-R')]"
      ]
     },
     "execution_count": 50,
     "metadata": {},
     "output_type": "execute_result"
    }
   ],
   "source": [
    "h"
   ]
  },
  {
   "cell_type": "code",
   "execution_count": 51,
   "id": "e2fb2bcb",
   "metadata": {},
   "outputs": [
    {
     "data": {
      "text/plain": [
       "('T-L', 'T-C', 'T-R')"
      ]
     },
     "execution_count": 51,
     "metadata": {},
     "output_type": "execute_result"
    }
   ],
   "source": [
    "t"
   ]
  },
  {
   "cell_type": "code",
   "execution_count": null,
   "id": "3a9811bf",
   "metadata": {},
   "outputs": [],
   "source": []
  },
  {
   "cell_type": "code",
   "execution_count": null,
   "id": "31dc7111",
   "metadata": {},
   "outputs": [],
   "source": []
  },
  {
   "cell_type": "code",
   "execution_count": 47,
   "id": "36947da7",
   "metadata": {},
   "outputs": [],
   "source": [
    "h = [('T-L','T-C','T-R'),('I-L','I-C','I-R')]"
   ]
  },
  {
   "cell_type": "code",
   "execution_count": 52,
   "id": "93fada8d",
   "metadata": {},
   "outputs": [
    {
     "ename": "TypeError",
     "evalue": "unsupported operand type(s) for +: 'itertools.permutations' and 'itertools.permutations'",
     "output_type": "error",
     "traceback": [
      "\u001b[1;31m---------------------------------------------------------------------------\u001b[0m",
      "\u001b[1;31mTypeError\u001b[0m                                 Traceback (most recent call last)",
      "Cell \u001b[1;32mIn[52], line 1\u001b[0m\n\u001b[1;32m----> 1\u001b[0m r \u001b[38;5;241m=\u001b[39m \u001b[38;5;28mlist\u001b[39m(permutations(\u001b[43mpermutations\u001b[49m\u001b[43m(\u001b[49m\u001b[43mt\u001b[49m\u001b[43m,\u001b[49m\u001b[38;5;241;43m1\u001b[39;49m\u001b[43m)\u001b[49m\u001b[38;5;241;43m+\u001b[39;49m\u001b[43mpermutations\u001b[49m\u001b[43m(\u001b[49m\u001b[43mi\u001b[49m\u001b[43m,\u001b[49m\u001b[38;5;241;43m1\u001b[39;49m\u001b[43m)\u001b[49m,\u001b[38;5;241m2\u001b[39m))\n",
      "\u001b[1;31mTypeError\u001b[0m: unsupported operand type(s) for +: 'itertools.permutations' and 'itertools.permutations'"
     ]
    }
   ],
   "source": [
    "r = list(permutations((list(permutations(t,1))+list(permutations(i,1)),2))"
   ]
  },
  {
   "cell_type": "code",
   "execution_count": null,
   "id": "d385a3ea",
   "metadata": {},
   "outputs": [],
   "source": []
  },
  {
   "cell_type": "code",
   "execution_count": 54,
   "id": "2aff84b3",
   "metadata": {},
   "outputs": [],
   "source": [
    "r = list(permutations((list(permutations(t,1))+list(permutations(i,1))),2))"
   ]
  },
  {
   "cell_type": "code",
   "execution_count": 55,
   "id": "b05bacf5",
   "metadata": {},
   "outputs": [
    {
     "data": {
      "text/plain": [
       "[(('T-L',), ('T-C',)),\n",
       " (('T-L',), ('T-R',)),\n",
       " (('T-L',), ('I-L',)),\n",
       " (('T-L',), ('I-C',)),\n",
       " (('T-L',), ('I-R',)),\n",
       " (('T-C',), ('T-L',)),\n",
       " (('T-C',), ('T-R',)),\n",
       " (('T-C',), ('I-L',)),\n",
       " (('T-C',), ('I-C',)),\n",
       " (('T-C',), ('I-R',)),\n",
       " (('T-R',), ('T-L',)),\n",
       " (('T-R',), ('T-C',)),\n",
       " (('T-R',), ('I-L',)),\n",
       " (('T-R',), ('I-C',)),\n",
       " (('T-R',), ('I-R',)),\n",
       " (('I-L',), ('T-L',)),\n",
       " (('I-L',), ('T-C',)),\n",
       " (('I-L',), ('T-R',)),\n",
       " (('I-L',), ('I-C',)),\n",
       " (('I-L',), ('I-R',)),\n",
       " (('I-C',), ('T-L',)),\n",
       " (('I-C',), ('T-C',)),\n",
       " (('I-C',), ('T-R',)),\n",
       " (('I-C',), ('I-L',)),\n",
       " (('I-C',), ('I-R',)),\n",
       " (('I-R',), ('T-L',)),\n",
       " (('I-R',), ('T-C',)),\n",
       " (('I-R',), ('T-R',)),\n",
       " (('I-R',), ('I-L',)),\n",
       " (('I-R',), ('I-C',))]"
      ]
     },
     "execution_count": 55,
     "metadata": {},
     "output_type": "execute_result"
    }
   ],
   "source": [
    "r"
   ]
  },
  {
   "cell_type": "code",
   "execution_count": 56,
   "id": "325cbad8",
   "metadata": {},
   "outputs": [
    {
     "ename": "AttributeError",
     "evalue": "module 'itertools' has no attribute 'zip'",
     "output_type": "error",
     "traceback": [
      "\u001b[1;31m---------------------------------------------------------------------------\u001b[0m",
      "\u001b[1;31mAttributeError\u001b[0m                            Traceback (most recent call last)",
      "Cell \u001b[1;32mIn[56], line 1\u001b[0m\n\u001b[1;32m----> 1\u001b[0m help(\u001b[43mitertools\u001b[49m\u001b[38;5;241;43m.\u001b[39;49m\u001b[43mzip\u001b[49m)\n",
      "\u001b[1;31mAttributeError\u001b[0m: module 'itertools' has no attribute 'zip'"
     ]
    }
   ],
   "source": [
    "help(itertools.zip)"
   ]
  },
  {
   "cell_type": "code",
   "execution_count": 57,
   "id": "bab800d0",
   "metadata": {},
   "outputs": [
    {
     "ename": "AttributeError",
     "evalue": "module 'functools' has no attribute 'zip'",
     "output_type": "error",
     "traceback": [
      "\u001b[1;31m---------------------------------------------------------------------------\u001b[0m",
      "\u001b[1;31mAttributeError\u001b[0m                            Traceback (most recent call last)",
      "Cell \u001b[1;32mIn[57], line 1\u001b[0m\n\u001b[1;32m----> 1\u001b[0m help(\u001b[43mfunctools\u001b[49m\u001b[38;5;241;43m.\u001b[39;49m\u001b[43mzip\u001b[49m)\n",
      "\u001b[1;31mAttributeError\u001b[0m: module 'functools' has no attribute 'zip'"
     ]
    }
   ],
   "source": [
    "help(functools.zip)"
   ]
  },
  {
   "cell_type": "code",
   "execution_count": 58,
   "id": "845e0e47",
   "metadata": {},
   "outputs": [],
   "source": [
    "res = zip(['HT','HI'],['L','R','C'])"
   ]
  },
  {
   "cell_type": "code",
   "execution_count": 59,
   "id": "5071a18d",
   "metadata": {},
   "outputs": [
    {
     "data": {
      "text/plain": [
       "<zip at 0x292ed251c40>"
      ]
     },
     "execution_count": 59,
     "metadata": {},
     "output_type": "execute_result"
    }
   ],
   "source": [
    "res"
   ]
  },
  {
   "cell_type": "code",
   "execution_count": 60,
   "id": "62160ad2",
   "metadata": {},
   "outputs": [
    {
     "data": {
      "text/plain": [
       "[('HT', 'L'), ('HI', 'R')]"
      ]
     },
     "execution_count": 60,
     "metadata": {},
     "output_type": "execute_result"
    }
   ],
   "source": [
    "list(res)"
   ]
  },
  {
   "cell_type": "code",
   "execution_count": 63,
   "id": "41c12954",
   "metadata": {},
   "outputs": [
    {
     "ename": "SyntaxError",
     "evalue": "invalid syntax (2506972560.py, line 1)",
     "output_type": "error",
     "traceback": [
      "\u001b[1;36m  Cell \u001b[1;32mIn[63], line 1\u001b[1;36m\u001b[0m\n\u001b[1;33m    res = (h,j) for a,b in [['HT','HI'],['L','C','R']]\u001b[0m\n\u001b[1;37m                ^\u001b[0m\n\u001b[1;31mSyntaxError\u001b[0m\u001b[1;31m:\u001b[0m invalid syntax\n"
     ]
    }
   ],
   "source": [
    "res = (h,j) for a,b in [['HT','HI'],['L','C','R']]"
   ]
  },
  {
   "cell_type": "code",
   "execution_count": 65,
   "id": "463257f7",
   "metadata": {},
   "outputs": [],
   "source": [
    "res = list(zip([1,2,3],('a','b','c')))"
   ]
  },
  {
   "cell_type": "code",
   "execution_count": 66,
   "id": "9fad0599",
   "metadata": {},
   "outputs": [
    {
     "data": {
      "text/plain": [
       "[(1, 'a'), (2, 'b'), (3, 'c')]"
      ]
     },
     "execution_count": 66,
     "metadata": {},
     "output_type": "execute_result"
    }
   ],
   "source": [
    "res"
   ]
  },
  {
   "cell_type": "code",
   "execution_count": 67,
   "id": "a60b10ae",
   "metadata": {},
   "outputs": [],
   "source": [
    "Hc = ['T','I']\n",
    "Al = ['L','C',\"R\"]\n"
   ]
  },
  {
   "cell_type": "code",
   "execution_count": 68,
   "id": "97222d20",
   "metadata": {},
   "outputs": [
    {
     "data": {
      "text/plain": [
       "['T', 'I']"
      ]
     },
     "execution_count": 68,
     "metadata": {},
     "output_type": "execute_result"
    }
   ],
   "source": [
    "Hc"
   ]
  },
  {
   "cell_type": "code",
   "execution_count": 69,
   "id": "b6d9e687",
   "metadata": {},
   "outputs": [
    {
     "data": {
      "text/plain": [
       "['L', 'C', 'R']"
      ]
     },
     "execution_count": 69,
     "metadata": {},
     "output_type": "execute_result"
    }
   ],
   "source": [
    "Al"
   ]
  },
  {
   "cell_type": "code",
   "execution_count": 70,
   "id": "860aef40",
   "metadata": {},
   "outputs": [],
   "source": [
    "r = []\n",
    "for e in Hc:\n",
    "    for j in Al:\n",
    "      r.append(list(zip(e,j)))  "
   ]
  },
  {
   "cell_type": "code",
   "execution_count": 71,
   "id": "af60dbb1",
   "metadata": {},
   "outputs": [
    {
     "data": {
      "text/plain": [
       "[[('T', 'L')],\n",
       " [('T', 'C')],\n",
       " [('T', 'R')],\n",
       " [('I', 'L')],\n",
       " [('I', 'C')],\n",
       " [('I', 'R')]]"
      ]
     },
     "execution_count": 71,
     "metadata": {},
     "output_type": "execute_result"
    }
   ],
   "source": [
    "r"
   ]
  },
  {
   "cell_type": "code",
   "execution_count": 72,
   "id": "a6e71cd1",
   "metadata": {},
   "outputs": [],
   "source": [
    "res = permutations(r,2)"
   ]
  },
  {
   "cell_type": "code",
   "execution_count": 74,
   "id": "14fe262e",
   "metadata": {},
   "outputs": [
    {
     "data": {
      "text/plain": [
       "[([('T', 'L')], [('T', 'C')]),\n",
       " ([('T', 'L')], [('T', 'R')]),\n",
       " ([('T', 'L')], [('I', 'L')]),\n",
       " ([('T', 'L')], [('I', 'C')]),\n",
       " ([('T', 'L')], [('I', 'R')]),\n",
       " ([('T', 'C')], [('T', 'L')]),\n",
       " ([('T', 'C')], [('T', 'R')]),\n",
       " ([('T', 'C')], [('I', 'L')]),\n",
       " ([('T', 'C')], [('I', 'C')]),\n",
       " ([('T', 'C')], [('I', 'R')]),\n",
       " ([('T', 'R')], [('T', 'L')]),\n",
       " ([('T', 'R')], [('T', 'C')]),\n",
       " ([('T', 'R')], [('I', 'L')]),\n",
       " ([('T', 'R')], [('I', 'C')]),\n",
       " ([('T', 'R')], [('I', 'R')]),\n",
       " ([('I', 'L')], [('T', 'L')]),\n",
       " ([('I', 'L')], [('T', 'C')]),\n",
       " ([('I', 'L')], [('T', 'R')]),\n",
       " ([('I', 'L')], [('I', 'C')]),\n",
       " ([('I', 'L')], [('I', 'R')]),\n",
       " ([('I', 'C')], [('T', 'L')]),\n",
       " ([('I', 'C')], [('T', 'C')]),\n",
       " ([('I', 'C')], [('T', 'R')]),\n",
       " ([('I', 'C')], [('I', 'L')]),\n",
       " ([('I', 'C')], [('I', 'R')]),\n",
       " ([('I', 'R')], [('T', 'L')]),\n",
       " ([('I', 'R')], [('T', 'C')]),\n",
       " ([('I', 'R')], [('T', 'R')]),\n",
       " ([('I', 'R')], [('I', 'L')]),\n",
       " ([('I', 'R')], [('I', 'C')])]"
      ]
     },
     "execution_count": 74,
     "metadata": {},
     "output_type": "execute_result"
    }
   ],
   "source": [
    "list(res)"
   ]
  },
  {
   "cell_type": "code",
   "execution_count": 75,
   "id": "317e4733",
   "metadata": {},
   "outputs": [],
   "source": [
    "H = [('TL','TC','TR'),('LL','LC','LR')]\n",
    "B = [('DL',\"IR\"),('IL','DR'),('IC','DC')]\n",
    "F = [('P',\"E\",'U','C'),['L','C','R']]"
   ]
  },
  {
   "cell_type": "code",
   "execution_count": 77,
   "id": "10d1198e",
   "metadata": {},
   "outputs": [],
   "source": [
    "FC = ['P',\"E\",'U','C']\n",
    "FA = ['L','C','R']"
   ]
  },
  {
   "cell_type": "code",
   "execution_count": 78,
   "id": "fd212f38",
   "metadata": {},
   "outputs": [
    {
     "name": "stdout",
     "output_type": "stream",
     "text": [
      "1 a\n",
      "2 b\n",
      "3 c\n"
     ]
    }
   ],
   "source": [
    "list1 = [1, 2, 3]\n",
    "list2 = ['a', 'b', 'c']\n",
    "\n",
    "# Unpacking the zipped result\n",
    "for element1, element2 in zip(list1, list2):\n",
    "    print(element1, element2)\n"
   ]
  },
  {
   "cell_type": "code",
   "execution_count": 82,
   "id": "c8bddf45",
   "metadata": {},
   "outputs": [
    {
     "data": {
      "text/plain": [
       "\"'A'\""
      ]
     },
     "execution_count": 82,
     "metadata": {},
     "output_type": "execute_result"
    }
   ],
   "source": [
    "ascii('A')"
   ]
  },
  {
   "cell_type": "code",
   "execution_count": 80,
   "id": "638e5bf5",
   "metadata": {},
   "outputs": [
    {
     "data": {
      "text/plain": [
       "'65'"
      ]
     },
     "execution_count": 80,
     "metadata": {},
     "output_type": "execute_result"
    }
   ],
   "source": [
    "str(65)"
   ]
  },
  {
   "cell_type": "code",
   "execution_count": 81,
   "id": "71daeedb",
   "metadata": {},
   "outputs": [
    {
     "ename": "NameError",
     "evalue": "name 'unicode' is not defined",
     "output_type": "error",
     "traceback": [
      "\u001b[1;31m---------------------------------------------------------------------------\u001b[0m",
      "\u001b[1;31mNameError\u001b[0m                                 Traceback (most recent call last)",
      "Cell \u001b[1;32mIn[81], line 1\u001b[0m\n\u001b[1;32m----> 1\u001b[0m \u001b[43municode\u001b[49m(\u001b[38;5;124m'\u001b[39m\u001b[38;5;124mA\u001b[39m\u001b[38;5;124m'\u001b[39m)\n",
      "\u001b[1;31mNameError\u001b[0m: name 'unicode' is not defined"
     ]
    }
   ],
   "source": [
    "unicode('A')"
   ]
  },
  {
   "cell_type": "code",
   "execution_count": null,
   "id": "ab0d9002",
   "metadata": {},
   "outputs": [],
   "source": []
  },
  {
   "cell_type": "code",
   "execution_count": null,
   "id": "c9efb9bc",
   "metadata": {},
   "outputs": [],
   "source": []
  },
  {
   "cell_type": "code",
   "execution_count": null,
   "id": "8f87f565",
   "metadata": {},
   "outputs": [],
   "source": []
  },
  {
   "cell_type": "code",
   "execution_count": null,
   "id": "3a6dae93",
   "metadata": {},
   "outputs": [],
   "source": []
  },
  {
   "cell_type": "code",
   "execution_count": null,
   "id": "52863a7f",
   "metadata": {},
   "outputs": [],
   "source": []
  },
  {
   "cell_type": "code",
   "execution_count": null,
   "id": "25a27749",
   "metadata": {},
   "outputs": [],
   "source": []
  }
 ],
 "metadata": {
  "kernelspec": {
   "display_name": "Python 3 (ipykernel)",
   "language": "python",
   "name": "python3"
  },
  "language_info": {
   "codemirror_mode": {
    "name": "ipython",
    "version": 3
   },
   "file_extension": ".py",
   "mimetype": "text/x-python",
   "name": "python",
   "nbconvert_exporter": "python",
   "pygments_lexer": "ipython3",
   "version": "3.9.13"
  }
 },
 "nbformat": 4,
 "nbformat_minor": 5
}
