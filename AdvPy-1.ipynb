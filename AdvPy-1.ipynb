{
 "cells": [
  {
   "cell_type": "code",
   "execution_count": 3,
   "id": "b6ee0704",
   "metadata": {},
   "outputs": [],
   "source": [
    "r = [c for c in 'apples']"
   ]
  },
  {
   "cell_type": "code",
   "execution_count": 4,
   "id": "93c8141c",
   "metadata": {},
   "outputs": [
    {
     "data": {
      "text/plain": [
       "['a', 'p', 'p', 'l', 'e', 's']"
      ]
     },
     "execution_count": 4,
     "metadata": {},
     "output_type": "execute_result"
    }
   ],
   "source": [
    "r"
   ]
  },
  {
   "cell_type": "code",
   "execution_count": 5,
   "id": "54c11830",
   "metadata": {},
   "outputs": [],
   "source": [
    "r = [n for n in range(10)]"
   ]
  },
  {
   "cell_type": "code",
   "execution_count": 6,
   "id": "a5c808ec",
   "metadata": {},
   "outputs": [
    {
     "data": {
      "text/plain": [
       "[0, 1, 2, 3, 4, 5, 6, 7, 8, 9]"
      ]
     },
     "execution_count": 6,
     "metadata": {},
     "output_type": "execute_result"
    }
   ],
   "source": [
    "r"
   ]
  },
  {
   "cell_type": "markdown",
   "id": "bbbaf452",
   "metadata": {},
   "source": [
    "```Python\n",
    "[<expr> for <var> in <Container>]\n",
    "\n",
    "[<expr> for <var> in <Container/Function> <Condition>]\n",
    "\n",
    "```"
   ]
  },
  {
   "cell_type": "code",
   "execution_count": 8,
   "id": "46584287",
   "metadata": {},
   "outputs": [],
   "source": [
    "r = [v for v in [1,2,3,4,5]]"
   ]
  },
  {
   "cell_type": "code",
   "execution_count": 9,
   "id": "41311cd2",
   "metadata": {},
   "outputs": [
    {
     "data": {
      "text/plain": [
       "[1, 2, 3, 4, 5]"
      ]
     },
     "execution_count": 9,
     "metadata": {},
     "output_type": "execute_result"
    }
   ],
   "source": [
    "r"
   ]
  },
  {
   "cell_type": "code",
   "execution_count": 10,
   "id": "da0a7413",
   "metadata": {},
   "outputs": [],
   "source": [
    "#Names containing 'A'\n",
    "r = [name for name in ['Apple','Bananna',\"Orange\",'Apricot'] if 'A' in name]"
   ]
  },
  {
   "cell_type": "code",
   "execution_count": 11,
   "id": "d0561a2e",
   "metadata": {},
   "outputs": [
    {
     "data": {
      "text/plain": [
       "['Apple', 'Apricot']"
      ]
     },
     "execution_count": 11,
     "metadata": {},
     "output_type": "execute_result"
    }
   ],
   "source": [
    "r"
   ]
  },
  {
   "cell_type": "code",
   "execution_count": 12,
   "id": "a83a9ab6",
   "metadata": {},
   "outputs": [],
   "source": [
    "#Names in exact 4 characters\n",
    "r = [name for name in ['Ball','Bat','Card','Hat','Pen'] if len(name)==4]"
   ]
  },
  {
   "cell_type": "code",
   "execution_count": 13,
   "id": "e1b2e324",
   "metadata": {},
   "outputs": [
    {
     "data": {
      "text/plain": [
       "['Ball', 'Card']"
      ]
     },
     "execution_count": 13,
     "metadata": {},
     "output_type": "execute_result"
    }
   ],
   "source": [
    "r"
   ]
  },
  {
   "cell_type": "code",
   "execution_count": 14,
   "id": "9745ddd5",
   "metadata": {},
   "outputs": [],
   "source": [
    "class TCls1:\n",
    "    def __init__(self,rn):\n",
    "        self.rn= rn\n",
    "        \n",
    "    def getRn(self):\n",
    "        return self.rn\n",
    "    \n",
    "    def setRn(self,newrn):\n",
    "        self.rn = newrn\n",
    "        \n",
    "    rno = property(getRn,setRn)"
   ]
  },
  {
   "cell_type": "code",
   "execution_count": 15,
   "id": "5dfb0cde",
   "metadata": {},
   "outputs": [],
   "source": [
    "a = TCls1(100)"
   ]
  },
  {
   "cell_type": "code",
   "execution_count": 16,
   "id": "13816c2f",
   "metadata": {},
   "outputs": [
    {
     "data": {
      "text/plain": [
       "100"
      ]
     },
     "execution_count": 16,
     "metadata": {},
     "output_type": "execute_result"
    }
   ],
   "source": [
    "a.rno"
   ]
  },
  {
   "cell_type": "code",
   "execution_count": 17,
   "id": "677949f8",
   "metadata": {},
   "outputs": [],
   "source": [
    "a.rno=200"
   ]
  },
  {
   "cell_type": "code",
   "execution_count": 18,
   "id": "50a7143b",
   "metadata": {},
   "outputs": [
    {
     "data": {
      "text/plain": [
       "200"
      ]
     },
     "execution_count": 18,
     "metadata": {},
     "output_type": "execute_result"
    }
   ],
   "source": [
    "a.rno"
   ]
  },
  {
   "cell_type": "code",
   "execution_count": 19,
   "id": "d910eadb",
   "metadata": {},
   "outputs": [],
   "source": [
    "class TCls1:\n",
    "    def __init__(self,rn=0):\n",
    "        self.rn= rn\n",
    "        \n",
    "    def getRn(self):\n",
    "        return self.rn\n",
    "    \n",
    "    def setRn(self,newrn):\n",
    "        self.rn = newrn\n",
    "        \n",
    "    rno = property(getRn,setRn)"
   ]
  },
  {
   "cell_type": "code",
   "execution_count": 20,
   "id": "b37acb96",
   "metadata": {},
   "outputs": [],
   "source": [
    "a = TCls1()"
   ]
  },
  {
   "cell_type": "code",
   "execution_count": 21,
   "id": "56f5adb0",
   "metadata": {},
   "outputs": [
    {
     "data": {
      "text/plain": [
       "0"
      ]
     },
     "execution_count": 21,
     "metadata": {},
     "output_type": "execute_result"
    }
   ],
   "source": [
    "a.rno"
   ]
  },
  {
   "cell_type": "code",
   "execution_count": 22,
   "id": "a3564713",
   "metadata": {},
   "outputs": [],
   "source": [
    "a.rno=20"
   ]
  },
  {
   "cell_type": "code",
   "execution_count": 23,
   "id": "6a35f29e",
   "metadata": {},
   "outputs": [
    {
     "data": {
      "text/plain": [
       "20"
      ]
     },
     "execution_count": 23,
     "metadata": {},
     "output_type": "execute_result"
    }
   ],
   "source": [
    "a.rno"
   ]
  },
  {
   "cell_type": "code",
   "execution_count": 24,
   "id": "b2f4f676",
   "metadata": {},
   "outputs": [
    {
     "data": {
      "text/plain": [
       "20"
      ]
     },
     "execution_count": 24,
     "metadata": {},
     "output_type": "execute_result"
    }
   ],
   "source": [
    "a.rn"
   ]
  },
  {
   "cell_type": "code",
   "execution_count": 25,
   "id": "2deb0d44",
   "metadata": {},
   "outputs": [],
   "source": [
    "a.rn=100"
   ]
  },
  {
   "cell_type": "code",
   "execution_count": 26,
   "id": "b8ea336e",
   "metadata": {},
   "outputs": [
    {
     "data": {
      "text/plain": [
       "100"
      ]
     },
     "execution_count": 26,
     "metadata": {},
     "output_type": "execute_result"
    }
   ],
   "source": [
    "a.rn"
   ]
  },
  {
   "cell_type": "code",
   "execution_count": 27,
   "id": "8d427b39",
   "metadata": {},
   "outputs": [],
   "source": [
    "class TCls1:\n",
    "    def __init__(self,rn=0):\n",
    "        self.__rn= rn\n",
    "        \n",
    "    def getRn(self):\n",
    "        return self.__rn\n",
    "    \n",
    "    def setRn(self,newrn):\n",
    "        self.__rn = newrn\n",
    "        \n",
    "    rno = property(getRn,setRn)"
   ]
  },
  {
   "cell_type": "code",
   "execution_count": 28,
   "id": "52fd1b7d",
   "metadata": {},
   "outputs": [],
   "source": [
    "a = TCls1()"
   ]
  },
  {
   "cell_type": "code",
   "execution_count": 29,
   "id": "60392a88",
   "metadata": {},
   "outputs": [
    {
     "data": {
      "text/plain": [
       "<__main__.TCls1 at 0x25e0995f5b0>"
      ]
     },
     "execution_count": 29,
     "metadata": {},
     "output_type": "execute_result"
    }
   ],
   "source": [
    "a"
   ]
  },
  {
   "cell_type": "code",
   "execution_count": 30,
   "id": "60e8bcd2",
   "metadata": {},
   "outputs": [
    {
     "ename": "AttributeError",
     "evalue": "'TCls1' object has no attribute 'rn'",
     "output_type": "error",
     "traceback": [
      "\u001b[1;31m---------------------------------------------------------------------------\u001b[0m",
      "\u001b[1;31mAttributeError\u001b[0m                            Traceback (most recent call last)",
      "Cell \u001b[1;32mIn[30], line 1\u001b[0m\n\u001b[1;32m----> 1\u001b[0m \u001b[43ma\u001b[49m\u001b[38;5;241;43m.\u001b[39;49m\u001b[43mrn\u001b[49m\n",
      "\u001b[1;31mAttributeError\u001b[0m: 'TCls1' object has no attribute 'rn'"
     ]
    }
   ],
   "source": [
    "a.rn"
   ]
  },
  {
   "cell_type": "code",
   "execution_count": 31,
   "id": "7d597f99",
   "metadata": {},
   "outputs": [
    {
     "data": {
      "text/plain": [
       "0"
      ]
     },
     "execution_count": 31,
     "metadata": {},
     "output_type": "execute_result"
    }
   ],
   "source": [
    "a.rno"
   ]
  },
  {
   "cell_type": "code",
   "execution_count": 32,
   "id": "2b493404",
   "metadata": {},
   "outputs": [],
   "source": [
    "a.rn=200"
   ]
  },
  {
   "cell_type": "code",
   "execution_count": 33,
   "id": "f2615095",
   "metadata": {},
   "outputs": [
    {
     "data": {
      "text/plain": [
       "200"
      ]
     },
     "execution_count": 33,
     "metadata": {},
     "output_type": "execute_result"
    }
   ],
   "source": [
    "a.rn"
   ]
  },
  {
   "cell_type": "code",
   "execution_count": 34,
   "id": "113af0e6",
   "metadata": {},
   "outputs": [
    {
     "data": {
      "text/plain": [
       "0"
      ]
     },
     "execution_count": 34,
     "metadata": {},
     "output_type": "execute_result"
    }
   ],
   "source": [
    "a.rno"
   ]
  },
  {
   "cell_type": "code",
   "execution_count": 35,
   "id": "b7a842b8",
   "metadata": {},
   "outputs": [],
   "source": [
    "def inner():\n",
    "    print('inner exec!!!')\n",
    "    \n",
    "def outer(fn):\n",
    "    fn()\n",
    "    "
   ]
  },
  {
   "cell_type": "code",
   "execution_count": 36,
   "id": "165d6635",
   "metadata": {},
   "outputs": [
    {
     "name": "stdout",
     "output_type": "stream",
     "text": [
      "inner exec!!!\n"
     ]
    }
   ],
   "source": [
    "outer(inner)"
   ]
  },
  {
   "cell_type": "code",
   "execution_count": 37,
   "id": "f61c7f1c",
   "metadata": {},
   "outputs": [],
   "source": [
    "def square(n):\n",
    "    print(n*n)\n",
    "\n",
    "def double(fn,n):\n",
    "    print(\"Double of the number is ::\",n+n)\n",
    "    fn(n)\n",
    "    "
   ]
  },
  {
   "cell_type": "code",
   "execution_count": 38,
   "id": "c13b36ba",
   "metadata": {},
   "outputs": [
    {
     "name": "stdout",
     "output_type": "stream",
     "text": [
      "Double of the number is :: 10\n",
      "25\n"
     ]
    }
   ],
   "source": [
    "double(square,5)"
   ]
  },
  {
   "cell_type": "code",
   "execution_count": 44,
   "id": "8f30f592",
   "metadata": {},
   "outputs": [],
   "source": [
    "def double(n):\n",
    "    print(\"double of\",n,\" is ::\",n+n)\n",
    "def square(fn,n):\n",
    "    print(\"Square of \",n,'is',n**2)\n",
    "    fn(n)\n",
    "def cube(fn1,fn2,n):\n",
    "    print(\"Cube of \",n,'is ::',n**3)\n",
    "    fn1(fn2,n)"
   ]
  },
  {
   "cell_type": "code",
   "execution_count": 45,
   "id": "0b300668",
   "metadata": {},
   "outputs": [
    {
     "name": "stdout",
     "output_type": "stream",
     "text": [
      "Cube of  3 is :: 27\n",
      "Square of  3 is 9\n",
      "double of 3  is :: 6\n"
     ]
    }
   ],
   "source": [
    "cube(square,double,3)"
   ]
  },
  {
   "cell_type": "code",
   "execution_count": null,
   "id": "292c0413",
   "metadata": {},
   "outputs": [],
   "source": []
  },
  {
   "cell_type": "code",
   "execution_count": 46,
   "id": "df397a63",
   "metadata": {},
   "outputs": [],
   "source": [
    "animals = [\"ferret\", \"vole\", \"dog\", \"gecko\"]"
   ]
  },
  {
   "cell_type": "code",
   "execution_count": 47,
   "id": "3db93932",
   "metadata": {},
   "outputs": [
    {
     "data": {
      "text/plain": [
       "['ferret', 'vole', 'dog', 'gecko']"
      ]
     },
     "execution_count": 47,
     "metadata": {},
     "output_type": "execute_result"
    }
   ],
   "source": [
    "animals"
   ]
  },
  {
   "cell_type": "code",
   "execution_count": 48,
   "id": "75592a7a",
   "metadata": {},
   "outputs": [
    {
     "data": {
      "text/plain": [
       "['dog', 'ferret', 'gecko', 'vole']"
      ]
     },
     "execution_count": 48,
     "metadata": {},
     "output_type": "execute_result"
    }
   ],
   "source": [
    "sorted(animals)"
   ]
  },
  {
   "cell_type": "code",
   "execution_count": 49,
   "id": "23c9ed1a",
   "metadata": {},
   "outputs": [
    {
     "data": {
      "text/plain": [
       "['ferret', 'vole', 'dog', 'gecko']"
      ]
     },
     "execution_count": 49,
     "metadata": {},
     "output_type": "execute_result"
    }
   ],
   "source": [
    "animals"
   ]
  },
  {
   "cell_type": "code",
   "execution_count": 50,
   "id": "d83b32eb",
   "metadata": {},
   "outputs": [
    {
     "data": {
      "text/plain": [
       "['dog', 'vole', 'gecko', 'ferret']"
      ]
     },
     "execution_count": 50,
     "metadata": {},
     "output_type": "execute_result"
    }
   ],
   "source": [
    "sorted(animals, key=len)"
   ]
  },
  {
   "cell_type": "code",
   "execution_count": 52,
   "id": "ecbc68fc",
   "metadata": {},
   "outputs": [],
   "source": [
    "def f(a,b,c):\n",
    "    return a+b+c"
   ]
  },
  {
   "cell_type": "code",
   "execution_count": 53,
   "id": "3cbe04b8",
   "metadata": {},
   "outputs": [
    {
     "data": {
      "text/plain": [
       "[111, 222, 333]"
      ]
     },
     "execution_count": 53,
     "metadata": {},
     "output_type": "execute_result"
    }
   ],
   "source": [
    "list(map(f, [1, 2, 3], [10, 20, 30], [100, 200, 300]))"
   ]
  },
  {
   "cell_type": "code",
   "execution_count": null,
   "id": "ce405962",
   "metadata": {},
   "outputs": [],
   "source": []
  }
 ],
 "metadata": {
  "kernelspec": {
   "display_name": "Python 3 (ipykernel)",
   "language": "python",
   "name": "python3"
  },
  "language_info": {
   "codemirror_mode": {
    "name": "ipython",
    "version": 3
   },
   "file_extension": ".py",
   "mimetype": "text/x-python",
   "name": "python",
   "nbconvert_exporter": "python",
   "pygments_lexer": "ipython3",
   "version": "3.9.13"
  }
 },
 "nbformat": 4,
 "nbformat_minor": 5
}
