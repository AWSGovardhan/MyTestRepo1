{
 "cells": [
  {
   "cell_type": "code",
   "execution_count": 1,
   "id": "8599a517",
   "metadata": {},
   "outputs": [],
   "source": [
    "def add(a:int, b:int):\n",
    "    return a+b"
   ]
  },
  {
   "cell_type": "code",
   "execution_count": 2,
   "id": "c94dd546",
   "metadata": {},
   "outputs": [
    {
     "data": {
      "text/plain": [
       "5"
      ]
     },
     "execution_count": 2,
     "metadata": {},
     "output_type": "execute_result"
    }
   ],
   "source": [
    "add(2,3)"
   ]
  },
  {
   "cell_type": "code",
   "execution_count": 3,
   "id": "a591510f",
   "metadata": {},
   "outputs": [
    {
     "data": {
      "text/plain": [
       "7.5"
      ]
     },
     "execution_count": 3,
     "metadata": {},
     "output_type": "execute_result"
    }
   ],
   "source": [
    "add(3,4.5)"
   ]
  },
  {
   "cell_type": "code",
   "execution_count": 4,
   "id": "1b7f58de",
   "metadata": {},
   "outputs": [
    {
     "data": {
      "text/plain": [
       "'helloHi'"
      ]
     },
     "execution_count": 4,
     "metadata": {},
     "output_type": "execute_result"
    }
   ],
   "source": [
    "add('hello','Hi')"
   ]
  },
  {
   "cell_type": "code",
   "execution_count": 5,
   "id": "45e6006c",
   "metadata": {},
   "outputs": [],
   "source": [
    "def shout(s):\n",
    "    return s.upper()"
   ]
  },
  {
   "cell_type": "code",
   "execution_count": 6,
   "id": "71ccae9a",
   "metadata": {},
   "outputs": [
    {
     "data": {
      "text/plain": [
       "'HELLO'"
      ]
     },
     "execution_count": 6,
     "metadata": {},
     "output_type": "execute_result"
    }
   ],
   "source": [
    "shout('hello')"
   ]
  },
  {
   "cell_type": "code",
   "execution_count": 7,
   "id": "c317dcaa",
   "metadata": {},
   "outputs": [],
   "source": [
    "yell = shout"
   ]
  },
  {
   "cell_type": "code",
   "execution_count": 8,
   "id": "7bccb456",
   "metadata": {},
   "outputs": [
    {
     "data": {
      "text/plain": [
       "'GOOD'"
      ]
     },
     "execution_count": 8,
     "metadata": {},
     "output_type": "execute_result"
    }
   ],
   "source": [
    "yell('good')"
   ]
  },
  {
   "cell_type": "code",
   "execution_count": 9,
   "id": "27b27a06",
   "metadata": {},
   "outputs": [],
   "source": [
    "def shout(s):\n",
    "    return s.upper()"
   ]
  },
  {
   "cell_type": "code",
   "execution_count": 10,
   "id": "003d505f",
   "metadata": {},
   "outputs": [],
   "source": [
    "def whisper(s):\n",
    "    return s.lower()"
   ]
  },
  {
   "cell_type": "code",
   "execution_count": 14,
   "id": "6b664f23",
   "metadata": {},
   "outputs": [],
   "source": [
    "def greet(myfn):\n",
    "    res = myfn(\"HeLlo\")\n",
    "    print(res)"
   ]
  },
  {
   "cell_type": "code",
   "execution_count": 15,
   "id": "9288d026",
   "metadata": {},
   "outputs": [
    {
     "name": "stdout",
     "output_type": "stream",
     "text": [
      "HELLO\n"
     ]
    }
   ],
   "source": [
    "greet(shout)"
   ]
  },
  {
   "cell_type": "code",
   "execution_count": 16,
   "id": "41fb7d74",
   "metadata": {},
   "outputs": [
    {
     "name": "stdout",
     "output_type": "stream",
     "text": [
      "hello\n"
     ]
    }
   ],
   "source": [
    "greet(whisper)"
   ]
  },
  {
   "cell_type": "code",
   "execution_count": 17,
   "id": "1c1ad7a7",
   "metadata": {},
   "outputs": [],
   "source": [
    "def addFn(a):\n",
    "    def mulFn(b):\n",
    "        return a*b\n",
    "    return mulFn"
   ]
  },
  {
   "cell_type": "code",
   "execution_count": 18,
   "id": "a5007bdc",
   "metadata": {},
   "outputs": [],
   "source": [
    "r1 = addFn(2)"
   ]
  },
  {
   "cell_type": "code",
   "execution_count": 19,
   "id": "a100d08c",
   "metadata": {},
   "outputs": [
    {
     "data": {
      "text/plain": [
       "10"
      ]
     },
     "execution_count": 19,
     "metadata": {},
     "output_type": "execute_result"
    }
   ],
   "source": [
    "r1(5)"
   ]
  },
  {
   "cell_type": "code",
   "execution_count": 20,
   "id": "89a4a9e5",
   "metadata": {},
   "outputs": [],
   "source": [
    "def num1(n1):\n",
    "    def num2(n2):\n",
    "        return n1-n2\n",
    "    return num2"
   ]
  },
  {
   "cell_type": "code",
   "execution_count": 21,
   "id": "af37d7c3",
   "metadata": {},
   "outputs": [],
   "source": [
    "a = num1(5)"
   ]
  },
  {
   "cell_type": "code",
   "execution_count": 22,
   "id": "d9971b2d",
   "metadata": {},
   "outputs": [
    {
     "data": {
      "text/plain": [
       "-5"
      ]
     },
     "execution_count": 22,
     "metadata": {},
     "output_type": "execute_result"
    }
   ],
   "source": [
    "a(10)"
   ]
  },
  {
   "cell_type": "code",
   "execution_count": 23,
   "id": "542125ce",
   "metadata": {},
   "outputs": [],
   "source": [
    "def principle(amt):\n",
    "    def time(t=1):\n",
    "        def rate(r=5):\n",
    "            return (amt*t*r)/100\n",
    "        return rate\n",
    "    return time"
   ]
  },
  {
   "cell_type": "code",
   "execution_count": 24,
   "id": "14c4224c",
   "metadata": {},
   "outputs": [],
   "source": [
    "a = principle(1000)"
   ]
  },
  {
   "cell_type": "code",
   "execution_count": 26,
   "id": "f578b9c6",
   "metadata": {},
   "outputs": [],
   "source": [
    "b = a(2)"
   ]
  },
  {
   "cell_type": "code",
   "execution_count": 27,
   "id": "844b562c",
   "metadata": {},
   "outputs": [
    {
     "data": {
      "text/plain": [
       "100.0"
      ]
     },
     "execution_count": 27,
     "metadata": {},
     "output_type": "execute_result"
    }
   ],
   "source": [
    "b()"
   ]
  },
  {
   "cell_type": "code",
   "execution_count": 28,
   "id": "c662871c",
   "metadata": {},
   "outputs": [
    {
     "data": {
      "text/plain": [
       "240.0"
      ]
     },
     "execution_count": 28,
     "metadata": {},
     "output_type": "execute_result"
    }
   ],
   "source": [
    "b(12)"
   ]
  },
  {
   "cell_type": "code",
   "execution_count": 29,
   "id": "7167cefd",
   "metadata": {},
   "outputs": [
    {
     "data": {
      "text/plain": [
       "60.0"
      ]
     },
     "execution_count": 29,
     "metadata": {},
     "output_type": "execute_result"
    }
   ],
   "source": [
    "b(3)"
   ]
  },
  {
   "cell_type": "code",
   "execution_count": null,
   "id": "92444808",
   "metadata": {},
   "outputs": [],
   "source": []
  }
 ],
 "metadata": {
  "kernelspec": {
   "display_name": "Python 3 (ipykernel)",
   "language": "python",
   "name": "python3"
  },
  "language_info": {
   "codemirror_mode": {
    "name": "ipython",
    "version": 3
   },
   "file_extension": ".py",
   "mimetype": "text/x-python",
   "name": "python",
   "nbconvert_exporter": "python",
   "pygments_lexer": "ipython3",
   "version": "3.9.13"
  }
 },
 "nbformat": 4,
 "nbformat_minor": 5
}
