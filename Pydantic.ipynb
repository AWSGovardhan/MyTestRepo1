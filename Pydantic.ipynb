{
 "cells": [
  {
   "cell_type": "code",
   "execution_count": null,
   "id": "c9ef2d73",
   "metadata": {},
   "outputs": [],
   "source": [
    "from dataclasses import dataclass\n",
    "from pydantic import BaseModel\n",
    "\n",
    "@dataclass\n",
    "class Bird:\n",
    "   name: str\n",
    "   wingspan: int\n",
    "  \n",
    "class PydanticBird(BaseModel):\n",
    "   name: str\n",
    "   wingspan: int"
   ]
  },
  {
   "cell_type": "code",
   "execution_count": null,
   "id": "3d69a5c9",
   "metadata": {},
   "outputs": [],
   "source": [
    "bird_data = {\"name\": \"Alcedo\", \"wingspan\": 25}"
   ]
  },
  {
   "cell_type": "code",
   "execution_count": null,
   "id": "1f4ed75b",
   "metadata": {},
   "outputs": [],
   "source": [
    "alcedo = Bird(**bird_data)"
   ]
  },
  {
   "cell_type": "code",
   "execution_count": null,
   "id": "bf7d02e6",
   "metadata": {},
   "outputs": [],
   "source": [
    "pydantic_alcedo = PydanticBird(**bird_data)"
   ]
  },
  {
   "cell_type": "code",
   "execution_count": null,
   "id": "7c7d0439",
   "metadata": {},
   "outputs": [],
   "source": []
  },
  {
   "cell_type": "code",
   "execution_count": null,
   "id": "4b966045",
   "metadata": {},
   "outputs": [],
   "source": []
  },
  {
   "cell_type": "code",
   "execution_count": null,
   "id": "320ff6c3",
   "metadata": {},
   "outputs": [],
   "source": []
  }
 ],
 "metadata": {
  "kernelspec": {
   "display_name": "Python 3 (ipykernel)",
   "language": "python",
   "name": "python3"
  }
 },
 "nbformat": 4,
 "nbformat_minor": 5
}
