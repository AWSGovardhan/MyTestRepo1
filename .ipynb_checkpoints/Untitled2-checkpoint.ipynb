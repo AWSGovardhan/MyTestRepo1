{
 "cells": [
  {
   "cell_type": "code",
   "execution_count": 1,
   "id": "a2197b41",
   "metadata": {},
   "outputs": [],
   "source": [
    "def say_hello(name):\n",
    "    return f\"Hello {name}\""
   ]
  },
  {
   "cell_type": "code",
   "execution_count": 2,
   "id": "7be44bd8",
   "metadata": {},
   "outputs": [
    {
     "data": {
      "text/plain": [
       "'Hello Apple'"
      ]
     },
     "execution_count": 2,
     "metadata": {},
     "output_type": "execute_result"
    }
   ],
   "source": [
    "say_hello('Apple')"
   ]
  },
  {
   "cell_type": "code",
   "execution_count": 3,
   "id": "4fa7aac0",
   "metadata": {},
   "outputs": [],
   "source": [
    "def be_awesome(name):\n",
    "    return f\"Yo {name}, together we are the awesomest!\"\n"
   ]
  },
  {
   "cell_type": "code",
   "execution_count": 4,
   "id": "64718532",
   "metadata": {},
   "outputs": [
    {
     "data": {
      "text/plain": [
       "'Yo Apple, together we are the awesomest!'"
      ]
     },
     "execution_count": 4,
     "metadata": {},
     "output_type": "execute_result"
    }
   ],
   "source": [
    "be_awesome('Apple')"
   ]
  },
  {
   "cell_type": "code",
   "execution_count": 5,
   "id": "e9948306",
   "metadata": {},
   "outputs": [],
   "source": [
    "def greet_bob(greeter_func):\n",
    "    return greeter_func(\"Bob\")"
   ]
  },
  {
   "cell_type": "code",
   "execution_count": null,
   "id": "7b1b97dc",
   "metadata": {},
   "outputs": [],
   "source": [
    "greet()"
   ]
  }
 ],
 "metadata": {
  "kernelspec": {
   "display_name": "Python 3 (ipykernel)",
   "language": "python",
   "name": "python3"
  },
  "language_info": {
   "codemirror_mode": {
    "name": "ipython",
    "version": 3
   },
   "file_extension": ".py",
   "mimetype": "text/x-python",
   "name": "python",
   "nbconvert_exporter": "python",
   "pygments_lexer": "ipython3",
   "version": "3.9.13"
  }
 },
 "nbformat": 4,
 "nbformat_minor": 5
}
