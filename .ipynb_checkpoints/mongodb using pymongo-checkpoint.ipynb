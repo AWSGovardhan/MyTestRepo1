{
 "cells": [
  {
   "cell_type": "code",
   "execution_count": 2,
   "id": "63491538",
   "metadata": {},
   "outputs": [],
   "source": [
    "import pymongo as pm"
   ]
  },
  {
   "cell_type": "code",
   "execution_count": 4,
   "id": "b67e0793",
   "metadata": {},
   "outputs": [],
   "source": [
    "\n",
    "# Step 3: Create a MongoClient and connect to the MongoDB server\n",
    "client = pm.MongoClient(\"mongodb://localhost:27017/\")  # You can specify the MongoDB connection URI\n"
   ]
  },
  {
   "cell_type": "code",
   "execution_count": 5,
   "id": "5b1eb78b",
   "metadata": {},
   "outputs": [],
   "source": [
    "\n",
    "# Step 4: Access the database and collection\n",
    "db = client[\"local\"]\n",
    "collection = db[\"samp_coll_1\"]\n",
    "\n"
   ]
  },
  {
   "cell_type": "code",
   "execution_count": 6,
   "id": "d7736f09",
   "metadata": {},
   "outputs": [
    {
     "data": {
      "text/plain": [
       "InsertOneResult(ObjectId('654b426078888da718d1c610'), acknowledged=True)"
      ]
     },
     "execution_count": 6,
     "metadata": {},
     "output_type": "execute_result"
    }
   ],
   "source": [
    "# Now, you can perform various operations on the collection, such as inserting, querying, updating, and deleting documents.\n",
    "\n",
    "# Insert a document into the collection\n",
    "data = {\n",
    "    \"key1\": \"value1\",\n",
    "    \"key2\": \"value2\"\n",
    "}\n",
    "collection.insert_one(data)\n",
    "\n"
   ]
  },
  {
   "cell_type": "code",
   "execution_count": 7,
   "id": "3047f072",
   "metadata": {},
   "outputs": [
    {
     "name": "stdout",
     "output_type": "stream",
     "text": [
      "{'_id': ObjectId('654b426078888da718d1c610'), 'key1': 'value1', 'key2': 'value2'}\n"
     ]
    }
   ],
   "source": [
    "# Query documents from the collection\n",
    "result = collection.find({\"key1\": \"value1\"})\n",
    "for document in result:\n",
    "    print(document)\n",
    "\n"
   ]
  },
  {
   "cell_type": "code",
   "execution_count": 8,
   "id": "94969fda",
   "metadata": {},
   "outputs": [
    {
     "data": {
      "text/plain": [
       "UpdateResult({'n': 1, 'nModified': 1, 'ok': 1.0, 'updatedExisting': True}, acknowledged=True)"
      ]
     },
     "execution_count": 8,
     "metadata": {},
     "output_type": "execute_result"
    }
   ],
   "source": [
    "# Update a document\n",
    "collection.update_one({\"key1\": \"value1\"}, {\"$set\": {\"key2\": \"new_value\"}})\n",
    "\n"
   ]
  },
  {
   "cell_type": "code",
   "execution_count": 9,
   "id": "aef710b3",
   "metadata": {},
   "outputs": [
    {
     "data": {
      "text/plain": [
       "DeleteResult({'n': 1, 'ok': 1.0}, acknowledged=True)"
      ]
     },
     "execution_count": 9,
     "metadata": {},
     "output_type": "execute_result"
    }
   ],
   "source": [
    "# Delete a document\n",
    "collection.delete_one({\"key1\": \"value1\"})\n",
    "\n"
   ]
  },
  {
   "cell_type": "code",
   "execution_count": 10,
   "id": "85afbc75",
   "metadata": {},
   "outputs": [],
   "source": [
    "# Close the MongoDB connection when done\n",
    "client.close()"
   ]
  },
  {
   "cell_type": "markdown",
   "id": "0301c2c9",
   "metadata": {},
   "source": [
    "#### Adding Persons data"
   ]
  },
  {
   "cell_type": "code",
   "execution_count": 11,
   "id": "b6a6c009",
   "metadata": {},
   "outputs": [],
   "source": [
    "\n",
    "# Step 3: Create a MongoClient and connect to the MongoDB server\n",
    "client = pm.MongoClient(\"mongodb://localhost:27017/\")  # You can specify the MongoDB connection URI\n",
    "\n",
    "# Step 4: Access the database and collection\n",
    "db = client[\"local\"]\n",
    "collection = db[\"persons\"]\n",
    "\n",
    "# Now, you can perform various operations on the collection, such as inserting, querying, updating, and deleting documents.\n",
    "\n",
    "# Insert a document into the collection\n",
    "data = [{\n",
    "    \"pname\": \"Ronnie\",\n",
    "    \"age\": \"20\"\n",
    "},\n",
    "    {\n",
    "        \"pname\":\"Jermie\",\n",
    "        \"age\":19\n",
    "    },\n",
    "    {\n",
    "        \"pname\":'Charlie',\n",
    "        \"age\":20\n",
    "    },\n",
    "    {\n",
    "        \"pname\":'Sam',\n",
    "        \"age\":20\n",
    "    },\n",
    "    {\n",
    "        \"pname\":'John',\n",
    "        \"age\":22\n",
    "    }\n",
    "    \n",
    "]\n",
    "    \n"
   ]
  },
  {
   "cell_type": "code",
   "execution_count": 12,
   "id": "0dde14d4",
   "metadata": {},
   "outputs": [],
   "source": [
    "\n",
    "collection.insert_many(data)\n",
    "\n",
    "# Query documents from the collection\n",
    "result = collection.find({\"key1\": \"value1\"})\n",
    "for document in result:\n",
    "    print(document)\n",
    "\n",
    "# Close the MongoDB connection when done\n",
    "client.close()"
   ]
  },
  {
   "cell_type": "code",
   "execution_count": 14,
   "id": "40bf754b",
   "metadata": {},
   "outputs": [],
   "source": [
    "client = pm.MongoClient(\"mongodb://localhost:27017/\")  # You can specify the MongoDB connection URI\n",
    "db = client[\"local\"]\n",
    "collection = db[\"persons\"]\n",
    "\n",
    "# Query documents from the collection\n",
    "result = collection.find({\"key1\": \"value1\"})\n",
    "for document in result:\n",
    "    print(document)\n",
    "client.close()"
   ]
  },
  {
   "cell_type": "code",
   "execution_count": 15,
   "id": "9fb308f4",
   "metadata": {},
   "outputs": [],
   "source": [
    "client = pm.MongoClient(\"mongodb://localhost:27017/\")  # You can specify the MongoDB connection URI\n",
    "db = client[\"local\"]\n",
    "collection = db[\"persons\"]\n"
   ]
  },
  {
   "cell_type": "code",
   "execution_count": 16,
   "id": "4bc89981",
   "metadata": {},
   "outputs": [],
   "source": [
    "# Query documents from the collection\n",
    "result = collection.find({\"key1\": \"value1\"})\n",
    "for document in result:\n",
    "    print(document)\n"
   ]
  },
  {
   "cell_type": "code",
   "execution_count": 17,
   "id": "ca9a1e73",
   "metadata": {},
   "outputs": [],
   "source": [
    "client.close()"
   ]
  },
  {
   "cell_type": "code",
   "execution_count": null,
   "id": "10a620f9",
   "metadata": {},
   "outputs": [],
   "source": []
  },
  {
   "cell_type": "markdown",
   "id": "9cd5e810",
   "metadata": {},
   "source": [
    "##### Connecting to the db and displaying the data from mongodb using pymongo..."
   ]
  },
  {
   "cell_type": "code",
   "execution_count": 18,
   "id": "202d9969",
   "metadata": {},
   "outputs": [],
   "source": [
    "client = pm.MongoClient(\"mongodb://localhost:27017/\")  # You can specify the MongoDB connection URI\n",
    "db = client[\"local\"]\n",
    "collection = db[\"persons\"]\n",
    "# Query documents from the collection\n",
    "result = collection.find({\"key1\": \"value1\"})\n",
    "for document in result:\n",
    "    print(type(document))\n"
   ]
  },
  {
   "cell_type": "code",
   "execution_count": 19,
   "id": "703d9c93",
   "metadata": {},
   "outputs": [],
   "source": [
    "client.close()"
   ]
  },
  {
   "cell_type": "code",
   "execution_count": null,
   "id": "4c0b1001",
   "metadata": {},
   "outputs": [],
   "source": []
  },
  {
   "cell_type": "code",
   "execution_count": null,
   "id": "82630c81",
   "metadata": {},
   "outputs": [],
   "source": []
  }
 ],
 "metadata": {
  "kernelspec": {
   "display_name": "Python 3 (ipykernel)",
   "language": "python",
   "name": "python3"
  },
  "language_info": {
   "codemirror_mode": {
    "name": "ipython",
    "version": 3
   },
   "file_extension": ".py",
   "mimetype": "text/x-python",
   "name": "python",
   "nbconvert_exporter": "python",
   "pygments_lexer": "ipython3",
   "version": "3.9.13"
  }
 },
 "nbformat": 4,
 "nbformat_minor": 5
}
