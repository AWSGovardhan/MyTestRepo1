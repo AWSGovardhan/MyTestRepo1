{
 "cells": [
  {
   "cell_type": "code",
   "execution_count": 1,
   "id": "a87f471c",
   "metadata": {},
   "outputs": [],
   "source": [
    "n='Apple'\n",
    "p=20"
   ]
  },
  {
   "cell_type": "code",
   "execution_count": 2,
   "id": "0a1d6861",
   "metadata": {},
   "outputs": [
    {
     "name": "stdout",
     "output_type": "stream",
     "text": [
      "Product is {n} and its price is {p}\n"
     ]
    }
   ],
   "source": [
    "print(\"Product is {n} and its price is {p}\")"
   ]
  },
  {
   "cell_type": "code",
   "execution_count": 3,
   "id": "36599aea",
   "metadata": {},
   "outputs": [
    {
     "data": {
      "text/plain": [
       "'Product is {n} and its price is {p}'"
      ]
     },
     "execution_count": 3,
     "metadata": {},
     "output_type": "execute_result"
    }
   ],
   "source": [
    "\"Product is {n} and its price is {p}\""
   ]
  },
  {
   "cell_type": "code",
   "execution_count": 4,
   "id": "c9aedb25",
   "metadata": {},
   "outputs": [],
   "source": [
    "class TOne:\n",
    "    pass"
   ]
  },
  {
   "cell_type": "code",
   "execution_count": 5,
   "id": "61a5a2c9",
   "metadata": {},
   "outputs": [],
   "source": [
    "p = TOne()"
   ]
  },
  {
   "cell_type": "code",
   "execution_count": 6,
   "id": "c98ca37e",
   "metadata": {},
   "outputs": [
    {
     "data": {
      "text/plain": [
       "__main__.TOne"
      ]
     },
     "execution_count": 6,
     "metadata": {},
     "output_type": "execute_result"
    }
   ],
   "source": [
    "type(p)"
   ]
  },
  {
   "cell_type": "code",
   "execution_count": null,
   "id": "bcdafb2e",
   "metadata": {},
   "outputs": [],
   "source": [
    "class TOne:\n",
    "    def f1():\n",
    "        print(\"hello\")"
   ]
  }
 ],
 "metadata": {
  "kernelspec": {
   "display_name": "Python 3 (ipykernel)",
   "language": "python",
   "name": "python3"
  },
  "language_info": {
   "codemirror_mode": {
    "name": "ipython",
    "version": 3
   },
   "file_extension": ".py",
   "mimetype": "text/x-python",
   "name": "python",
   "nbconvert_exporter": "python",
   "pygments_lexer": "ipython3",
   "version": "3.9.13"
  }
 },
 "nbformat": 4,
 "nbformat_minor": 5
}
