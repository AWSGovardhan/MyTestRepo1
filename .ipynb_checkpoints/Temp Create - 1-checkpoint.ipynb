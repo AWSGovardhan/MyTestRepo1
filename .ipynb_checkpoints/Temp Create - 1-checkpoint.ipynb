{
 "cells": [
  {
   "cell_type": "code",
   "execution_count": 2,
   "id": "b38c7dd8",
   "metadata": {},
   "outputs": [],
   "source": [
    "import functools"
   ]
  },
  {
   "cell_type": "code",
   "execution_count": 3,
   "id": "af6510cc",
   "metadata": {},
   "outputs": [
    {
     "name": "stdout",
     "output_type": "stream",
     "text": [
      "Help on module functools:\n",
      "\n",
      "NAME\n",
      "    functools - functools.py - Tools for working with functions and callable objects\n",
      "\n",
      "MODULE REFERENCE\n",
      "    https://docs.python.org/3.9/library/functools\n",
      "    \n",
      "    The following documentation is automatically generated from the Python\n",
      "    source files.  It may be incomplete, incorrect or include features that\n",
      "    are considered implementation detail and may vary between Python\n",
      "    implementations.  When in doubt, consult the module reference at the\n",
      "    location listed above.\n",
      "\n",
      "CLASSES\n",
      "    builtins.object\n",
      "        cached_property\n",
      "        partial\n",
      "        partialmethod\n",
      "        singledispatchmethod\n",
      "    \n",
      "    class cached_property(builtins.object)\n",
      "     |  cached_property(func)\n",
      "     |  \n",
      "     |  Methods defined here:\n",
      "     |  \n",
      "     |  __get__(self, instance, owner=None)\n",
      "     |  \n",
      "     |  __init__(self, func)\n",
      "     |      Initialize self.  See help(type(self)) for accurate signature.\n",
      "     |  \n",
      "     |  __set_name__(self, owner, name)\n",
      "     |  \n",
      "     |  ----------------------------------------------------------------------\n",
      "     |  Class methods defined here:\n",
      "     |  \n",
      "     |  __class_getitem__ = GenericAlias(...) from builtins.type\n",
      "     |      Represent a PEP 585 generic type\n",
      "     |      \n",
      "     |      E.g. for t = list[int], t.__origin__ is list and t.__args__ is (int,).\n",
      "     |  \n",
      "     |  ----------------------------------------------------------------------\n",
      "     |  Data descriptors defined here:\n",
      "     |  \n",
      "     |  __dict__\n",
      "     |      dictionary for instance variables (if defined)\n",
      "     |  \n",
      "     |  __weakref__\n",
      "     |      list of weak references to the object (if defined)\n",
      "    \n",
      "    class partial(builtins.object)\n",
      "     |  partial(func, *args, **keywords) - new function with partial application\n",
      "     |  of the given arguments and keywords.\n",
      "     |  \n",
      "     |  Methods defined here:\n",
      "     |  \n",
      "     |  __call__(self, /, *args, **kwargs)\n",
      "     |      Call self as a function.\n",
      "     |  \n",
      "     |  __delattr__(self, name, /)\n",
      "     |      Implement delattr(self, name).\n",
      "     |  \n",
      "     |  __getattribute__(self, name, /)\n",
      "     |      Return getattr(self, name).\n",
      "     |  \n",
      "     |  __reduce__(...)\n",
      "     |      Helper for pickle.\n",
      "     |  \n",
      "     |  __repr__(self, /)\n",
      "     |      Return repr(self).\n",
      "     |  \n",
      "     |  __setattr__(self, name, value, /)\n",
      "     |      Implement setattr(self, name, value).\n",
      "     |  \n",
      "     |  __setstate__(...)\n",
      "     |  \n",
      "     |  ----------------------------------------------------------------------\n",
      "     |  Class methods defined here:\n",
      "     |  \n",
      "     |  __class_getitem__(...) from builtins.type\n",
      "     |      See PEP 585\n",
      "     |  \n",
      "     |  ----------------------------------------------------------------------\n",
      "     |  Static methods defined here:\n",
      "     |  \n",
      "     |  __new__(*args, **kwargs) from builtins.type\n",
      "     |      Create and return a new object.  See help(type) for accurate signature.\n",
      "     |  \n",
      "     |  ----------------------------------------------------------------------\n",
      "     |  Data descriptors defined here:\n",
      "     |  \n",
      "     |  __dict__\n",
      "     |  \n",
      "     |  args\n",
      "     |      tuple of arguments to future partial calls\n",
      "     |  \n",
      "     |  func\n",
      "     |      function object to use in future partial calls\n",
      "     |  \n",
      "     |  keywords\n",
      "     |      dictionary of keyword arguments to future partial calls\n",
      "    \n",
      "    class partialmethod(builtins.object)\n",
      "     |  partialmethod(func, /, *args, **keywords)\n",
      "     |  \n",
      "     |  Method descriptor with partial application of the given arguments\n",
      "     |  and keywords.\n",
      "     |  \n",
      "     |  Supports wrapping existing descriptors and handles non-descriptor\n",
      "     |  callables as instance methods.\n",
      "     |  \n",
      "     |  Methods defined here:\n",
      "     |  \n",
      "     |  __get__(self, obj, cls=None)\n",
      "     |  \n",
      "     |  __init__(self, func, /, *args, **keywords)\n",
      "     |      Initialize self.  See help(type(self)) for accurate signature.\n",
      "     |  \n",
      "     |  __repr__(self)\n",
      "     |      Return repr(self).\n",
      "     |  \n",
      "     |  ----------------------------------------------------------------------\n",
      "     |  Class methods defined here:\n",
      "     |  \n",
      "     |  __class_getitem__ = GenericAlias(...) from builtins.type\n",
      "     |      Represent a PEP 585 generic type\n",
      "     |      \n",
      "     |      E.g. for t = list[int], t.__origin__ is list and t.__args__ is (int,).\n",
      "     |  \n",
      "     |  ----------------------------------------------------------------------\n",
      "     |  Readonly properties defined here:\n",
      "     |  \n",
      "     |  __isabstractmethod__\n",
      "     |  \n",
      "     |  ----------------------------------------------------------------------\n",
      "     |  Data descriptors defined here:\n",
      "     |  \n",
      "     |  __dict__\n",
      "     |      dictionary for instance variables (if defined)\n",
      "     |  \n",
      "     |  __weakref__\n",
      "     |      list of weak references to the object (if defined)\n",
      "    \n",
      "    class singledispatchmethod(builtins.object)\n",
      "     |  singledispatchmethod(func)\n",
      "     |  \n",
      "     |  Single-dispatch generic method descriptor.\n",
      "     |  \n",
      "     |  Supports wrapping existing descriptors and handles non-descriptor\n",
      "     |  callables as instance methods.\n",
      "     |  \n",
      "     |  Methods defined here:\n",
      "     |  \n",
      "     |  __get__(self, obj, cls=None)\n",
      "     |  \n",
      "     |  __init__(self, func)\n",
      "     |      Initialize self.  See help(type(self)) for accurate signature.\n",
      "     |  \n",
      "     |  register(self, cls, method=None)\n",
      "     |      generic_method.register(cls, func) -> func\n",
      "     |      \n",
      "     |      Registers a new implementation for the given *cls* on a *generic_method*.\n",
      "     |  \n",
      "     |  ----------------------------------------------------------------------\n",
      "     |  Readonly properties defined here:\n",
      "     |  \n",
      "     |  __isabstractmethod__\n",
      "     |  \n",
      "     |  ----------------------------------------------------------------------\n",
      "     |  Data descriptors defined here:\n",
      "     |  \n",
      "     |  __dict__\n",
      "     |      dictionary for instance variables (if defined)\n",
      "     |  \n",
      "     |  __weakref__\n",
      "     |      list of weak references to the object (if defined)\n",
      "\n",
      "FUNCTIONS\n",
      "    cache(user_function, /)\n",
      "        Simple lightweight unbounded cache.  Sometimes called \"memoize\".\n",
      "    \n",
      "    cmp_to_key(...)\n",
      "        Convert a cmp= function into a key= function.\n",
      "    \n",
      "    lru_cache(maxsize=128, typed=False)\n",
      "        Least-recently-used cache decorator.\n",
      "        \n",
      "        If *maxsize* is set to None, the LRU features are disabled and the cache\n",
      "        can grow without bound.\n",
      "        \n",
      "        If *typed* is True, arguments of different types will be cached separately.\n",
      "        For example, f(3.0) and f(3) will be treated as distinct calls with\n",
      "        distinct results.\n",
      "        \n",
      "        Arguments to the cached function must be hashable.\n",
      "        \n",
      "        View the cache statistics named tuple (hits, misses, maxsize, currsize)\n",
      "        with f.cache_info().  Clear the cache and statistics with f.cache_clear().\n",
      "        Access the underlying function with f.__wrapped__.\n",
      "        \n",
      "        See:  https://en.wikipedia.org/wiki/Cache_replacement_policies#Least_recently_used_(LRU)\n",
      "    \n",
      "    reduce(...)\n",
      "        reduce(function, sequence[, initial]) -> value\n",
      "        \n",
      "        Apply a function of two arguments cumulatively to the items of a sequence,\n",
      "        from left to right, so as to reduce the sequence to a single value.\n",
      "        For example, reduce(lambda x, y: x+y, [1, 2, 3, 4, 5]) calculates\n",
      "        ((((1+2)+3)+4)+5).  If initial is present, it is placed before the items\n",
      "        of the sequence in the calculation, and serves as a default when the\n",
      "        sequence is empty.\n",
      "    \n",
      "    singledispatch(func)\n",
      "        Single-dispatch generic function decorator.\n",
      "        \n",
      "        Transforms a function into a generic function, which can have different\n",
      "        behaviours depending upon the type of its first argument. The decorated\n",
      "        function acts as the default implementation, and additional\n",
      "        implementations can be registered using the register() attribute of the\n",
      "        generic function.\n",
      "    \n",
      "    total_ordering(cls)\n",
      "        Class decorator that fills in missing ordering methods\n",
      "    \n",
      "    update_wrapper(wrapper, wrapped, assigned=('__module__', '__name__', '__qualname__', '__doc__', '__annotations__'), updated=('__dict__',))\n",
      "        Update a wrapper function to look like the wrapped function\n",
      "        \n",
      "        wrapper is the function to be updated\n",
      "        wrapped is the original function\n",
      "        assigned is a tuple naming the attributes assigned directly\n",
      "        from the wrapped function to the wrapper function (defaults to\n",
      "        functools.WRAPPER_ASSIGNMENTS)\n",
      "        updated is a tuple naming the attributes of the wrapper that\n",
      "        are updated with the corresponding attribute from the wrapped\n",
      "        function (defaults to functools.WRAPPER_UPDATES)\n",
      "    \n",
      "    wraps(wrapped, assigned=('__module__', '__name__', '__qualname__', '__doc__', '__annotations__'), updated=('__dict__',))\n",
      "        Decorator factory to apply update_wrapper() to a wrapper function\n",
      "        \n",
      "        Returns a decorator that invokes update_wrapper() with the decorated\n",
      "        function as the wrapper argument and the arguments to wraps() as the\n",
      "        remaining arguments. Default arguments are as for update_wrapper().\n",
      "        This is a convenience function to simplify applying partial() to\n",
      "        update_wrapper().\n",
      "\n",
      "DATA\n",
      "    WRAPPER_ASSIGNMENTS = ('__module__', '__name__', '__qualname__', '__do...\n",
      "    WRAPPER_UPDATES = ('__dict__',)\n",
      "    __all__ = ['update_wrapper', 'wraps', 'WRAPPER_ASSIGNMENTS', 'WRAPPER_...\n",
      "\n",
      "FILE\n",
      "    c:\\users\\mechknow\\anaconda3\\lib\\functools.py\n",
      "\n",
      "\n"
     ]
    }
   ],
   "source": [
    "help(functools)"
   ]
  },
  {
   "cell_type": "code",
   "execution_count": 4,
   "id": "2b8ffcd0",
   "metadata": {},
   "outputs": [
    {
     "ename": "NameError",
     "evalue": "name 'itertools' is not defined",
     "output_type": "error",
     "traceback": [
      "\u001b[1;31m---------------------------------------------------------------------------\u001b[0m",
      "\u001b[1;31mNameError\u001b[0m                                 Traceback (most recent call last)",
      "Cell \u001b[1;32mIn[4], line 1\u001b[0m\n\u001b[1;32m----> 1\u001b[0m help(\u001b[43mitertools\u001b[49m)\n",
      "\u001b[1;31mNameError\u001b[0m: name 'itertools' is not defined"
     ]
    }
   ],
   "source": [
    "help(itertools)"
   ]
  },
  {
   "cell_type": "code",
   "execution_count": 5,
   "id": "6cdeb269",
   "metadata": {},
   "outputs": [],
   "source": [
    "import itertools"
   ]
  },
  {
   "cell_type": "code",
   "execution_count": 6,
   "id": "807ac2b0",
   "metadata": {},
   "outputs": [
    {
     "name": "stdout",
     "output_type": "stream",
     "text": [
      "Help on built-in module itertools:\n",
      "\n",
      "NAME\n",
      "    itertools - Functional tools for creating and using iterators.\n",
      "\n",
      "DESCRIPTION\n",
      "    Infinite iterators:\n",
      "    count(start=0, step=1) --> start, start+step, start+2*step, ...\n",
      "    cycle(p) --> p0, p1, ... plast, p0, p1, ...\n",
      "    repeat(elem [,n]) --> elem, elem, elem, ... endlessly or up to n times\n",
      "    \n",
      "    Iterators terminating on the shortest input sequence:\n",
      "    accumulate(p[, func]) --> p0, p0+p1, p0+p1+p2\n",
      "    chain(p, q, ...) --> p0, p1, ... plast, q0, q1, ...\n",
      "    chain.from_iterable([p, q, ...]) --> p0, p1, ... plast, q0, q1, ...\n",
      "    compress(data, selectors) --> (d[0] if s[0]), (d[1] if s[1]), ...\n",
      "    dropwhile(pred, seq) --> seq[n], seq[n+1], starting when pred fails\n",
      "    groupby(iterable[, keyfunc]) --> sub-iterators grouped by value of keyfunc(v)\n",
      "    filterfalse(pred, seq) --> elements of seq where pred(elem) is False\n",
      "    islice(seq, [start,] stop [, step]) --> elements from\n",
      "           seq[start:stop:step]\n",
      "    starmap(fun, seq) --> fun(*seq[0]), fun(*seq[1]), ...\n",
      "    tee(it, n=2) --> (it1, it2 , ... itn) splits one iterator into n\n",
      "    takewhile(pred, seq) --> seq[0], seq[1], until pred fails\n",
      "    zip_longest(p, q, ...) --> (p[0], q[0]), (p[1], q[1]), ...\n",
      "    \n",
      "    Combinatoric generators:\n",
      "    product(p, q, ... [repeat=1]) --> cartesian product\n",
      "    permutations(p[, r])\n",
      "    combinations(p, r)\n",
      "    combinations_with_replacement(p, r)\n",
      "\n",
      "CLASSES\n",
      "    builtins.object\n",
      "        accumulate\n",
      "        chain\n",
      "        combinations\n",
      "        combinations_with_replacement\n",
      "        compress\n",
      "        count\n",
      "        cycle\n",
      "        dropwhile\n",
      "        filterfalse\n",
      "        groupby\n",
      "        islice\n",
      "        permutations\n",
      "        product\n",
      "        repeat\n",
      "        starmap\n",
      "        takewhile\n",
      "        zip_longest\n",
      "    \n",
      "    class accumulate(builtins.object)\n",
      "     |  accumulate(iterable, func=None, *, initial=None)\n",
      "     |  \n",
      "     |  Return series of accumulated sums (or other binary function results).\n",
      "     |  \n",
      "     |  Methods defined here:\n",
      "     |  \n",
      "     |  __getattribute__(self, name, /)\n",
      "     |      Return getattr(self, name).\n",
      "     |  \n",
      "     |  __iter__(self, /)\n",
      "     |      Implement iter(self).\n",
      "     |  \n",
      "     |  __next__(self, /)\n",
      "     |      Implement next(self).\n",
      "     |  \n",
      "     |  __reduce__(...)\n",
      "     |      Return state information for pickling.\n",
      "     |  \n",
      "     |  __setstate__(...)\n",
      "     |      Set state information for unpickling.\n",
      "     |  \n",
      "     |  ----------------------------------------------------------------------\n",
      "     |  Static methods defined here:\n",
      "     |  \n",
      "     |  __new__(*args, **kwargs) from builtins.type\n",
      "     |      Create and return a new object.  See help(type) for accurate signature.\n",
      "    \n",
      "    class chain(builtins.object)\n",
      "     |  chain(*iterables) --> chain object\n",
      "     |  \n",
      "     |  Return a chain object whose .__next__() method returns elements from the\n",
      "     |  first iterable until it is exhausted, then elements from the next\n",
      "     |  iterable, until all of the iterables are exhausted.\n",
      "     |  \n",
      "     |  Methods defined here:\n",
      "     |  \n",
      "     |  __getattribute__(self, name, /)\n",
      "     |      Return getattr(self, name).\n",
      "     |  \n",
      "     |  __iter__(self, /)\n",
      "     |      Implement iter(self).\n",
      "     |  \n",
      "     |  __next__(self, /)\n",
      "     |      Implement next(self).\n",
      "     |  \n",
      "     |  __reduce__(...)\n",
      "     |      Return state information for pickling.\n",
      "     |  \n",
      "     |  __setstate__(...)\n",
      "     |      Set state information for unpickling.\n",
      "     |  \n",
      "     |  ----------------------------------------------------------------------\n",
      "     |  Class methods defined here:\n",
      "     |  \n",
      "     |  __class_getitem__(...) from builtins.type\n",
      "     |      See PEP 585\n",
      "     |  \n",
      "     |  from_iterable(iterable, /) from builtins.type\n",
      "     |      Alternative chain() constructor taking a single iterable argument that evaluates lazily.\n",
      "     |  \n",
      "     |  ----------------------------------------------------------------------\n",
      "     |  Static methods defined here:\n",
      "     |  \n",
      "     |  __new__(*args, **kwargs) from builtins.type\n",
      "     |      Create and return a new object.  See help(type) for accurate signature.\n",
      "    \n",
      "    class combinations(builtins.object)\n",
      "     |  combinations(iterable, r)\n",
      "     |  \n",
      "     |  Return successive r-length combinations of elements in the iterable.\n",
      "     |  \n",
      "     |  combinations(range(4), 3) --> (0,1,2), (0,1,3), (0,2,3), (1,2,3)\n",
      "     |  \n",
      "     |  Methods defined here:\n",
      "     |  \n",
      "     |  __getattribute__(self, name, /)\n",
      "     |      Return getattr(self, name).\n",
      "     |  \n",
      "     |  __iter__(self, /)\n",
      "     |      Implement iter(self).\n",
      "     |  \n",
      "     |  __next__(self, /)\n",
      "     |      Implement next(self).\n",
      "     |  \n",
      "     |  __reduce__(...)\n",
      "     |      Return state information for pickling.\n",
      "     |  \n",
      "     |  __setstate__(...)\n",
      "     |      Set state information for unpickling.\n",
      "     |  \n",
      "     |  __sizeof__(...)\n",
      "     |      Returns size in memory, in bytes.\n",
      "     |  \n",
      "     |  ----------------------------------------------------------------------\n",
      "     |  Static methods defined here:\n",
      "     |  \n",
      "     |  __new__(*args, **kwargs) from builtins.type\n",
      "     |      Create and return a new object.  See help(type) for accurate signature.\n",
      "    \n",
      "    class combinations_with_replacement(builtins.object)\n",
      "     |  combinations_with_replacement(iterable, r)\n",
      "     |  \n",
      "     |  Return successive r-length combinations of elements in the iterable allowing individual elements to have successive repeats.\n",
      "     |  \n",
      "     |  combinations_with_replacement('ABC', 2) --> ('A','A'), ('A','B'), ('A','C'), ('B','B'), ('B','C'), ('C','C')\n",
      "     |  \n",
      "     |  Methods defined here:\n",
      "     |  \n",
      "     |  __getattribute__(self, name, /)\n",
      "     |      Return getattr(self, name).\n",
      "     |  \n",
      "     |  __iter__(self, /)\n",
      "     |      Implement iter(self).\n",
      "     |  \n",
      "     |  __next__(self, /)\n",
      "     |      Implement next(self).\n",
      "     |  \n",
      "     |  __reduce__(...)\n",
      "     |      Return state information for pickling.\n",
      "     |  \n",
      "     |  __setstate__(...)\n",
      "     |      Set state information for unpickling.\n",
      "     |  \n",
      "     |  __sizeof__(...)\n",
      "     |      Returns size in memory, in bytes.\n",
      "     |  \n",
      "     |  ----------------------------------------------------------------------\n",
      "     |  Static methods defined here:\n",
      "     |  \n",
      "     |  __new__(*args, **kwargs) from builtins.type\n",
      "     |      Create and return a new object.  See help(type) for accurate signature.\n",
      "    \n",
      "    class compress(builtins.object)\n",
      "     |  compress(data, selectors)\n",
      "     |  \n",
      "     |  Return data elements corresponding to true selector elements.\n",
      "     |  \n",
      "     |  Forms a shorter iterator from selected data elements using the selectors to\n",
      "     |  choose the data elements.\n",
      "     |  \n",
      "     |  Methods defined here:\n",
      "     |  \n",
      "     |  __getattribute__(self, name, /)\n",
      "     |      Return getattr(self, name).\n",
      "     |  \n",
      "     |  __iter__(self, /)\n",
      "     |      Implement iter(self).\n",
      "     |  \n",
      "     |  __next__(self, /)\n",
      "     |      Implement next(self).\n",
      "     |  \n",
      "     |  __reduce__(...)\n",
      "     |      Return state information for pickling.\n",
      "     |  \n",
      "     |  ----------------------------------------------------------------------\n",
      "     |  Static methods defined here:\n",
      "     |  \n",
      "     |  __new__(*args, **kwargs) from builtins.type\n",
      "     |      Create and return a new object.  See help(type) for accurate signature.\n",
      "    \n",
      "    class count(builtins.object)\n",
      "     |  count(start=0, step=1)\n",
      "     |  \n",
      "     |  Return a count object whose .__next__() method returns consecutive values.\n",
      "     |  \n",
      "     |  Equivalent to:\n",
      "     |      def count(firstval=0, step=1):\n",
      "     |          x = firstval\n",
      "     |          while 1:\n",
      "     |              yield x\n",
      "     |              x += step\n",
      "     |  \n",
      "     |  Methods defined here:\n",
      "     |  \n",
      "     |  __getattribute__(self, name, /)\n",
      "     |      Return getattr(self, name).\n",
      "     |  \n",
      "     |  __iter__(self, /)\n",
      "     |      Implement iter(self).\n",
      "     |  \n",
      "     |  __next__(self, /)\n",
      "     |      Implement next(self).\n",
      "     |  \n",
      "     |  __reduce__(...)\n",
      "     |      Return state information for pickling.\n",
      "     |  \n",
      "     |  __repr__(self, /)\n",
      "     |      Return repr(self).\n",
      "     |  \n",
      "     |  ----------------------------------------------------------------------\n",
      "     |  Static methods defined here:\n",
      "     |  \n",
      "     |  __new__(*args, **kwargs) from builtins.type\n",
      "     |      Create and return a new object.  See help(type) for accurate signature.\n",
      "    \n",
      "    class cycle(builtins.object)\n",
      "     |  cycle(iterable, /)\n",
      "     |  \n",
      "     |  Return elements from the iterable until it is exhausted. Then repeat the sequence indefinitely.\n",
      "     |  \n",
      "     |  Methods defined here:\n",
      "     |  \n",
      "     |  __getattribute__(self, name, /)\n",
      "     |      Return getattr(self, name).\n",
      "     |  \n",
      "     |  __iter__(self, /)\n",
      "     |      Implement iter(self).\n",
      "     |  \n",
      "     |  __next__(self, /)\n",
      "     |      Implement next(self).\n",
      "     |  \n",
      "     |  __reduce__(...)\n",
      "     |      Return state information for pickling.\n",
      "     |  \n",
      "     |  __setstate__(...)\n",
      "     |      Set state information for unpickling.\n",
      "     |  \n",
      "     |  ----------------------------------------------------------------------\n",
      "     |  Static methods defined here:\n",
      "     |  \n",
      "     |  __new__(*args, **kwargs) from builtins.type\n",
      "     |      Create and return a new object.  See help(type) for accurate signature.\n",
      "    \n",
      "    class dropwhile(builtins.object)\n",
      "     |  dropwhile(predicate, iterable, /)\n",
      "     |  \n",
      "     |  Drop items from the iterable while predicate(item) is true.\n",
      "     |  \n",
      "     |  Afterwards, return every element until the iterable is exhausted.\n",
      "     |  \n",
      "     |  Methods defined here:\n",
      "     |  \n",
      "     |  __getattribute__(self, name, /)\n",
      "     |      Return getattr(self, name).\n",
      "     |  \n",
      "     |  __iter__(self, /)\n",
      "     |      Implement iter(self).\n",
      "     |  \n",
      "     |  __next__(self, /)\n",
      "     |      Implement next(self).\n",
      "     |  \n",
      "     |  __reduce__(...)\n",
      "     |      Return state information for pickling.\n",
      "     |  \n",
      "     |  __setstate__(...)\n",
      "     |      Set state information for unpickling.\n",
      "     |  \n",
      "     |  ----------------------------------------------------------------------\n",
      "     |  Static methods defined here:\n",
      "     |  \n",
      "     |  __new__(*args, **kwargs) from builtins.type\n",
      "     |      Create and return a new object.  See help(type) for accurate signature.\n",
      "    \n",
      "    class filterfalse(builtins.object)\n",
      "     |  filterfalse(function, iterable, /)\n",
      "     |  \n",
      "     |  Return those items of iterable for which function(item) is false.\n",
      "     |  \n",
      "     |  If function is None, return the items that are false.\n",
      "     |  \n",
      "     |  Methods defined here:\n",
      "     |  \n",
      "     |  __getattribute__(self, name, /)\n",
      "     |      Return getattr(self, name).\n",
      "     |  \n",
      "     |  __iter__(self, /)\n",
      "     |      Implement iter(self).\n",
      "     |  \n",
      "     |  __next__(self, /)\n",
      "     |      Implement next(self).\n",
      "     |  \n",
      "     |  __reduce__(...)\n",
      "     |      Return state information for pickling.\n",
      "     |  \n",
      "     |  ----------------------------------------------------------------------\n",
      "     |  Static methods defined here:\n",
      "     |  \n",
      "     |  __new__(*args, **kwargs) from builtins.type\n",
      "     |      Create and return a new object.  See help(type) for accurate signature.\n",
      "    \n",
      "    class groupby(builtins.object)\n",
      "     |  groupby(iterable, key=None)\n",
      "     |  \n",
      "     |  make an iterator that returns consecutive keys and groups from the iterable\n",
      "     |  \n",
      "     |  iterable\n",
      "     |    Elements to divide into groups according to the key function.\n",
      "     |  key\n",
      "     |    A function for computing the group category for each element.\n",
      "     |    If the key function is not specified or is None, the element itself\n",
      "     |    is used for grouping.\n",
      "     |  \n",
      "     |  Methods defined here:\n",
      "     |  \n",
      "     |  __getattribute__(self, name, /)\n",
      "     |      Return getattr(self, name).\n",
      "     |  \n",
      "     |  __iter__(self, /)\n",
      "     |      Implement iter(self).\n",
      "     |  \n",
      "     |  __next__(self, /)\n",
      "     |      Implement next(self).\n",
      "     |  \n",
      "     |  __reduce__(...)\n",
      "     |      Return state information for pickling.\n",
      "     |  \n",
      "     |  __setstate__(...)\n",
      "     |      Set state information for unpickling.\n",
      "     |  \n",
      "     |  ----------------------------------------------------------------------\n",
      "     |  Static methods defined here:\n",
      "     |  \n",
      "     |  __new__(*args, **kwargs) from builtins.type\n",
      "     |      Create and return a new object.  See help(type) for accurate signature.\n",
      "    \n",
      "    class islice(builtins.object)\n",
      "     |  islice(iterable, stop) --> islice object\n",
      "     |  islice(iterable, start, stop[, step]) --> islice object\n",
      "     |  \n",
      "     |  Return an iterator whose next() method returns selected values from an\n",
      "     |  iterable.  If start is specified, will skip all preceding elements;\n",
      "     |  otherwise, start defaults to zero.  Step defaults to one.  If\n",
      "     |  specified as another value, step determines how many values are\n",
      "     |  skipped between successive calls.  Works like a slice() on a list\n",
      "     |  but returns an iterator.\n",
      "     |  \n",
      "     |  Methods defined here:\n",
      "     |  \n",
      "     |  __getattribute__(self, name, /)\n",
      "     |      Return getattr(self, name).\n",
      "     |  \n",
      "     |  __iter__(self, /)\n",
      "     |      Implement iter(self).\n",
      "     |  \n",
      "     |  __next__(self, /)\n",
      "     |      Implement next(self).\n",
      "     |  \n",
      "     |  __reduce__(...)\n",
      "     |      Return state information for pickling.\n",
      "     |  \n",
      "     |  __setstate__(...)\n",
      "     |      Set state information for unpickling.\n",
      "     |  \n",
      "     |  ----------------------------------------------------------------------\n",
      "     |  Static methods defined here:\n",
      "     |  \n",
      "     |  __new__(*args, **kwargs) from builtins.type\n",
      "     |      Create and return a new object.  See help(type) for accurate signature.\n",
      "    \n",
      "    class permutations(builtins.object)\n",
      "     |  permutations(iterable, r=None)\n",
      "     |  \n",
      "     |  Return successive r-length permutations of elements in the iterable.\n",
      "     |  \n",
      "     |  permutations(range(3), 2) --> (0,1), (0,2), (1,0), (1,2), (2,0), (2,1)\n",
      "     |  \n",
      "     |  Methods defined here:\n",
      "     |  \n",
      "     |  __getattribute__(self, name, /)\n",
      "     |      Return getattr(self, name).\n",
      "     |  \n",
      "     |  __iter__(self, /)\n",
      "     |      Implement iter(self).\n",
      "     |  \n",
      "     |  __next__(self, /)\n",
      "     |      Implement next(self).\n",
      "     |  \n",
      "     |  __reduce__(...)\n",
      "     |      Return state information for pickling.\n",
      "     |  \n",
      "     |  __setstate__(...)\n",
      "     |      Set state information for unpickling.\n",
      "     |  \n",
      "     |  __sizeof__(...)\n",
      "     |      Returns size in memory, in bytes.\n",
      "     |  \n",
      "     |  ----------------------------------------------------------------------\n",
      "     |  Static methods defined here:\n",
      "     |  \n",
      "     |  __new__(*args, **kwargs) from builtins.type\n",
      "     |      Create and return a new object.  See help(type) for accurate signature.\n",
      "    \n",
      "    class product(builtins.object)\n",
      "     |  product(*iterables, repeat=1) --> product object\n",
      "     |  \n",
      "     |  Cartesian product of input iterables.  Equivalent to nested for-loops.\n",
      "     |  \n",
      "     |  For example, product(A, B) returns the same as:  ((x,y) for x in A for y in B).\n",
      "     |  The leftmost iterators are in the outermost for-loop, so the output tuples\n",
      "     |  cycle in a manner similar to an odometer (with the rightmost element changing\n",
      "     |  on every iteration).\n",
      "     |  \n",
      "     |  To compute the product of an iterable with itself, specify the number\n",
      "     |  of repetitions with the optional repeat keyword argument. For example,\n",
      "     |  product(A, repeat=4) means the same as product(A, A, A, A).\n",
      "     |  \n",
      "     |  product('ab', range(3)) --> ('a',0) ('a',1) ('a',2) ('b',0) ('b',1) ('b',2)\n",
      "     |  product((0,1), (0,1), (0,1)) --> (0,0,0) (0,0,1) (0,1,0) (0,1,1) (1,0,0) ...\n",
      "     |  \n",
      "     |  Methods defined here:\n",
      "     |  \n",
      "     |  __getattribute__(self, name, /)\n",
      "     |      Return getattr(self, name).\n",
      "     |  \n",
      "     |  __iter__(self, /)\n",
      "     |      Implement iter(self).\n",
      "     |  \n",
      "     |  __next__(self, /)\n",
      "     |      Implement next(self).\n",
      "     |  \n",
      "     |  __reduce__(...)\n",
      "     |      Return state information for pickling.\n",
      "     |  \n",
      "     |  __setstate__(...)\n",
      "     |      Set state information for unpickling.\n",
      "     |  \n",
      "     |  __sizeof__(...)\n",
      "     |      Returns size in memory, in bytes.\n",
      "     |  \n",
      "     |  ----------------------------------------------------------------------\n",
      "     |  Static methods defined here:\n",
      "     |  \n",
      "     |  __new__(*args, **kwargs) from builtins.type\n",
      "     |      Create and return a new object.  See help(type) for accurate signature.\n",
      "    \n",
      "    class repeat(builtins.object)\n",
      "     |  repeat(object [,times]) -> create an iterator which returns the object\n",
      "     |  for the specified number of times.  If not specified, returns the object\n",
      "     |  endlessly.\n",
      "     |  \n",
      "     |  Methods defined here:\n",
      "     |  \n",
      "     |  __getattribute__(self, name, /)\n",
      "     |      Return getattr(self, name).\n",
      "     |  \n",
      "     |  __iter__(self, /)\n",
      "     |      Implement iter(self).\n",
      "     |  \n",
      "     |  __length_hint__(...)\n",
      "     |      Private method returning an estimate of len(list(it)).\n",
      "     |  \n",
      "     |  __next__(self, /)\n",
      "     |      Implement next(self).\n",
      "     |  \n",
      "     |  __reduce__(...)\n",
      "     |      Return state information for pickling.\n",
      "     |  \n",
      "     |  __repr__(self, /)\n",
      "     |      Return repr(self).\n",
      "     |  \n",
      "     |  ----------------------------------------------------------------------\n",
      "     |  Static methods defined here:\n",
      "     |  \n",
      "     |  __new__(*args, **kwargs) from builtins.type\n",
      "     |      Create and return a new object.  See help(type) for accurate signature.\n",
      "    \n",
      "    class starmap(builtins.object)\n",
      "     |  starmap(function, iterable, /)\n",
      "     |  \n",
      "     |  Return an iterator whose values are returned from the function evaluated with an argument tuple taken from the given sequence.\n",
      "     |  \n",
      "     |  Methods defined here:\n",
      "     |  \n",
      "     |  __getattribute__(self, name, /)\n",
      "     |      Return getattr(self, name).\n",
      "     |  \n",
      "     |  __iter__(self, /)\n",
      "     |      Implement iter(self).\n",
      "     |  \n",
      "     |  __next__(self, /)\n",
      "     |      Implement next(self).\n",
      "     |  \n",
      "     |  __reduce__(...)\n",
      "     |      Return state information for pickling.\n",
      "     |  \n",
      "     |  ----------------------------------------------------------------------\n",
      "     |  Static methods defined here:\n",
      "     |  \n",
      "     |  __new__(*args, **kwargs) from builtins.type\n",
      "     |      Create and return a new object.  See help(type) for accurate signature.\n",
      "    \n",
      "    class takewhile(builtins.object)\n",
      "     |  takewhile(predicate, iterable, /)\n",
      "     |  \n",
      "     |  Return successive entries from an iterable as long as the predicate evaluates to true for each entry.\n",
      "     |  \n",
      "     |  Methods defined here:\n",
      "     |  \n",
      "     |  __getattribute__(self, name, /)\n",
      "     |      Return getattr(self, name).\n",
      "     |  \n",
      "     |  __iter__(self, /)\n",
      "     |      Implement iter(self).\n",
      "     |  \n",
      "     |  __next__(self, /)\n",
      "     |      Implement next(self).\n",
      "     |  \n",
      "     |  __reduce__(...)\n",
      "     |      Return state information for pickling.\n",
      "     |  \n",
      "     |  __setstate__(...)\n",
      "     |      Set state information for unpickling.\n",
      "     |  \n",
      "     |  ----------------------------------------------------------------------\n",
      "     |  Static methods defined here:\n",
      "     |  \n",
      "     |  __new__(*args, **kwargs) from builtins.type\n",
      "     |      Create and return a new object.  See help(type) for accurate signature.\n",
      "    \n",
      "    class zip_longest(builtins.object)\n",
      "     |  zip_longest(iter1 [,iter2 [...]], [fillvalue=None]) --> zip_longest object\n",
      "     |  \n",
      "     |  Return a zip_longest object whose .__next__() method returns a tuple where\n",
      "     |  the i-th element comes from the i-th iterable argument.  The .__next__()\n",
      "     |  method continues until the longest iterable in the argument sequence\n",
      "     |  is exhausted and then it raises StopIteration.  When the shorter iterables\n",
      "     |  are exhausted, the fillvalue is substituted in their place.  The fillvalue\n",
      "     |  defaults to None or can be specified by a keyword argument.\n",
      "     |  \n",
      "     |  Methods defined here:\n",
      "     |  \n",
      "     |  __getattribute__(self, name, /)\n",
      "     |      Return getattr(self, name).\n",
      "     |  \n",
      "     |  __iter__(self, /)\n",
      "     |      Implement iter(self).\n",
      "     |  \n",
      "     |  __next__(self, /)\n",
      "     |      Implement next(self).\n",
      "     |  \n",
      "     |  __reduce__(...)\n",
      "     |      Return state information for pickling.\n",
      "     |  \n",
      "     |  __setstate__(...)\n",
      "     |      Set state information for unpickling.\n",
      "     |  \n",
      "     |  ----------------------------------------------------------------------\n",
      "     |  Static methods defined here:\n",
      "     |  \n",
      "     |  __new__(*args, **kwargs) from builtins.type\n",
      "     |      Create and return a new object.  See help(type) for accurate signature.\n",
      "\n",
      "FUNCTIONS\n",
      "    tee(iterable, n=2, /)\n",
      "        Returns a tuple of n independent iterators.\n",
      "\n",
      "FILE\n",
      "    (built-in)\n",
      "\n",
      "\n"
     ]
    }
   ],
   "source": [
    "help(itertools)"
   ]
  },
  {
   "cell_type": "code",
   "execution_count": 7,
   "id": "cce8f3f1",
   "metadata": {},
   "outputs": [],
   "source": [
    "nums = list(range(1,4))"
   ]
  },
  {
   "cell_type": "code",
   "execution_count": 8,
   "id": "825dd97a",
   "metadata": {},
   "outputs": [
    {
     "data": {
      "text/plain": [
       "[1, 2, 3]"
      ]
     },
     "execution_count": 8,
     "metadata": {},
     "output_type": "execute_result"
    }
   ],
   "source": [
    "nums"
   ]
  },
  {
   "cell_type": "code",
   "execution_count": 9,
   "id": "968bd449",
   "metadata": {},
   "outputs": [],
   "source": [
    "comb = itertools.combinations(nums,3)"
   ]
  },
  {
   "cell_type": "code",
   "execution_count": 11,
   "id": "231e0730",
   "metadata": {},
   "outputs": [
    {
     "data": {
      "text/plain": [
       "[(1, 2, 3)]"
      ]
     },
     "execution_count": 11,
     "metadata": {},
     "output_type": "execute_result"
    }
   ],
   "source": [
    "list(comb)"
   ]
  },
  {
   "cell_type": "code",
   "execution_count": 14,
   "id": "fd7d652c",
   "metadata": {},
   "outputs": [],
   "source": [
    "perm = itertools.permutations(nums,3)"
   ]
  },
  {
   "cell_type": "code",
   "execution_count": 15,
   "id": "e018d1c5",
   "metadata": {},
   "outputs": [
    {
     "data": {
      "text/plain": [
       "[(1, 2, 3), (1, 3, 2), (2, 1, 3), (2, 3, 1), (3, 1, 2), (3, 2, 1)]"
      ]
     },
     "execution_count": 15,
     "metadata": {},
     "output_type": "execute_result"
    }
   ],
   "source": [
    "list(perm)"
   ]
  },
  {
   "cell_type": "code",
   "execution_count": 16,
   "id": "f2f26b74",
   "metadata": {},
   "outputs": [],
   "source": [
    "agmt = [\"L\",\"C\",\"R\"]"
   ]
  },
  {
   "cell_type": "code",
   "execution_count": 17,
   "id": "ac1d40e4",
   "metadata": {},
   "outputs": [
    {
     "data": {
      "text/plain": [
       "['L', 'C', 'R']"
      ]
     },
     "execution_count": 17,
     "metadata": {},
     "output_type": "execute_result"
    }
   ],
   "source": [
    "agmt"
   ]
  },
  {
   "cell_type": "code",
   "execution_count": 18,
   "id": "c9d6f015",
   "metadata": {},
   "outputs": [],
   "source": [
    "perm = itertools.permutations(agmt,3)"
   ]
  },
  {
   "cell_type": "code",
   "execution_count": 19,
   "id": "eba3482a",
   "metadata": {},
   "outputs": [
    {
     "data": {
      "text/plain": [
       "[('L', 'C', 'R'),\n",
       " ('L', 'R', 'C'),\n",
       " ('C', 'L', 'R'),\n",
       " ('C', 'R', 'L'),\n",
       " ('R', 'L', 'C'),\n",
       " ('R', 'C', 'L')]"
      ]
     },
     "execution_count": 19,
     "metadata": {},
     "output_type": "execute_result"
    }
   ],
   "source": [
    "list(perm)"
   ]
  },
  {
   "cell_type": "code",
   "execution_count": 20,
   "id": "22d70b5b",
   "metadata": {},
   "outputs": [],
   "source": [
    "alg = itertools.permutations(agmt,3)"
   ]
  },
  {
   "cell_type": "code",
   "execution_count": 21,
   "id": "910f0ba6",
   "metadata": {},
   "outputs": [
    {
     "data": {
      "text/plain": [
       "[('L', 'C', 'R'),\n",
       " ('L', 'R', 'C'),\n",
       " ('C', 'L', 'R'),\n",
       " ('C', 'R', 'L'),\n",
       " ('R', 'L', 'C'),\n",
       " ('R', 'C', 'L')]"
      ]
     },
     "execution_count": 21,
     "metadata": {},
     "output_type": "execute_result"
    }
   ],
   "source": [
    "list(alg)"
   ]
  },
  {
   "cell_type": "code",
   "execution_count": 23,
   "id": "c960a360",
   "metadata": {},
   "outputs": [],
   "source": [
    "Hc = [('Ttle','Log'),(\"L\",\"R\",\"C\")]"
   ]
  },
  {
   "cell_type": "code",
   "execution_count": 24,
   "id": "57737a12",
   "metadata": {},
   "outputs": [
    {
     "name": "stdout",
     "output_type": "stream",
     "text": [
      "('Ttle', 'Log')\n",
      "('L', 'R', 'C')\n"
     ]
    }
   ],
   "source": [
    "for e in Hc:\n",
    "    print(e)"
   ]
  },
  {
   "cell_type": "code",
   "execution_count": 26,
   "id": "3909f4f4",
   "metadata": {},
   "outputs": [
    {
     "data": {
      "text/plain": [
       "[('Ttle', 'Log'), ('L', 'R', 'C')]"
      ]
     },
     "execution_count": 26,
     "metadata": {},
     "output_type": "execute_result"
    }
   ],
   "source": [
    "Hc"
   ]
  },
  {
   "cell_type": "code",
   "execution_count": 27,
   "id": "b481396b",
   "metadata": {},
   "outputs": [
    {
     "data": {
      "text/plain": [
       "('Ttle', 'Log')"
      ]
     },
     "execution_count": 27,
     "metadata": {},
     "output_type": "execute_result"
    }
   ],
   "source": [
    "Hc[0]"
   ]
  },
  {
   "cell_type": "code",
   "execution_count": 28,
   "id": "4fc830e7",
   "metadata": {},
   "outputs": [
    {
     "name": "stdout",
     "output_type": "stream",
     "text": [
      "Ttle\n",
      "Log\n"
     ]
    }
   ],
   "source": [
    "for e in Hc[0]:\n",
    "    print(e)"
   ]
  },
  {
   "cell_type": "code",
   "execution_count": 29,
   "id": "cb1e590b",
   "metadata": {},
   "outputs": [
    {
     "name": "stdout",
     "output_type": "stream",
     "text": [
      "L\n",
      "R\n",
      "C\n"
     ]
    }
   ],
   "source": [
    "for e in Hc[1]:\n",
    "    print(e)"
   ]
  },
  {
   "cell_type": "code",
   "execution_count": 30,
   "id": "9ae82af7",
   "metadata": {},
   "outputs": [],
   "source": [
    "r1 = []\n",
    "for e in Hc[0]:\n",
    "    for j in Hc[1]:\n",
    "       r1.append(e+' '+j) "
   ]
  },
  {
   "cell_type": "code",
   "execution_count": 31,
   "id": "24ed6565",
   "metadata": {},
   "outputs": [
    {
     "data": {
      "text/plain": [
       "['Ttle L', 'Ttle R', 'Ttle C', 'Log L', 'Log R', 'Log C']"
      ]
     },
     "execution_count": 31,
     "metadata": {},
     "output_type": "execute_result"
    }
   ],
   "source": [
    "r1"
   ]
  },
  {
   "cell_type": "code",
   "execution_count": null,
   "id": "32d7e146",
   "metadata": {},
   "outputs": [],
   "source": []
  },
  {
   "cell_type": "code",
   "execution_count": null,
   "id": "34a7e8f6",
   "metadata": {},
   "outputs": [],
   "source": []
  },
  {
   "cell_type": "code",
   "execution_count": null,
   "id": "d86fc2ae",
   "metadata": {},
   "outputs": [],
   "source": []
  },
  {
   "cell_type": "code",
   "execution_count": 25,
   "id": "43ce4127",
   "metadata": {},
   "outputs": [
    {
     "ename": "TypeError",
     "evalue": "'tuple' object cannot be interpreted as an integer",
     "output_type": "error",
     "traceback": [
      "\u001b[1;31m---------------------------------------------------------------------------\u001b[0m",
      "\u001b[1;31mTypeError\u001b[0m                                 Traceback (most recent call last)",
      "Cell \u001b[1;32mIn[25], line 1\u001b[0m\n\u001b[1;32m----> 1\u001b[0m \u001b[38;5;28;01mfor\u001b[39;00m i \u001b[38;5;129;01min\u001b[39;00m \u001b[38;5;28mlen\u001b[39m(\u001b[38;5;28;43mrange\u001b[39;49m\u001b[43m(\u001b[49m\u001b[43mHc\u001b[49m\u001b[43m[\u001b[49m\u001b[38;5;241;43m0\u001b[39;49m\u001b[43m]\u001b[49m\u001b[43m)\u001b[49m):\n\u001b[0;32m      2\u001b[0m     \u001b[38;5;28mprint\u001b[39m(Hc[\u001b[38;5;241m0\u001b[39m][i])\n",
      "\u001b[1;31mTypeError\u001b[0m: 'tuple' object cannot be interpreted as an integer"
     ]
    }
   ],
   "source": [
    "for i in len(range(Hc[0])):\n",
    "    print(Hc[0][i])"
   ]
  },
  {
   "cell_type": "code",
   "execution_count": null,
   "id": "7e85f00d",
   "metadata": {},
   "outputs": [],
   "source": []
  },
  {
   "cell_type": "code",
   "execution_count": null,
   "id": "5cde613c",
   "metadata": {},
   "outputs": [],
   "source": []
  },
  {
   "cell_type": "code",
   "execution_count": null,
   "id": "1b5b7111",
   "metadata": {},
   "outputs": [],
   "source": [
    "r1 = []\n",
    "for i in range(len(Hc[0])):\n",
    "    r1.append(Hc[])"
   ]
  },
  {
   "cell_type": "code",
   "execution_count": null,
   "id": "301c4300",
   "metadata": {},
   "outputs": [],
   "source": []
  },
  {
   "cell_type": "code",
   "execution_count": null,
   "id": "e5434cc3",
   "metadata": {},
   "outputs": [],
   "source": [
    "##### CGP"
   ]
  },
  {
   "cell_type": "code",
   "execution_count": 33,
   "id": "acbc52e4",
   "metadata": {},
   "outputs": [],
   "source": [
    "# Two tuples to be permuted\n",
    "tuple1 = (1, 2)\n",
    "tuple2 = ('a', 'b')"
   ]
  },
  {
   "cell_type": "code",
   "execution_count": 34,
   "id": "ec0c58b9",
   "metadata": {},
   "outputs": [
    {
     "data": {
      "text/plain": [
       "(1, 2)"
      ]
     },
     "execution_count": 34,
     "metadata": {},
     "output_type": "execute_result"
    }
   ],
   "source": [
    "tuple1"
   ]
  },
  {
   "cell_type": "code",
   "execution_count": 35,
   "id": "52a897ce",
   "metadata": {},
   "outputs": [
    {
     "data": {
      "text/plain": [
       "('a', 'b')"
      ]
     },
     "execution_count": 35,
     "metadata": {},
     "output_type": "execute_result"
    }
   ],
   "source": [
    "tuple2"
   ]
  },
  {
   "cell_type": "code",
   "execution_count": 36,
   "id": "7d5aef6f",
   "metadata": {},
   "outputs": [
    {
     "data": {
      "text/plain": [
       "(1, 2, 'a', 'b')"
      ]
     },
     "execution_count": 36,
     "metadata": {},
     "output_type": "execute_result"
    }
   ],
   "source": [
    "tuple1 + tuple2"
   ]
  },
  {
   "cell_type": "code",
   "execution_count": 38,
   "id": "8f3f250b",
   "metadata": {},
   "outputs": [
    {
     "data": {
      "text/plain": [
       "2"
      ]
     },
     "execution_count": 38,
     "metadata": {},
     "output_type": "execute_result"
    }
   ],
   "source": [
    "len(tuple1)"
   ]
  },
  {
   "cell_type": "code",
   "execution_count": 39,
   "id": "0ddb898b",
   "metadata": {},
   "outputs": [
    {
     "data": {
      "text/plain": [
       "2"
      ]
     },
     "execution_count": 39,
     "metadata": {},
     "output_type": "execute_result"
    }
   ],
   "source": [
    "len(tuple2)"
   ]
  },
  {
   "cell_type": "code",
   "execution_count": 37,
   "id": "9e23c806",
   "metadata": {},
   "outputs": [],
   "source": [
    "from itertools import permutations"
   ]
  },
  {
   "cell_type": "code",
   "execution_count": 43,
   "id": "1a971a53",
   "metadata": {},
   "outputs": [],
   "source": [
    "res = list(permutations(tuple1+tuple2,len(tuple1)+len(tuple2)))"
   ]
  },
  {
   "cell_type": "code",
   "execution_count": 44,
   "id": "e97ef3f6",
   "metadata": {},
   "outputs": [
    {
     "data": {
      "text/plain": [
       "[(1, 2, 'a', 'b'),\n",
       " (1, 2, 'b', 'a'),\n",
       " (1, 'a', 2, 'b'),\n",
       " (1, 'a', 'b', 2),\n",
       " (1, 'b', 2, 'a'),\n",
       " (1, 'b', 'a', 2),\n",
       " (2, 1, 'a', 'b'),\n",
       " (2, 1, 'b', 'a'),\n",
       " (2, 'a', 1, 'b'),\n",
       " (2, 'a', 'b', 1),\n",
       " (2, 'b', 1, 'a'),\n",
       " (2, 'b', 'a', 1),\n",
       " ('a', 1, 2, 'b'),\n",
       " ('a', 1, 'b', 2),\n",
       " ('a', 2, 1, 'b'),\n",
       " ('a', 2, 'b', 1),\n",
       " ('a', 'b', 1, 2),\n",
       " ('a', 'b', 2, 1),\n",
       " ('b', 1, 2, 'a'),\n",
       " ('b', 1, 'a', 2),\n",
       " ('b', 2, 1, 'a'),\n",
       " ('b', 2, 'a', 1),\n",
       " ('b', 'a', 1, 2),\n",
       " ('b', 'a', 2, 1)]"
      ]
     },
     "execution_count": 44,
     "metadata": {},
     "output_type": "execute_result"
    }
   ],
   "source": [
    "res"
   ]
  },
  {
   "cell_type": "code",
   "execution_count": 46,
   "id": "ec1567d5",
   "metadata": {},
   "outputs": [
    {
     "data": {
      "text/plain": [
       "24"
      ]
     },
     "execution_count": 46,
     "metadata": {},
     "output_type": "execute_result"
    }
   ],
   "source": [
    "len(res)"
   ]
  },
  {
   "cell_type": "code",
   "execution_count": 45,
   "id": "346affdf",
   "metadata": {},
   "outputs": [
    {
     "name": "stdout",
     "output_type": "stream",
     "text": [
      "[(1, 2, 'a', 'b'), (1, 2, 'b', 'a'), (1, 'a', 2, 'b'), (1, 'a', 'b', 2), (1, 'b', 2, 'a'), (1, 'b', 'a', 2), (2, 1, 'a', 'b'), (2, 1, 'b', 'a'), (2, 'a', 1, 'b'), (2, 'a', 'b', 1), (2, 'b', 1, 'a'), (2, 'b', 'a', 1), ('a', 1, 2, 'b'), ('a', 1, 'b', 2), ('a', 2, 1, 'b'), ('a', 2, 'b', 1), ('a', 'b', 1, 2), ('a', 'b', 2, 1), ('b', 1, 2, 'a'), ('b', 1, 'a', 2), ('b', 2, 1, 'a'), ('b', 2, 'a', 1), ('b', 'a', 1, 2), ('b', 'a', 2, 1)]\n",
      "24\n"
     ]
    }
   ],
   "source": [
    "from itertools import permutations\n",
    "\n",
    "# Two tuples to be permuted\n",
    "tuple1 = (1, 2)\n",
    "tuple2 = ('a', 'b')\n",
    "\n",
    "# Generate permutations\n",
    "permutations_result = list(permutations(tuple1 + tuple2, len(tuple1) + len(tuple2)))\n",
    "\n",
    "# Print the result\n",
    "print(permutations_result)\n",
    "print(len(permutations_result))"
   ]
  },
  {
   "cell_type": "code",
   "execution_count": 48,
   "id": "70d8b35a",
   "metadata": {},
   "outputs": [],
   "source": [
    "t = ('T-L','T-C','T-R')\n",
    "i = ('I-L','I-C','I-R')"
   ]
  },
  {
   "cell_type": "code",
   "execution_count": 49,
   "id": "58e03429",
   "metadata": {},
   "outputs": [],
   "source": [
    "h = [t,i]"
   ]
  },
  {
   "cell_type": "code",
   "execution_count": 50,
   "id": "89de701c",
   "metadata": {},
   "outputs": [
    {
     "data": {
      "text/plain": [
       "[('T-L', 'T-C', 'T-R'), ('I-L', 'I-C', 'I-R')]"
      ]
     },
     "execution_count": 50,
     "metadata": {},
     "output_type": "execute_result"
    }
   ],
   "source": [
    "h"
   ]
  },
  {
   "cell_type": "code",
   "execution_count": 51,
   "id": "1b14869b",
   "metadata": {},
   "outputs": [
    {
     "data": {
      "text/plain": [
       "('T-L', 'T-C', 'T-R')"
      ]
     },
     "execution_count": 51,
     "metadata": {},
     "output_type": "execute_result"
    }
   ],
   "source": [
    "t"
   ]
  },
  {
   "cell_type": "code",
   "execution_count": null,
   "id": "666a9a7e",
   "metadata": {},
   "outputs": [],
   "source": []
  },
  {
   "cell_type": "code",
   "execution_count": null,
   "id": "1eb61a94",
   "metadata": {},
   "outputs": [],
   "source": []
  },
  {
   "cell_type": "code",
   "execution_count": 47,
   "id": "9a15fb75",
   "metadata": {},
   "outputs": [],
   "source": [
    "h = [('T-L','T-C','T-R'),('I-L','I-C','I-R')]"
   ]
  },
  {
   "cell_type": "code",
   "execution_count": 52,
   "id": "c609b5a5",
   "metadata": {},
   "outputs": [
    {
     "ename": "TypeError",
     "evalue": "unsupported operand type(s) for +: 'itertools.permutations' and 'itertools.permutations'",
     "output_type": "error",
     "traceback": [
      "\u001b[1;31m---------------------------------------------------------------------------\u001b[0m",
      "\u001b[1;31mTypeError\u001b[0m                                 Traceback (most recent call last)",
      "Cell \u001b[1;32mIn[52], line 1\u001b[0m\n\u001b[1;32m----> 1\u001b[0m r \u001b[38;5;241m=\u001b[39m \u001b[38;5;28mlist\u001b[39m(permutations(\u001b[43mpermutations\u001b[49m\u001b[43m(\u001b[49m\u001b[43mt\u001b[49m\u001b[43m,\u001b[49m\u001b[38;5;241;43m1\u001b[39;49m\u001b[43m)\u001b[49m\u001b[38;5;241;43m+\u001b[39;49m\u001b[43mpermutations\u001b[49m\u001b[43m(\u001b[49m\u001b[43mi\u001b[49m\u001b[43m,\u001b[49m\u001b[38;5;241;43m1\u001b[39;49m\u001b[43m)\u001b[49m,\u001b[38;5;241m2\u001b[39m))\n",
      "\u001b[1;31mTypeError\u001b[0m: unsupported operand type(s) for +: 'itertools.permutations' and 'itertools.permutations'"
     ]
    }
   ],
   "source": [
    "r = list(permutations((list(permutations(t,1))+list(permutations(i,1)),2))"
   ]
  },
  {
   "cell_type": "code",
   "execution_count": null,
   "id": "94566e3e",
   "metadata": {},
   "outputs": [],
   "source": []
  },
  {
   "cell_type": "code",
   "execution_count": 54,
   "id": "413cbac6",
   "metadata": {},
   "outputs": [],
   "source": [
    "r = list(permutations((list(permutations(t,1))+list(permutations(i,1))),2))"
   ]
  },
  {
   "cell_type": "code",
   "execution_count": 55,
   "id": "46785b2e",
   "metadata": {},
   "outputs": [
    {
     "data": {
      "text/plain": [
       "[(('T-L',), ('T-C',)),\n",
       " (('T-L',), ('T-R',)),\n",
       " (('T-L',), ('I-L',)),\n",
       " (('T-L',), ('I-C',)),\n",
       " (('T-L',), ('I-R',)),\n",
       " (('T-C',), ('T-L',)),\n",
       " (('T-C',), ('T-R',)),\n",
       " (('T-C',), ('I-L',)),\n",
       " (('T-C',), ('I-C',)),\n",
       " (('T-C',), ('I-R',)),\n",
       " (('T-R',), ('T-L',)),\n",
       " (('T-R',), ('T-C',)),\n",
       " (('T-R',), ('I-L',)),\n",
       " (('T-R',), ('I-C',)),\n",
       " (('T-R',), ('I-R',)),\n",
       " (('I-L',), ('T-L',)),\n",
       " (('I-L',), ('T-C',)),\n",
       " (('I-L',), ('T-R',)),\n",
       " (('I-L',), ('I-C',)),\n",
       " (('I-L',), ('I-R',)),\n",
       " (('I-C',), ('T-L',)),\n",
       " (('I-C',), ('T-C',)),\n",
       " (('I-C',), ('T-R',)),\n",
       " (('I-C',), ('I-L',)),\n",
       " (('I-C',), ('I-R',)),\n",
       " (('I-R',), ('T-L',)),\n",
       " (('I-R',), ('T-C',)),\n",
       " (('I-R',), ('T-R',)),\n",
       " (('I-R',), ('I-L',)),\n",
       " (('I-R',), ('I-C',))]"
      ]
     },
     "execution_count": 55,
     "metadata": {},
     "output_type": "execute_result"
    }
   ],
   "source": [
    "r"
   ]
  },
  {
   "cell_type": "code",
   "execution_count": 56,
   "id": "3cee9ae7",
   "metadata": {},
   "outputs": [
    {
     "ename": "AttributeError",
     "evalue": "module 'itertools' has no attribute 'zip'",
     "output_type": "error",
     "traceback": [
      "\u001b[1;31m---------------------------------------------------------------------------\u001b[0m",
      "\u001b[1;31mAttributeError\u001b[0m                            Traceback (most recent call last)",
      "Cell \u001b[1;32mIn[56], line 1\u001b[0m\n\u001b[1;32m----> 1\u001b[0m help(\u001b[43mitertools\u001b[49m\u001b[38;5;241;43m.\u001b[39;49m\u001b[43mzip\u001b[49m)\n",
      "\u001b[1;31mAttributeError\u001b[0m: module 'itertools' has no attribute 'zip'"
     ]
    }
   ],
   "source": [
    "help(itertools.zip)"
   ]
  },
  {
   "cell_type": "code",
   "execution_count": 57,
   "id": "46de84b5",
   "metadata": {},
   "outputs": [
    {
     "ename": "AttributeError",
     "evalue": "module 'functools' has no attribute 'zip'",
     "output_type": "error",
     "traceback": [
      "\u001b[1;31m---------------------------------------------------------------------------\u001b[0m",
      "\u001b[1;31mAttributeError\u001b[0m                            Traceback (most recent call last)",
      "Cell \u001b[1;32mIn[57], line 1\u001b[0m\n\u001b[1;32m----> 1\u001b[0m help(\u001b[43mfunctools\u001b[49m\u001b[38;5;241;43m.\u001b[39;49m\u001b[43mzip\u001b[49m)\n",
      "\u001b[1;31mAttributeError\u001b[0m: module 'functools' has no attribute 'zip'"
     ]
    }
   ],
   "source": [
    "help(functools.zip)"
   ]
  },
  {
   "cell_type": "code",
   "execution_count": 58,
   "id": "2b00f495",
   "metadata": {},
   "outputs": [],
   "source": [
    "res = zip(['HT','HI'],['L','R','C'])"
   ]
  },
  {
   "cell_type": "code",
   "execution_count": 59,
   "id": "ecce2e19",
   "metadata": {},
   "outputs": [
    {
     "data": {
      "text/plain": [
       "<zip at 0x292ed251c40>"
      ]
     },
     "execution_count": 59,
     "metadata": {},
     "output_type": "execute_result"
    }
   ],
   "source": [
    "res"
   ]
  },
  {
   "cell_type": "code",
   "execution_count": 60,
   "id": "b7ca2fa6",
   "metadata": {},
   "outputs": [
    {
     "data": {
      "text/plain": [
       "[('HT', 'L'), ('HI', 'R')]"
      ]
     },
     "execution_count": 60,
     "metadata": {},
     "output_type": "execute_result"
    }
   ],
   "source": [
    "list(res)"
   ]
  },
  {
   "cell_type": "code",
   "execution_count": 63,
   "id": "f4052820",
   "metadata": {},
   "outputs": [
    {
     "ename": "SyntaxError",
     "evalue": "invalid syntax (2506972560.py, line 1)",
     "output_type": "error",
     "traceback": [
      "\u001b[1;36m  Cell \u001b[1;32mIn[63], line 1\u001b[1;36m\u001b[0m\n\u001b[1;33m    res = (h,j) for a,b in [['HT','HI'],['L','C','R']]\u001b[0m\n\u001b[1;37m                ^\u001b[0m\n\u001b[1;31mSyntaxError\u001b[0m\u001b[1;31m:\u001b[0m invalid syntax\n"
     ]
    }
   ],
   "source": [
    "res = (h,j) for a,b in [['HT','HI'],['L','C','R']]"
   ]
  },
  {
   "cell_type": "code",
   "execution_count": 65,
   "id": "990e7d93",
   "metadata": {},
   "outputs": [],
   "source": [
    "res = list(zip([1,2,3],('a','b','c')))"
   ]
  },
  {
   "cell_type": "code",
   "execution_count": 66,
   "id": "3c579ec9",
   "metadata": {},
   "outputs": [
    {
     "data": {
      "text/plain": [
       "[(1, 'a'), (2, 'b'), (3, 'c')]"
      ]
     },
     "execution_count": 66,
     "metadata": {},
     "output_type": "execute_result"
    }
   ],
   "source": [
    "res"
   ]
  },
  {
   "cell_type": "code",
   "execution_count": 67,
   "id": "3c4e1cce",
   "metadata": {},
   "outputs": [],
   "source": [
    "Hc = ['T','I']\n",
    "Al = ['L','C',\"R\"]\n"
   ]
  },
  {
   "cell_type": "code",
   "execution_count": 68,
   "id": "db3c35f7",
   "metadata": {},
   "outputs": [
    {
     "data": {
      "text/plain": [
       "['T', 'I']"
      ]
     },
     "execution_count": 68,
     "metadata": {},
     "output_type": "execute_result"
    }
   ],
   "source": [
    "Hc"
   ]
  },
  {
   "cell_type": "code",
   "execution_count": 69,
   "id": "56997264",
   "metadata": {},
   "outputs": [
    {
     "data": {
      "text/plain": [
       "['L', 'C', 'R']"
      ]
     },
     "execution_count": 69,
     "metadata": {},
     "output_type": "execute_result"
    }
   ],
   "source": [
    "Al"
   ]
  },
  {
   "cell_type": "code",
   "execution_count": 70,
   "id": "de8ebb90",
   "metadata": {},
   "outputs": [],
   "source": [
    "r = []\n",
    "for e in Hc:\n",
    "    for j in Al:\n",
    "      r.append(list(zip(e,j)))  "
   ]
  },
  {
   "cell_type": "code",
   "execution_count": 71,
   "id": "f0c42dab",
   "metadata": {},
   "outputs": [
    {
     "data": {
      "text/plain": [
       "[[('T', 'L')],\n",
       " [('T', 'C')],\n",
       " [('T', 'R')],\n",
       " [('I', 'L')],\n",
       " [('I', 'C')],\n",
       " [('I', 'R')]]"
      ]
     },
     "execution_count": 71,
     "metadata": {},
     "output_type": "execute_result"
    }
   ],
   "source": [
    "r"
   ]
  },
  {
   "cell_type": "code",
   "execution_count": 72,
   "id": "439b72f0",
   "metadata": {},
   "outputs": [],
   "source": [
    "res = permutations(r,2)"
   ]
  },
  {
   "cell_type": "code",
   "execution_count": 74,
   "id": "70adcb2f",
   "metadata": {},
   "outputs": [
    {
     "data": {
      "text/plain": [
       "[([('T', 'L')], [('T', 'C')]),\n",
       " ([('T', 'L')], [('T', 'R')]),\n",
       " ([('T', 'L')], [('I', 'L')]),\n",
       " ([('T', 'L')], [('I', 'C')]),\n",
       " ([('T', 'L')], [('I', 'R')]),\n",
       " ([('T', 'C')], [('T', 'L')]),\n",
       " ([('T', 'C')], [('T', 'R')]),\n",
       " ([('T', 'C')], [('I', 'L')]),\n",
       " ([('T', 'C')], [('I', 'C')]),\n",
       " ([('T', 'C')], [('I', 'R')]),\n",
       " ([('T', 'R')], [('T', 'L')]),\n",
       " ([('T', 'R')], [('T', 'C')]),\n",
       " ([('T', 'R')], [('I', 'L')]),\n",
       " ([('T', 'R')], [('I', 'C')]),\n",
       " ([('T', 'R')], [('I', 'R')]),\n",
       " ([('I', 'L')], [('T', 'L')]),\n",
       " ([('I', 'L')], [('T', 'C')]),\n",
       " ([('I', 'L')], [('T', 'R')]),\n",
       " ([('I', 'L')], [('I', 'C')]),\n",
       " ([('I', 'L')], [('I', 'R')]),\n",
       " ([('I', 'C')], [('T', 'L')]),\n",
       " ([('I', 'C')], [('T', 'C')]),\n",
       " ([('I', 'C')], [('T', 'R')]),\n",
       " ([('I', 'C')], [('I', 'L')]),\n",
       " ([('I', 'C')], [('I', 'R')]),\n",
       " ([('I', 'R')], [('T', 'L')]),\n",
       " ([('I', 'R')], [('T', 'C')]),\n",
       " ([('I', 'R')], [('T', 'R')]),\n",
       " ([('I', 'R')], [('I', 'L')]),\n",
       " ([('I', 'R')], [('I', 'C')])]"
      ]
     },
     "execution_count": 74,
     "metadata": {},
     "output_type": "execute_result"
    }
   ],
   "source": [
    "list(res)"
   ]
  },
  {
   "cell_type": "code",
   "execution_count": 75,
   "id": "469128bd",
   "metadata": {},
   "outputs": [],
   "source": [
    "H = [('TL','TC','TR'),('LL','LC','LR')]\n",
    "B = [('DL',\"IR\"),('IL','DR'),('IC','DC')]\n",
    "F = [('P',\"E\",'U','C'),['L','C','R']]"
   ]
  },
  {
   "cell_type": "code",
   "execution_count": 77,
   "id": "099266ff",
   "metadata": {},
   "outputs": [],
   "source": [
    "FC = ['P',\"E\",'U','C']\n",
    "FA = ['L','C','R']"
   ]
  },
  {
   "cell_type": "code",
   "execution_count": 78,
   "id": "cfd3e9d3",
   "metadata": {},
   "outputs": [
    {
     "name": "stdout",
     "output_type": "stream",
     "text": [
      "1 a\n",
      "2 b\n",
      "3 c\n"
     ]
    }
   ],
   "source": [
    "list1 = [1, 2, 3]\n",
    "list2 = ['a', 'b', 'c']\n",
    "\n",
    "# Unpacking the zipped result\n",
    "for element1, element2 in zip(list1, list2):\n",
    "    print(element1, element2)\n"
   ]
  },
  {
   "cell_type": "code",
   "execution_count": 82,
   "id": "3f39a33a",
   "metadata": {},
   "outputs": [
    {
     "data": {
      "text/plain": [
       "\"'A'\""
      ]
     },
     "execution_count": 82,
     "metadata": {},
     "output_type": "execute_result"
    }
   ],
   "source": [
    "ascii('A')"
   ]
  },
  {
   "cell_type": "code",
   "execution_count": 80,
   "id": "85d0a0c5",
   "metadata": {},
   "outputs": [
    {
     "data": {
      "text/plain": [
       "'65'"
      ]
     },
     "execution_count": 80,
     "metadata": {},
     "output_type": "execute_result"
    }
   ],
   "source": [
    "str(65)"
   ]
  },
  {
   "cell_type": "code",
   "execution_count": 81,
   "id": "00b3a77f",
   "metadata": {},
   "outputs": [
    {
     "ename": "NameError",
     "evalue": "name 'unicode' is not defined",
     "output_type": "error",
     "traceback": [
      "\u001b[1;31m---------------------------------------------------------------------------\u001b[0m",
      "\u001b[1;31mNameError\u001b[0m                                 Traceback (most recent call last)",
      "Cell \u001b[1;32mIn[81], line 1\u001b[0m\n\u001b[1;32m----> 1\u001b[0m \u001b[43municode\u001b[49m(\u001b[38;5;124m'\u001b[39m\u001b[38;5;124mA\u001b[39m\u001b[38;5;124m'\u001b[39m)\n",
      "\u001b[1;31mNameError\u001b[0m: name 'unicode' is not defined"
     ]
    }
   ],
   "source": [
    "unicode('A')"
   ]
  },
  {
   "cell_type": "code",
   "execution_count": 83,
   "id": "9bffcfbe",
   "metadata": {},
   "outputs": [],
   "source": [
    "class Tmp:\n",
    "    def __init__(self):\n",
    "        print(\"created initializedd\")"
   ]
  },
  {
   "cell_type": "code",
   "execution_count": 84,
   "id": "3a8d4670",
   "metadata": {},
   "outputs": [
    {
     "name": "stdout",
     "output_type": "stream",
     "text": [
      "created initializedd\n"
     ]
    }
   ],
   "source": [
    "t1 = Tmp()"
   ]
  },
  {
   "cell_type": "code",
   "execution_count": 85,
   "id": "1487de16",
   "metadata": {},
   "outputs": [
    {
     "name": "stdout",
     "output_type": "stream",
     "text": [
      "created initializedd\n",
      "created initializedd\n"
     ]
    }
   ],
   "source": [
    "t = [Tmp(),Tmp()]"
   ]
  },
  {
   "cell_type": "code",
   "execution_count": 89,
   "id": "a7d2d828",
   "metadata": {},
   "outputs": [],
   "source": [
    "class Tmp:\n",
    "    def __init__(self,h,b,f):\n",
    "        self.h = h\n",
    "        self.b = b\n",
    "        self.f = f\n",
    "    \n",
    "    def disp(self):\n",
    "        print(self.h,',',self.b,',',self.f)"
   ]
  },
  {
   "cell_type": "code",
   "execution_count": 90,
   "id": "58eeb84c",
   "metadata": {},
   "outputs": [],
   "source": [
    "t1 = Tmp('p',\"q\",'r')"
   ]
  },
  {
   "cell_type": "code",
   "execution_count": 91,
   "id": "5154977c",
   "metadata": {},
   "outputs": [
    {
     "name": "stdout",
     "output_type": "stream",
     "text": [
      "p , q , r\n"
     ]
    }
   ],
   "source": [
    "t1.disp()"
   ]
  },
  {
   "cell_type": "code",
   "execution_count": 93,
   "id": "f0034177",
   "metadata": {},
   "outputs": [],
   "source": [
    "t = [Tmp('a','b','c'),Tmp('p','q','r')]"
   ]
  },
  {
   "cell_type": "code",
   "execution_count": 95,
   "id": "36ac3b77",
   "metadata": {},
   "outputs": [
    {
     "name": "stdout",
     "output_type": "stream",
     "text": [
      "a , b , c\n",
      "p , q , r\n"
     ]
    }
   ],
   "source": [
    "for a in t:\n",
    "    a.disp()"
   ]
  },
  {
   "cell_type": "code",
   "execution_count": 96,
   "id": "073173f5",
   "metadata": {},
   "outputs": [],
   "source": [
    "class POne:\n",
    "    def __init__(self):\n",
    "        print(\"created!\")"
   ]
  },
  {
   "cell_type": "code",
   "execution_count": 97,
   "id": "801ec417",
   "metadata": {},
   "outputs": [
    {
     "name": "stdout",
     "output_type": "stream",
     "text": [
      "created!\n"
     ]
    }
   ],
   "source": [
    "p1 = POne()"
   ]
  },
  {
   "cell_type": "code",
   "execution_count": 98,
   "id": "76b9b507",
   "metadata": {},
   "outputs": [
    {
     "name": "stdout",
     "output_type": "stream",
     "text": [
      "created!\n",
      "created!\n"
     ]
    }
   ],
   "source": [
    "p = [POne(),POne()]"
   ]
  },
  {
   "cell_type": "code",
   "execution_count": 99,
   "id": "2c6ecc8c",
   "metadata": {},
   "outputs": [],
   "source": [
    "class POne:\n",
    "    def __init__(self,a):\n",
    "        self.__v1 = a\n",
    "        \n",
    "    def disp(self):\n",
    "        print(self.__v1)"
   ]
  },
  {
   "cell_type": "code",
   "execution_count": 100,
   "id": "7e510f56",
   "metadata": {},
   "outputs": [],
   "source": [
    "p1 = POne(100)"
   ]
  },
  {
   "cell_type": "code",
   "execution_count": 102,
   "id": "d0d94148",
   "metadata": {},
   "outputs": [
    {
     "name": "stdout",
     "output_type": "stream",
     "text": [
      "100\n"
     ]
    }
   ],
   "source": [
    "p1.disp()"
   ]
  },
  {
   "cell_type": "code",
   "execution_count": 103,
   "id": "6f70a4b1",
   "metadata": {},
   "outputs": [
    {
     "ename": "AttributeError",
     "evalue": "'POne' object has no attribute '__v1'",
     "output_type": "error",
     "traceback": [
      "\u001b[1;31m---------------------------------------------------------------------------\u001b[0m",
      "\u001b[1;31mAttributeError\u001b[0m                            Traceback (most recent call last)",
      "Cell \u001b[1;32mIn[103], line 1\u001b[0m\n\u001b[1;32m----> 1\u001b[0m \u001b[43mp1\u001b[49m\u001b[38;5;241;43m.\u001b[39;49m\u001b[43m__v1\u001b[49m\n",
      "\u001b[1;31mAttributeError\u001b[0m: 'POne' object has no attribute '__v1'"
     ]
    }
   ],
   "source": [
    "p1.__v1"
   ]
  },
  {
   "cell_type": "code",
   "execution_count": 104,
   "id": "64655b73",
   "metadata": {},
   "outputs": [],
   "source": [
    "class POne:\n",
    "    def __init__(self,a):\n",
    "        self._v1 = a\n",
    "        \n",
    "    def disp(self):\n",
    "        print(self._v1)"
   ]
  },
  {
   "cell_type": "code",
   "execution_count": 105,
   "id": "5c911da5",
   "metadata": {},
   "outputs": [],
   "source": [
    "p1 = POne(1000)"
   ]
  },
  {
   "cell_type": "code",
   "execution_count": 106,
   "id": "f35e8187",
   "metadata": {},
   "outputs": [
    {
     "data": {
      "text/plain": [
       "1000"
      ]
     },
     "execution_count": 106,
     "metadata": {},
     "output_type": "execute_result"
    }
   ],
   "source": [
    "p1._v1"
   ]
  },
  {
   "cell_type": "code",
   "execution_count": 107,
   "id": "51ddfe59",
   "metadata": {},
   "outputs": [
    {
     "name": "stdout",
     "output_type": "stream",
     "text": [
      "1000\n"
     ]
    }
   ],
   "source": [
    "p1.disp()"
   ]
  },
  {
   "cell_type": "code",
   "execution_count": 108,
   "id": "ac98d7da",
   "metadata": {},
   "outputs": [],
   "source": [
    "class POne:\n",
    "    def __init__(self,a,b):\n",
    "        self.__v1 = a\n",
    "        self.__v2 = b\n",
    "        \n",
    "    def disp(self):\n",
    "        print(self.__v1)\n",
    "        print(self.__v2)"
   ]
  },
  {
   "cell_type": "code",
   "execution_count": 109,
   "id": "d9cc884e",
   "metadata": {},
   "outputs": [],
   "source": [
    "p1 = POne(2,3)"
   ]
  },
  {
   "cell_type": "code",
   "execution_count": 110,
   "id": "a85fa74f",
   "metadata": {},
   "outputs": [
    {
     "ename": "AttributeError",
     "evalue": "'POne' object has no attribute '__v1'",
     "output_type": "error",
     "traceback": [
      "\u001b[1;31m---------------------------------------------------------------------------\u001b[0m",
      "\u001b[1;31mAttributeError\u001b[0m                            Traceback (most recent call last)",
      "Cell \u001b[1;32mIn[110], line 1\u001b[0m\n\u001b[1;32m----> 1\u001b[0m \u001b[43mp1\u001b[49m\u001b[38;5;241;43m.\u001b[39;49m\u001b[43m__v1\u001b[49m\n",
      "\u001b[1;31mAttributeError\u001b[0m: 'POne' object has no attribute '__v1'"
     ]
    }
   ],
   "source": [
    "p1.__v1"
   ]
  },
  {
   "cell_type": "code",
   "execution_count": 111,
   "id": "84ed447e",
   "metadata": {},
   "outputs": [
    {
     "ename": "AttributeError",
     "evalue": "'POne' object has no attribute '__v2'",
     "output_type": "error",
     "traceback": [
      "\u001b[1;31m---------------------------------------------------------------------------\u001b[0m",
      "\u001b[1;31mAttributeError\u001b[0m                            Traceback (most recent call last)",
      "Cell \u001b[1;32mIn[111], line 1\u001b[0m\n\u001b[1;32m----> 1\u001b[0m \u001b[43mp1\u001b[49m\u001b[38;5;241;43m.\u001b[39;49m\u001b[43m__v2\u001b[49m\n",
      "\u001b[1;31mAttributeError\u001b[0m: 'POne' object has no attribute '__v2'"
     ]
    }
   ],
   "source": [
    "p1.__v2"
   ]
  },
  {
   "cell_type": "code",
   "execution_count": 112,
   "id": "96bce9ac",
   "metadata": {},
   "outputs": [
    {
     "name": "stdout",
     "output_type": "stream",
     "text": [
      "2\n",
      "3\n"
     ]
    }
   ],
   "source": [
    "p1.disp()"
   ]
  },
  {
   "cell_type": "code",
   "execution_count": 119,
   "id": "5a3faefd",
   "metadata": {},
   "outputs": [],
   "source": [
    "def shout(m):\n",
    "    return m.lower()"
   ]
  },
  {
   "cell_type": "code",
   "execution_count": 120,
   "id": "9df53098",
   "metadata": {},
   "outputs": [],
   "source": [
    "a = shout('HeLlo')"
   ]
  },
  {
   "cell_type": "code",
   "execution_count": 121,
   "id": "421e9ce4",
   "metadata": {},
   "outputs": [
    {
     "data": {
      "text/plain": [
       "'hello'"
      ]
     },
     "execution_count": 121,
     "metadata": {},
     "output_type": "execute_result"
    }
   ],
   "source": [
    "a"
   ]
  },
  {
   "cell_type": "code",
   "execution_count": 122,
   "id": "83c47cb1",
   "metadata": {},
   "outputs": [
    {
     "ename": "TypeError",
     "evalue": "'str' object is not callable",
     "output_type": "error",
     "traceback": [
      "\u001b[1;31m---------------------------------------------------------------------------\u001b[0m",
      "\u001b[1;31mTypeError\u001b[0m                                 Traceback (most recent call last)",
      "Cell \u001b[1;32mIn[122], line 1\u001b[0m\n\u001b[1;32m----> 1\u001b[0m \u001b[43ma\u001b[49m\u001b[43m(\u001b[49m\u001b[43m)\u001b[49m\n",
      "\u001b[1;31mTypeError\u001b[0m: 'str' object is not callable"
     ]
    }
   ],
   "source": [
    "a()"
   ]
  },
  {
   "cell_type": "code",
   "execution_count": 123,
   "id": "dce74343",
   "metadata": {},
   "outputs": [],
   "source": [
    "a = shout"
   ]
  },
  {
   "cell_type": "code",
   "execution_count": 124,
   "id": "699ca068",
   "metadata": {},
   "outputs": [
    {
     "data": {
      "text/plain": [
       "'hello'"
      ]
     },
     "execution_count": 124,
     "metadata": {},
     "output_type": "execute_result"
    }
   ],
   "source": [
    "a('HeLlo')"
   ]
  },
  {
   "cell_type": "code",
   "execution_count": null,
   "id": "ebc03671",
   "metadata": {},
   "outputs": [],
   "source": []
  },
  {
   "cell_type": "code",
   "execution_count": 131,
   "id": "9a3e8487",
   "metadata": {},
   "outputs": [],
   "source": [
    "n = \"Apple\"\n",
    "q = 10"
   ]
  },
  {
   "cell_type": "code",
   "execution_count": 132,
   "id": "1b20056a",
   "metadata": {},
   "outputs": [
    {
     "name": "stdout",
     "output_type": "stream",
     "text": [
      "The fruit I have is Apple and I have in my basket 10 of those kind\n"
     ]
    }
   ],
   "source": [
    "print(f\"The fruit I have is {n} and I have in my basket {q} of those kind\")"
   ]
  },
  {
   "cell_type": "code",
   "execution_count": null,
   "id": "d4a37e90",
   "metadata": {},
   "outputs": [],
   "source": []
  },
  {
   "cell_type": "code",
   "execution_count": 125,
   "id": "00e7cdcb",
   "metadata": {},
   "outputs": [],
   "source": [
    "s1 = (1,2,3)\n",
    "s2 = ('a','b','c')"
   ]
  },
  {
   "cell_type": "code",
   "execution_count": 128,
   "id": "95ee02c2",
   "metadata": {},
   "outputs": [],
   "source": [
    "res = [x for x in zip(s1,s2)]"
   ]
  },
  {
   "cell_type": "code",
   "execution_count": 129,
   "id": "4431cab3",
   "metadata": {},
   "outputs": [
    {
     "data": {
      "text/plain": [
       "[(1, 'a'), (2, 'b'), (3, 'c')]"
      ]
     },
     "execution_count": 129,
     "metadata": {},
     "output_type": "execute_result"
    }
   ],
   "source": [
    "res"
   ]
  },
  {
   "cell_type": "code",
   "execution_count": 133,
   "id": "8a0ef433",
   "metadata": {},
   "outputs": [],
   "source": [
    "t1 = ('H',\"B\",'F')\n",
    "t2 = (\"Lg\",\"Tx\")\n",
    "t3 = (\"L\",\"C\",\"R\")"
   ]
  },
  {
   "cell_type": "code",
   "execution_count": 136,
   "id": "e664d6c7",
   "metadata": {},
   "outputs": [],
   "source": [
    "res = list(permutations(t1+t3,2))"
   ]
  },
  {
   "cell_type": "code",
   "execution_count": 137,
   "id": "72b103d3",
   "metadata": {},
   "outputs": [
    {
     "data": {
      "text/plain": [
       "[('H', 'B'),\n",
       " ('H', 'F'),\n",
       " ('H', 'L'),\n",
       " ('H', 'C'),\n",
       " ('H', 'R'),\n",
       " ('B', 'H'),\n",
       " ('B', 'F'),\n",
       " ('B', 'L'),\n",
       " ('B', 'C'),\n",
       " ('B', 'R'),\n",
       " ('F', 'H'),\n",
       " ('F', 'B'),\n",
       " ('F', 'L'),\n",
       " ('F', 'C'),\n",
       " ('F', 'R'),\n",
       " ('L', 'H'),\n",
       " ('L', 'B'),\n",
       " ('L', 'F'),\n",
       " ('L', 'C'),\n",
       " ('L', 'R'),\n",
       " ('C', 'H'),\n",
       " ('C', 'B'),\n",
       " ('C', 'F'),\n",
       " ('C', 'L'),\n",
       " ('C', 'R'),\n",
       " ('R', 'H'),\n",
       " ('R', 'B'),\n",
       " ('R', 'F'),\n",
       " ('R', 'L'),\n",
       " ('R', 'C')]"
      ]
     },
     "execution_count": 137,
     "metadata": {},
     "output_type": "execute_result"
    }
   ],
   "source": [
    "res"
   ]
  },
  {
   "cell_type": "code",
   "execution_count": 138,
   "id": "0de41241",
   "metadata": {},
   "outputs": [],
   "source": [
    "res = list(permutations(t3,1))"
   ]
  },
  {
   "cell_type": "code",
   "execution_count": 139,
   "id": "f9c15503",
   "metadata": {},
   "outputs": [
    {
     "data": {
      "text/plain": [
       "[('L',), ('C',), ('R',)]"
      ]
     },
     "execution_count": 139,
     "metadata": {},
     "output_type": "execute_result"
    }
   ],
   "source": [
    "res"
   ]
  },
  {
   "cell_type": "code",
   "execution_count": 140,
   "id": "4308205e",
   "metadata": {},
   "outputs": [],
   "source": [
    "comb = zip(t1,res)"
   ]
  },
  {
   "cell_type": "code",
   "execution_count": 141,
   "id": "95fa1941",
   "metadata": {},
   "outputs": [
    {
     "data": {
      "text/plain": [
       "<zip at 0x292ed21b380>"
      ]
     },
     "execution_count": 141,
     "metadata": {},
     "output_type": "execute_result"
    }
   ],
   "source": [
    "comb"
   ]
  },
  {
   "cell_type": "code",
   "execution_count": 142,
   "id": "b99e6239",
   "metadata": {},
   "outputs": [
    {
     "data": {
      "text/plain": [
       "[('H', ('L',)), ('B', ('C',)), ('F', ('R',))]"
      ]
     },
     "execution_count": 142,
     "metadata": {},
     "output_type": "execute_result"
    }
   ],
   "source": [
    "list(comb)"
   ]
  },
  {
   "cell_type": "code",
   "execution_count": 143,
   "id": "c6991a18",
   "metadata": {},
   "outputs": [
    {
     "data": {
      "text/plain": [
       "[('H', 'L'),\n",
       " ('H', 'C'),\n",
       " ('H', 'R'),\n",
       " ('B', 'L'),\n",
       " ('B', 'C'),\n",
       " ('B', 'R'),\n",
       " ('F', 'L'),\n",
       " ('F', 'C'),\n",
       " ('F', 'R')]"
      ]
     },
     "execution_count": 143,
     "metadata": {},
     "output_type": "execute_result"
    }
   ],
   "source": [
    "t = [('H','L'),('H','C'),('H','R'),\n",
    "('B','L'),('B','C'),('B','R'),\n",
    "('F','L'),('F','C'),('F','R')]"
   ]
  },
  {
   "cell_type": "code",
   "execution_count": null,
   "id": "fa6dc611",
   "metadata": {},
   "outputs": [],
   "source": [
    "t = {'c1':('H-L','B-L','F-L'),'c2':('H-C','B-C','F-C'),'c3':('H-R','B-R','F-R'),\n",
    "    'c4':('H-L','B-R','F-R'),'c5':('H-L','B-C','F-C'),'c6':('H-R','B-R','F-R'),}"
   ]
  }
 ],
 "metadata": {
  "kernelspec": {
   "display_name": "Python 3 (ipykernel)",
   "language": "python",
   "name": "python3"
  },
  "language_info": {
   "codemirror_mode": {
    "name": "ipython",
    "version": 3
   },
   "file_extension": ".py",
   "mimetype": "text/x-python",
   "name": "python",
   "nbconvert_exporter": "python",
   "pygments_lexer": "ipython3",
   "version": "3.9.13"
  }
 },
 "nbformat": 4,
 "nbformat_minor": 5
}
