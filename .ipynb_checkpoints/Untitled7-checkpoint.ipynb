{
 "cells": [
  {
   "cell_type": "code",
   "execution_count": 10,
   "id": "7242b9f3",
   "metadata": {},
   "outputs": [],
   "source": [
    "class TCls1:\n",
    "    def __init__(self,eno,ena):\n",
    "        self.eno = eno\n",
    "        self.ena = ena\n",
    "        \n",
    "    def getEno(self):\n",
    "        return self.eno\n",
    "    \n",
    "    def getEna(self):\n",
    "        return self.ena\n",
    "    \n",
    "    def dispDtls(self):\n",
    "        print(self.eno,' , ',self.ena)\n"
   ]
  },
  {
   "cell_type": "code",
   "execution_count": 6,
   "id": "3848f4b7",
   "metadata": {},
   "outputs": [],
   "source": [
    "t1 = TCls1(101,'AAA')"
   ]
  },
  {
   "cell_type": "code",
   "execution_count": 7,
   "id": "61e765bf",
   "metadata": {},
   "outputs": [
    {
     "data": {
      "text/plain": [
       "101"
      ]
     },
     "execution_count": 7,
     "metadata": {},
     "output_type": "execute_result"
    }
   ],
   "source": [
    "t1.getEno()"
   ]
  },
  {
   "cell_type": "code",
   "execution_count": 8,
   "id": "7991e749",
   "metadata": {},
   "outputs": [
    {
     "data": {
      "text/plain": [
       "'AAA'"
      ]
     },
     "execution_count": 8,
     "metadata": {},
     "output_type": "execute_result"
    }
   ],
   "source": [
    "t1.getEna()"
   ]
  },
  {
   "cell_type": "code",
   "execution_count": 17,
   "id": "f684a21a",
   "metadata": {},
   "outputs": [],
   "source": [
    "tlist = [TCls1(5,'EEE'),TCls1(2,'BBB'),TCls1(3,'CCC'),TCls1(4,'DDD'),TCls1(1,'AAA')]"
   ]
  },
  {
   "cell_type": "code",
   "execution_count": 18,
   "id": "893c0346",
   "metadata": {},
   "outputs": [
    {
     "name": "stdout",
     "output_type": "stream",
     "text": [
      "5  ,  EEE\n",
      "2  ,  BBB\n",
      "3  ,  CCC\n",
      "4  ,  DDD\n",
      "1  ,  AAA\n"
     ]
    }
   ],
   "source": [
    "for t in tlist:\n",
    "    t.dispDtls()\n",
    "    "
   ]
  },
  {
   "cell_type": "code",
   "execution_count": 19,
   "id": "fda67d6d",
   "metadata": {},
   "outputs": [],
   "source": [
    "tlist.sort(key=lambda s : s.getEno())"
   ]
  },
  {
   "cell_type": "code",
   "execution_count": 20,
   "id": "c89fa75c",
   "metadata": {},
   "outputs": [
    {
     "name": "stdout",
     "output_type": "stream",
     "text": [
      "1  ,  AAA\n",
      "2  ,  BBB\n",
      "3  ,  CCC\n",
      "4  ,  DDD\n",
      "5  ,  EEE\n"
     ]
    }
   ],
   "source": [
    "for t in tlist:\n",
    "    t.dispDtls()"
   ]
  },
  {
   "cell_type": "code",
   "execution_count": 21,
   "id": "6a4a8130",
   "metadata": {},
   "outputs": [],
   "source": [
    "tlist.sort(key=lambda s : s.getEno(),reverse=True)"
   ]
  },
  {
   "cell_type": "code",
   "execution_count": 22,
   "id": "f2b973d9",
   "metadata": {},
   "outputs": [
    {
     "name": "stdout",
     "output_type": "stream",
     "text": [
      "5  ,  EEE\n",
      "4  ,  DDD\n",
      "3  ,  CCC\n",
      "2  ,  BBB\n",
      "1  ,  AAA\n"
     ]
    }
   ],
   "source": [
    "for t in tlist:\n",
    "    t.dispDtls()"
   ]
  },
  {
   "cell_type": "code",
   "execution_count": 24,
   "id": "195ea390",
   "metadata": {},
   "outputs": [],
   "source": [
    "tlist.sort(key=lambda s : s.getEna())"
   ]
  },
  {
   "cell_type": "code",
   "execution_count": 25,
   "id": "29a16e9b",
   "metadata": {},
   "outputs": [
    {
     "name": "stdout",
     "output_type": "stream",
     "text": [
      "1  ,  AAA\n",
      "2  ,  BBB\n",
      "3  ,  CCC\n",
      "4  ,  DDD\n",
      "5  ,  EEE\n"
     ]
    }
   ],
   "source": [
    "for t in tlist:\n",
    "    t.dispDtls()"
   ]
  },
  {
   "cell_type": "code",
   "execution_count": 27,
   "id": "c679177b",
   "metadata": {},
   "outputs": [],
   "source": [
    "tlist.sort(key=lambda s : s.getEna(),reverse=True)"
   ]
  },
  {
   "cell_type": "code",
   "execution_count": 28,
   "id": "c5f9aca2",
   "metadata": {},
   "outputs": [
    {
     "name": "stdout",
     "output_type": "stream",
     "text": [
      "5  ,  EEE\n",
      "4  ,  DDD\n",
      "3  ,  CCC\n",
      "2  ,  BBB\n",
      "1  ,  AAA\n"
     ]
    }
   ],
   "source": [
    "for t in tlist:\n",
    "    t.dispDtls()"
   ]
  },
  {
   "cell_type": "code",
   "execution_count": null,
   "id": "9d399bc0",
   "metadata": {},
   "outputs": [],
   "source": []
  }
 ],
 "metadata": {
  "kernelspec": {
   "display_name": "Python 3 (ipykernel)",
   "language": "python",
   "name": "python3"
  },
  "language_info": {
   "codemirror_mode": {
    "name": "ipython",
    "version": 3
   },
   "file_extension": ".py",
   "mimetype": "text/x-python",
   "name": "python",
   "nbconvert_exporter": "python",
   "pygments_lexer": "ipython3",
   "version": "3.9.13"
  }
 },
 "nbformat": 4,
 "nbformat_minor": 5
}
