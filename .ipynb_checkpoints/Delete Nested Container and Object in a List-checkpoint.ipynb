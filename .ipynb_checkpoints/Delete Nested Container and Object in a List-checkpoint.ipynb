{
 "cells": [
  {
   "cell_type": "code",
   "execution_count": 1,
   "id": "e6a6894c",
   "metadata": {},
   "outputs": [],
   "source": [
    "# Del emp from the nested list if found otherwise display message that employee doesn't exist\n",
    "emps = [[1,'AAA'],[2,'BBB'],[3,'CCC']]"
   ]
  },
  {
   "cell_type": "code",
   "execution_count": 2,
   "id": "629e787c",
   "metadata": {},
   "outputs": [
    {
     "data": {
      "text/plain": [
       "[[1, 'AAA'], [2, 'BBB'], [3, 'CCC']]"
      ]
     },
     "execution_count": 2,
     "metadata": {},
     "output_type": "execute_result"
    }
   ],
   "source": [
    "emps"
   ]
  },
  {
   "cell_type": "code",
   "execution_count": 5,
   "id": "8905b727",
   "metadata": {},
   "outputs": [
    {
     "name": "stdout",
     "output_type": "stream",
     "text": [
      "Enter employee-id you want to remove/delete :: 3\n",
      "Employee Found at index ::  2\n"
     ]
    }
   ],
   "source": [
    "#Prompt the user to enter the emp-id, check if the employee exists or not! \n",
    "# if exists display the index of the emp\n",
    "eid = int(input(\"Enter employee-id you want to remove/delete :: \"))\n",
    "for i in range(len(emps)):\n",
    "    if emps[i][0] == eid:\n",
    "        print(\"Employee Found at index :: \",i)\n",
    "    "
   ]
  },
  {
   "cell_type": "code",
   "execution_count": 8,
   "id": "24cacedc",
   "metadata": {},
   "outputs": [
    {
     "name": "stdout",
     "output_type": "stream",
     "text": [
      "Enter employee-id you want to remove/delete :: 1\n",
      "Employee Found at index ::  0\n",
      "Employee info delete successfully! \n"
     ]
    }
   ],
   "source": [
    "#If found delete the employee\n",
    "eid = int(input(\"Enter employee-id you want to remove/delete :: \"))\n",
    "if(len(emps)>0):\n",
    "    for i in range(len(emps)):\n",
    "        if emps[i][0] == eid:\n",
    "            print(\"Employee Found at index :: \",i)\n",
    "            emps.pop(i)\n",
    "            print(\"Employee info delete successfully! \")\n",
    "            break;\n",
    "else:\n",
    "    print(\"No employee exists to process the data!\")"
   ]
  },
  {
   "cell_type": "code",
   "execution_count": 9,
   "id": "357f56c9",
   "metadata": {},
   "outputs": [
    {
     "data": {
      "text/plain": [
       "[[3, 'CCC']]"
      ]
     },
     "execution_count": 9,
     "metadata": {},
     "output_type": "execute_result"
    }
   ],
   "source": [
    "emps"
   ]
  },
  {
   "cell_type": "code",
   "execution_count": 11,
   "id": "476396c8",
   "metadata": {},
   "outputs": [
    {
     "name": "stdout",
     "output_type": "stream",
     "text": [
      "Enter employee-id you want to remove/delete :: 1\n"
     ]
    }
   ],
   "source": [
    "#If found delete the employee\n",
    "eid = int(input(\"Enter employee-id you want to remove/delete :: \"))\n",
    "if(len(emps)>0):\n",
    "    for i in range(len(emps)):\n",
    "        if emps[i][0] == eid:\n",
    "            print(\"Employee Found at index :: \",i)\n",
    "            emps.pop(i)\n",
    "            print(\"Employee info delete successfully! \")\n",
    "            break;\n",
    "else:\n",
    "    print(\"No employee exists to process the data!\")"
   ]
  },
  {
   "cell_type": "code",
   "execution_count": 12,
   "id": "b5407f78",
   "metadata": {},
   "outputs": [
    {
     "data": {
      "text/plain": [
       "[[3, 'CCC']]"
      ]
     },
     "execution_count": 12,
     "metadata": {},
     "output_type": "execute_result"
    }
   ],
   "source": [
    "emps"
   ]
  },
  {
   "cell_type": "code",
   "execution_count": 13,
   "id": "6c1c865d",
   "metadata": {},
   "outputs": [
    {
     "name": "stdout",
     "output_type": "stream",
     "text": [
      "Enter employee-id you want to remove/delete :: 3\n",
      "Employee Found at index ::  0\n",
      "Employee info delete successfully! \n"
     ]
    }
   ],
   "source": [
    "#If found delete the employee\n",
    "eid = int(input(\"Enter employee-id you want to remove/delete :: \"))\n",
    "if(len(emps)>0):\n",
    "    for i in range(len(emps)):\n",
    "        if emps[i][0] == eid:\n",
    "            print(\"Employee Found at index :: \",i)\n",
    "            emps.pop(i)\n",
    "            print(\"Employee info delete successfully! \")\n",
    "            break;\n",
    "else:\n",
    "    print(\"No employee exists to process the data!\")"
   ]
  },
  {
   "cell_type": "code",
   "execution_count": 14,
   "id": "7ce5b491",
   "metadata": {},
   "outputs": [
    {
     "data": {
      "text/plain": [
       "[]"
      ]
     },
     "execution_count": 14,
     "metadata": {},
     "output_type": "execute_result"
    }
   ],
   "source": [
    "emps"
   ]
  },
  {
   "cell_type": "code",
   "execution_count": 15,
   "id": "f4e25f7e",
   "metadata": {},
   "outputs": [
    {
     "name": "stdout",
     "output_type": "stream",
     "text": [
      "Enter employee-id you want to remove/delete :: 5\n",
      "No employee exists to process the data!\n"
     ]
    }
   ],
   "source": [
    "#If found delete the employee\n",
    "eid = int(input(\"Enter employee-id you want to remove/delete :: \"))\n",
    "if(len(emps)>0):\n",
    "    for i in range(len(emps)):\n",
    "        if emps[i][0] == eid:\n",
    "            print(\"Employee Found at index :: \",i)\n",
    "            emps.pop(i)\n",
    "            print(\"Employee info delete successfully! \")\n",
    "            break;\n",
    "else:\n",
    "    print(\"No employee exists to process the data!\")"
   ]
  },
  {
   "cell_type": "code",
   "execution_count": 16,
   "id": "7a98c2f7",
   "metadata": {},
   "outputs": [],
   "source": [
    "emps = [[1,'AAA'],[2,'BBB'],[3,'CCC']]"
   ]
  },
  {
   "cell_type": "code",
   "execution_count": 17,
   "id": "c0166d87",
   "metadata": {},
   "outputs": [
    {
     "data": {
      "text/plain": [
       "[[1, 'AAA'], [2, 'BBB'], [3, 'CCC']]"
      ]
     },
     "execution_count": 17,
     "metadata": {},
     "output_type": "execute_result"
    }
   ],
   "source": [
    "emps"
   ]
  },
  {
   "cell_type": "code",
   "execution_count": 18,
   "id": "33234bfe",
   "metadata": {},
   "outputs": [
    {
     "name": "stdout",
     "output_type": "stream",
     "text": [
      "Enter employee-id you want to remove/delete :: 101\n",
      "Employee not found and not deleted!\n"
     ]
    }
   ],
   "source": [
    "#If found delete the employee otherwise display message employee not found or doesn't exist\n",
    "eid = int(input(\"Enter employee-id you want to remove/delete :: \"))\n",
    "dstat = False\n",
    "if(len(emps)>0):\n",
    "    for i in range(len(emps)):\n",
    "        if emps[i][0] == eid:\n",
    "            print(\"Employee Found at index :: \",i)\n",
    "            emps.pop(i)\n",
    "            print(\"Employee info delete successfully! \")\n",
    "            dstat=True\n",
    "            break;\n",
    "    if dstat != True:\n",
    "        print(\"Employee not found and not deleted!\")\n",
    "else:\n",
    "    print(\"No employee exists to process the data!\")"
   ]
  },
  {
   "cell_type": "code",
   "execution_count": 19,
   "id": "9f17c7da",
   "metadata": {},
   "outputs": [],
   "source": [
    "def del_Emp():\n",
    "    eid = int(input(\"Enter employee-id you want to remove/delete :: \"))\n",
    "    dstat = False\n",
    "    if(len(emps)>0):\n",
    "        for i in range(len(emps)):\n",
    "            if emps[i][0] == eid:\n",
    "                print(\"Employee Found at index :: \",i)\n",
    "                emps.pop(i)\n",
    "                print(\"Employee info delete successfully! \")\n",
    "                dstat=True\n",
    "                break;\n",
    "        if dstat != True:\n",
    "            print(\"Employee not found and not deleted!\")\n",
    "    else:\n",
    "        print(\"No employee exists to process the data!\")"
   ]
  },
  {
   "cell_type": "code",
   "execution_count": 20,
   "id": "a5439f50",
   "metadata": {},
   "outputs": [
    {
     "name": "stdout",
     "output_type": "stream",
     "text": [
      "Enter employee-id you want to remove/delete :: 101\n",
      "Employee not found and not deleted!\n"
     ]
    }
   ],
   "source": [
    "del_Emp()"
   ]
  },
  {
   "cell_type": "code",
   "execution_count": 21,
   "id": "01764c59",
   "metadata": {},
   "outputs": [
    {
     "data": {
      "text/plain": [
       "[[1, 'AAA'], [2, 'BBB'], [3, 'CCC']]"
      ]
     },
     "execution_count": 21,
     "metadata": {},
     "output_type": "execute_result"
    }
   ],
   "source": [
    "emps"
   ]
  },
  {
   "cell_type": "code",
   "execution_count": 23,
   "id": "dbe0cf83",
   "metadata": {},
   "outputs": [
    {
     "name": "stdout",
     "output_type": "stream",
     "text": [
      "Enter employee-id you want to remove/delete :: 2\n",
      "Employee Found at index ::  1\n",
      "Employee info delete successfully! \n"
     ]
    }
   ],
   "source": [
    "del_Emp()"
   ]
  },
  {
   "cell_type": "code",
   "execution_count": 24,
   "id": "c5e1fbae",
   "metadata": {},
   "outputs": [
    {
     "data": {
      "text/plain": [
       "[[1, 'AAA'], [3, 'CCC']]"
      ]
     },
     "execution_count": 24,
     "metadata": {},
     "output_type": "execute_result"
    }
   ],
   "source": [
    "emps"
   ]
  },
  {
   "cell_type": "code",
   "execution_count": 25,
   "id": "d368b87f",
   "metadata": {},
   "outputs": [
    {
     "name": "stdout",
     "output_type": "stream",
     "text": [
      "Enter employee-id you want to remove/delete :: 105\n",
      "Employee not found and not deleted!\n"
     ]
    }
   ],
   "source": [
    "del_Emp()"
   ]
  },
  {
   "cell_type": "code",
   "execution_count": 26,
   "id": "1889c6ab",
   "metadata": {},
   "outputs": [
    {
     "name": "stdout",
     "output_type": "stream",
     "text": [
      "Enter employee-id you want to remove/delete :: 1\n",
      "Employee Found at index ::  0\n",
      "Employee info delete successfully! \n"
     ]
    }
   ],
   "source": [
    "del_Emp()"
   ]
  },
  {
   "cell_type": "code",
   "execution_count": 27,
   "id": "23f413c8",
   "metadata": {},
   "outputs": [
    {
     "data": {
      "text/plain": [
       "[[3, 'CCC']]"
      ]
     },
     "execution_count": 27,
     "metadata": {},
     "output_type": "execute_result"
    }
   ],
   "source": [
    "emps"
   ]
  },
  {
   "cell_type": "code",
   "execution_count": 28,
   "id": "d1e0f5ab",
   "metadata": {},
   "outputs": [
    {
     "name": "stdout",
     "output_type": "stream",
     "text": [
      "Enter employee-id you want to remove/delete :: 3\n",
      "Employee Found at index ::  0\n",
      "Employee info delete successfully! \n"
     ]
    }
   ],
   "source": [
    "del_Emp()"
   ]
  },
  {
   "cell_type": "code",
   "execution_count": 29,
   "id": "7267f28b",
   "metadata": {},
   "outputs": [
    {
     "data": {
      "text/plain": [
       "[]"
      ]
     },
     "execution_count": 29,
     "metadata": {},
     "output_type": "execute_result"
    }
   ],
   "source": [
    "emps"
   ]
  },
  {
   "cell_type": "code",
   "execution_count": 31,
   "id": "85bc8717",
   "metadata": {},
   "outputs": [
    {
     "name": "stdout",
     "output_type": "stream",
     "text": [
      "Enter employee-id you want to remove/delete :: 5\n",
      "No employee exists to process the data!\n"
     ]
    }
   ],
   "source": [
    "del_Emp()"
   ]
  },
  {
   "cell_type": "code",
   "execution_count": 33,
   "id": "63c1fab4",
   "metadata": {},
   "outputs": [],
   "source": [
    "def del_Emp():\n",
    "    if(len(emps)>0):\n",
    "        eid = int(input(\"Enter employee-id you want to remove/delete :: \"))\n",
    "        dstat = False\n",
    "        for i in range(len(emps)):\n",
    "            if emps[i][0] == eid:\n",
    "                print(\"Employee Found at index :: \",i)\n",
    "                emps.pop(i)\n",
    "                print(\"Employee info delete successfully! \")\n",
    "                dstat=True\n",
    "                break;\n",
    "        if dstat != True:\n",
    "            print(\"Employee not found and not deleted!\")\n",
    "    else:\n",
    "        print(\"Employee List is Empty Cannot delete the data!\")"
   ]
  },
  {
   "cell_type": "code",
   "execution_count": 34,
   "id": "51b1c5cd",
   "metadata": {},
   "outputs": [],
   "source": [
    "emps = [[1,'AAA'],[2,'BBB'],[3,'CCC']]"
   ]
  },
  {
   "cell_type": "code",
   "execution_count": 35,
   "id": "65ce46d9",
   "metadata": {},
   "outputs": [
    {
     "name": "stdout",
     "output_type": "stream",
     "text": [
      "Enter employee-id you want to remove/delete :: 5\n",
      "Employee not found and not deleted!\n"
     ]
    }
   ],
   "source": [
    "del_Emp()"
   ]
  },
  {
   "cell_type": "code",
   "execution_count": 36,
   "id": "5492c78f",
   "metadata": {},
   "outputs": [
    {
     "name": "stdout",
     "output_type": "stream",
     "text": [
      "Enter employee-id you want to remove/delete :: 2\n",
      "Employee Found at index ::  1\n",
      "Employee info delete successfully! \n"
     ]
    }
   ],
   "source": [
    "del_Emp()"
   ]
  },
  {
   "cell_type": "code",
   "execution_count": 37,
   "id": "2d03718b",
   "metadata": {},
   "outputs": [
    {
     "name": "stdout",
     "output_type": "stream",
     "text": [
      "Enter employee-id you want to remove/delete :: 101\n",
      "Employee not found and not deleted!\n"
     ]
    }
   ],
   "source": [
    "del_Emp()"
   ]
  },
  {
   "cell_type": "code",
   "execution_count": 38,
   "id": "fb76cdd5",
   "metadata": {},
   "outputs": [
    {
     "data": {
      "text/plain": [
       "[[1, 'AAA'], [3, 'CCC']]"
      ]
     },
     "execution_count": 38,
     "metadata": {},
     "output_type": "execute_result"
    }
   ],
   "source": [
    "emps"
   ]
  },
  {
   "cell_type": "code",
   "execution_count": 39,
   "id": "4d4ebfad",
   "metadata": {},
   "outputs": [
    {
     "name": "stdout",
     "output_type": "stream",
     "text": [
      "Enter employee-id you want to remove/delete :: 1\n",
      "Employee Found at index ::  0\n",
      "Employee info delete successfully! \n"
     ]
    }
   ],
   "source": [
    "del_Emp()"
   ]
  },
  {
   "cell_type": "code",
   "execution_count": 40,
   "id": "d27b134a",
   "metadata": {},
   "outputs": [
    {
     "data": {
      "text/plain": [
       "[[3, 'CCC']]"
      ]
     },
     "execution_count": 40,
     "metadata": {},
     "output_type": "execute_result"
    }
   ],
   "source": [
    "emps"
   ]
  },
  {
   "cell_type": "code",
   "execution_count": 41,
   "id": "093ac8f3",
   "metadata": {},
   "outputs": [
    {
     "name": "stdout",
     "output_type": "stream",
     "text": [
      "Enter employee-id you want to remove/delete :: 3\n",
      "Employee Found at index ::  0\n",
      "Employee info delete successfully! \n"
     ]
    }
   ],
   "source": [
    "del_Emp()"
   ]
  },
  {
   "cell_type": "code",
   "execution_count": 42,
   "id": "2b315cb3",
   "metadata": {},
   "outputs": [
    {
     "data": {
      "text/plain": [
       "[]"
      ]
     },
     "execution_count": 42,
     "metadata": {},
     "output_type": "execute_result"
    }
   ],
   "source": [
    "emps"
   ]
  },
  {
   "cell_type": "code",
   "execution_count": 43,
   "id": "5200b26b",
   "metadata": {},
   "outputs": [
    {
     "name": "stdout",
     "output_type": "stream",
     "text": [
      "Employee List is Empty Cannot delete the data!\n"
     ]
    }
   ],
   "source": [
    "del_Emp()"
   ]
  },
  {
   "cell_type": "code",
   "execution_count": null,
   "id": "218b3c02",
   "metadata": {},
   "outputs": [],
   "source": []
  },
  {
   "cell_type": "code",
   "execution_count": null,
   "id": "467a35c0",
   "metadata": {},
   "outputs": [],
   "source": []
  },
  {
   "cell_type": "code",
   "execution_count": null,
   "id": "487850f6",
   "metadata": {},
   "outputs": [],
   "source": []
  },
  {
   "cell_type": "code",
   "execution_count": null,
   "id": "2aa6ce62",
   "metadata": {},
   "outputs": [],
   "source": []
  },
  {
   "cell_type": "code",
   "execution_count": null,
   "id": "5b91cd3b",
   "metadata": {},
   "outputs": [],
   "source": []
  },
  {
   "cell_type": "code",
   "execution_count": 44,
   "id": "06e1ba2e",
   "metadata": {},
   "outputs": [],
   "source": [
    "import numpy as np"
   ]
  },
  {
   "cell_type": "code",
   "execution_count": 45,
   "id": "9fc4d43f",
   "metadata": {},
   "outputs": [],
   "source": [
    "a = np.array([1,2,3,4,5])"
   ]
  },
  {
   "cell_type": "code",
   "execution_count": 46,
   "id": "b37c3140",
   "metadata": {},
   "outputs": [
    {
     "name": "stdout",
     "output_type": "stream",
     "text": [
      "1\n",
      "2\n",
      "3\n",
      "4\n",
      "5\n"
     ]
    }
   ],
   "source": [
    "for e in a:\n",
    "    print(e)"
   ]
  },
  {
   "cell_type": "code",
   "execution_count": 47,
   "id": "4c6c2d2f",
   "metadata": {},
   "outputs": [],
   "source": [
    "a = np.array([1,'Hello',True,10,10])"
   ]
  },
  {
   "cell_type": "code",
   "execution_count": 48,
   "id": "2a2eba9a",
   "metadata": {},
   "outputs": [
    {
     "name": "stdout",
     "output_type": "stream",
     "text": [
      "1\n",
      "Hello\n",
      "True\n",
      "10\n",
      "10\n"
     ]
    }
   ],
   "source": [
    "for e in a:\n",
    "    print(e)"
   ]
  },
  {
   "cell_type": "code",
   "execution_count": 49,
   "id": "e0394351",
   "metadata": {},
   "outputs": [
    {
     "name": "stdout",
     "output_type": "stream",
     "text": [
      "1.26.0\n"
     ]
    }
   ],
   "source": [
    "print(np.__version__)"
   ]
  },
  {
   "cell_type": "code",
   "execution_count": 50,
   "id": "040fb95a",
   "metadata": {},
   "outputs": [
    {
     "data": {
      "text/plain": [
       "numpy.ndarray"
      ]
     },
     "execution_count": 50,
     "metadata": {},
     "output_type": "execute_result"
    }
   ],
   "source": [
    "type(a)"
   ]
  },
  {
   "cell_type": "code",
   "execution_count": 51,
   "id": "d06918be",
   "metadata": {},
   "outputs": [],
   "source": [
    "a = np.array((1,2,3,4,'Hello',True,False,1.234,100,100))"
   ]
  },
  {
   "cell_type": "code",
   "execution_count": 52,
   "id": "bbf6f025",
   "metadata": {},
   "outputs": [
    {
     "name": "stdout",
     "output_type": "stream",
     "text": [
      "1\n",
      "2\n",
      "3\n",
      "4\n",
      "Hello\n",
      "True\n",
      "False\n",
      "1.234\n",
      "100\n",
      "100\n"
     ]
    }
   ],
   "source": [
    "for e in a:\n",
    "    print(e)"
   ]
  },
  {
   "cell_type": "code",
   "execution_count": 65,
   "id": "0d4eee1b",
   "metadata": {},
   "outputs": [],
   "source": [
    "a = np.array({1,2,3,1,2,3,4,5})"
   ]
  },
  {
   "cell_type": "code",
   "execution_count": 66,
   "id": "b9a28103",
   "metadata": {},
   "outputs": [
    {
     "ename": "TypeError",
     "evalue": "len() of unsized object",
     "output_type": "error",
     "traceback": [
      "\u001b[1;31m---------------------------------------------------------------------------\u001b[0m",
      "\u001b[1;31mTypeError\u001b[0m                                 Traceback (most recent call last)",
      "Cell \u001b[1;32mIn[66], line 1\u001b[0m\n\u001b[1;32m----> 1\u001b[0m \u001b[38;5;28;43mlen\u001b[39;49m\u001b[43m(\u001b[49m\u001b[43ma\u001b[49m\u001b[43m)\u001b[49m\n",
      "\u001b[1;31mTypeError\u001b[0m: len() of unsized object"
     ]
    }
   ],
   "source": [
    "len(a)"
   ]
  },
  {
   "cell_type": "code",
   "execution_count": 67,
   "id": "4dcb8a62",
   "metadata": {},
   "outputs": [
    {
     "data": {
      "text/plain": [
       "1"
      ]
     },
     "execution_count": 67,
     "metadata": {},
     "output_type": "execute_result"
    }
   ],
   "source": [
    "a.size"
   ]
  },
  {
   "cell_type": "code",
   "execution_count": 68,
   "id": "a4c758fb",
   "metadata": {},
   "outputs": [
    {
     "data": {
      "text/plain": [
       "()"
      ]
     },
     "execution_count": 68,
     "metadata": {},
     "output_type": "execute_result"
    }
   ],
   "source": [
    "a.shape"
   ]
  },
  {
   "cell_type": "code",
   "execution_count": null,
   "id": "f33b46a0",
   "metadata": {},
   "outputs": [],
   "source": []
  },
  {
   "cell_type": "code",
   "execution_count": 54,
   "id": "a3a63394",
   "metadata": {},
   "outputs": [
    {
     "data": {
      "text/plain": [
       "array({1, 2, 3, 4, 5}, dtype=object)"
      ]
     },
     "execution_count": 54,
     "metadata": {},
     "output_type": "execute_result"
    }
   ],
   "source": [
    "a"
   ]
  },
  {
   "cell_type": "code",
   "execution_count": 55,
   "id": "9cfdd8bc",
   "metadata": {},
   "outputs": [
    {
     "data": {
      "text/plain": [
       "numpy.ndarray"
      ]
     },
     "execution_count": 55,
     "metadata": {},
     "output_type": "execute_result"
    }
   ],
   "source": [
    "type(a)"
   ]
  },
  {
   "cell_type": "code",
   "execution_count": 69,
   "id": "2230c7f8",
   "metadata": {},
   "outputs": [],
   "source": [
    "a = np.array({1:1,2:'b','c':'c',4:\"dell\",'a':'apple'})"
   ]
  },
  {
   "cell_type": "code",
   "execution_count": 70,
   "id": "0406b9e8",
   "metadata": {},
   "outputs": [
    {
     "data": {
      "text/plain": [
       "array({1: 1, 2: 'b', 'c': 'c', 4: 'dell', 'a': 'apple'}, dtype=object)"
      ]
     },
     "execution_count": 70,
     "metadata": {},
     "output_type": "execute_result"
    }
   ],
   "source": [
    "a"
   ]
  },
  {
   "cell_type": "code",
   "execution_count": 58,
   "id": "1490a0e9",
   "metadata": {},
   "outputs": [
    {
     "data": {
      "text/plain": [
       "numpy.ndarray"
      ]
     },
     "execution_count": 58,
     "metadata": {},
     "output_type": "execute_result"
    }
   ],
   "source": [
    "type(a)"
   ]
  },
  {
   "cell_type": "code",
   "execution_count": 59,
   "id": "75c68bb4",
   "metadata": {},
   "outputs": [
    {
     "ename": "TypeError",
     "evalue": "iteration over a 0-d array",
     "output_type": "error",
     "traceback": [
      "\u001b[1;31m---------------------------------------------------------------------------\u001b[0m",
      "\u001b[1;31mTypeError\u001b[0m                                 Traceback (most recent call last)",
      "Cell \u001b[1;32mIn[59], line 1\u001b[0m\n\u001b[1;32m----> 1\u001b[0m \u001b[38;5;28;01mfor\u001b[39;00m e \u001b[38;5;129;01min\u001b[39;00m a:\n\u001b[0;32m      2\u001b[0m     \u001b[38;5;28mprint\u001b[39m(e)\n",
      "\u001b[1;31mTypeError\u001b[0m: iteration over a 0-d array"
     ]
    }
   ],
   "source": [
    "for e in a:\n",
    "    print(e)"
   ]
  },
  {
   "cell_type": "code",
   "execution_count": 60,
   "id": "7e59e7d8",
   "metadata": {},
   "outputs": [
    {
     "data": {
      "text/plain": [
       "1"
      ]
     },
     "execution_count": 60,
     "metadata": {},
     "output_type": "execute_result"
    }
   ],
   "source": [
    "a.size"
   ]
  },
  {
   "cell_type": "code",
   "execution_count": 61,
   "id": "247c295c",
   "metadata": {},
   "outputs": [
    {
     "data": {
      "text/plain": [
       "()"
      ]
     },
     "execution_count": 61,
     "metadata": {},
     "output_type": "execute_result"
    }
   ],
   "source": [
    "a.shape"
   ]
  },
  {
   "cell_type": "code",
   "execution_count": 63,
   "id": "6a220dce",
   "metadata": {},
   "outputs": [
    {
     "data": {
      "text/plain": [
       "1"
      ]
     },
     "execution_count": 63,
     "metadata": {},
     "output_type": "execute_result"
    }
   ],
   "source": [
    "a.size"
   ]
  },
  {
   "cell_type": "code",
   "execution_count": 64,
   "id": "f7227bb9",
   "metadata": {},
   "outputs": [
    {
     "ename": "TypeError",
     "evalue": "len() of unsized object",
     "output_type": "error",
     "traceback": [
      "\u001b[1;31m---------------------------------------------------------------------------\u001b[0m",
      "\u001b[1;31mTypeError\u001b[0m                                 Traceback (most recent call last)",
      "Cell \u001b[1;32mIn[64], line 1\u001b[0m\n\u001b[1;32m----> 1\u001b[0m \u001b[38;5;28;43mlen\u001b[39;49m\u001b[43m(\u001b[49m\u001b[43ma\u001b[49m\u001b[43m)\u001b[49m\n",
      "\u001b[1;31mTypeError\u001b[0m: len() of unsized object"
     ]
    }
   ],
   "source": [
    "len(a)"
   ]
  },
  {
   "cell_type": "code",
   "execution_count": 71,
   "id": "b8cd366e",
   "metadata": {},
   "outputs": [
    {
     "ename": "AttributeError",
     "evalue": "'numpy.ndarray' object has no attribute 'items'",
     "output_type": "error",
     "traceback": [
      "\u001b[1;31m---------------------------------------------------------------------------\u001b[0m",
      "\u001b[1;31mAttributeError\u001b[0m                            Traceback (most recent call last)",
      "Cell \u001b[1;32mIn[71], line 1\u001b[0m\n\u001b[1;32m----> 1\u001b[0m \u001b[38;5;28;01mfor\u001b[39;00m item \u001b[38;5;129;01min\u001b[39;00m \u001b[43ma\u001b[49m\u001b[38;5;241;43m.\u001b[39;49m\u001b[43mitems\u001b[49m():\n\u001b[0;32m      2\u001b[0m     \u001b[38;5;28mprint\u001b[39m(item)\n",
      "\u001b[1;31mAttributeError\u001b[0m: 'numpy.ndarray' object has no attribute 'items'"
     ]
    }
   ],
   "source": [
    "for item in a.items():\n",
    "    print(item)"
   ]
  },
  {
   "cell_type": "code",
   "execution_count": 81,
   "id": "e3dc8289",
   "metadata": {},
   "outputs": [],
   "source": [
    "a = np.array(10)"
   ]
  },
  {
   "cell_type": "code",
   "execution_count": 82,
   "id": "6ad494c7",
   "metadata": {},
   "outputs": [
    {
     "data": {
      "text/plain": [
       "array(10)"
      ]
     },
     "execution_count": 82,
     "metadata": {},
     "output_type": "execute_result"
    }
   ],
   "source": [
    "a"
   ]
  },
  {
   "cell_type": "code",
   "execution_count": 83,
   "id": "8536b55b",
   "metadata": {},
   "outputs": [
    {
     "data": {
      "text/plain": [
       "1"
      ]
     },
     "execution_count": 83,
     "metadata": {},
     "output_type": "execute_result"
    }
   ],
   "source": [
    "a.size"
   ]
  },
  {
   "cell_type": "code",
   "execution_count": 84,
   "id": "fa7b1093",
   "metadata": {},
   "outputs": [
    {
     "data": {
      "text/plain": [
       "()"
      ]
     },
     "execution_count": 84,
     "metadata": {},
     "output_type": "execute_result"
    }
   ],
   "source": [
    "a.shape"
   ]
  },
  {
   "cell_type": "code",
   "execution_count": 85,
   "id": "969ac993",
   "metadata": {},
   "outputs": [
    {
     "data": {
      "text/plain": [
       "0"
      ]
     },
     "execution_count": 85,
     "metadata": {},
     "output_type": "execute_result"
    }
   ],
   "source": [
    "a.ndim"
   ]
  },
  {
   "cell_type": "code",
   "execution_count": 86,
   "id": "7d9c0731",
   "metadata": {},
   "outputs": [],
   "source": [
    "b = np.array([1,2,3])"
   ]
  },
  {
   "cell_type": "code",
   "execution_count": 87,
   "id": "f018b42d",
   "metadata": {},
   "outputs": [
    {
     "data": {
      "text/plain": [
       "3"
      ]
     },
     "execution_count": 87,
     "metadata": {},
     "output_type": "execute_result"
    }
   ],
   "source": [
    "b.size"
   ]
  },
  {
   "cell_type": "code",
   "execution_count": 88,
   "id": "d5d4b825",
   "metadata": {},
   "outputs": [
    {
     "data": {
      "text/plain": [
       "(3,)"
      ]
     },
     "execution_count": 88,
     "metadata": {},
     "output_type": "execute_result"
    }
   ],
   "source": [
    "b.shape"
   ]
  },
  {
   "cell_type": "code",
   "execution_count": 89,
   "id": "b565ce51",
   "metadata": {},
   "outputs": [
    {
     "data": {
      "text/plain": [
       "1"
      ]
     },
     "execution_count": 89,
     "metadata": {},
     "output_type": "execute_result"
    }
   ],
   "source": [
    "b.ndim"
   ]
  },
  {
   "cell_type": "code",
   "execution_count": 90,
   "id": "cd753ba4",
   "metadata": {},
   "outputs": [],
   "source": [
    "c = np.array([[1,2,3],[4,5,6]])"
   ]
  },
  {
   "cell_type": "code",
   "execution_count": 91,
   "id": "454fb081",
   "metadata": {},
   "outputs": [
    {
     "data": {
      "text/plain": [
       "6"
      ]
     },
     "execution_count": 91,
     "metadata": {},
     "output_type": "execute_result"
    }
   ],
   "source": [
    "c.size"
   ]
  },
  {
   "cell_type": "code",
   "execution_count": 92,
   "id": "43af48c6",
   "metadata": {},
   "outputs": [
    {
     "data": {
      "text/plain": [
       "(2, 3)"
      ]
     },
     "execution_count": 92,
     "metadata": {},
     "output_type": "execute_result"
    }
   ],
   "source": [
    "c.shape"
   ]
  },
  {
   "cell_type": "code",
   "execution_count": 93,
   "id": "09a3be8c",
   "metadata": {},
   "outputs": [
    {
     "data": {
      "text/plain": [
       "2"
      ]
     },
     "execution_count": 93,
     "metadata": {},
     "output_type": "execute_result"
    }
   ],
   "source": [
    "c.ndim"
   ]
  },
  {
   "cell_type": "code",
   "execution_count": 94,
   "id": "c488b788",
   "metadata": {},
   "outputs": [],
   "source": [
    "d = np.array([\n",
    "    [[1,2,3],[4,5,6]],\n",
    "    [[7,8,9],[10,11,12]]\n",
    "])"
   ]
  },
  {
   "cell_type": "code",
   "execution_count": 95,
   "id": "885a7fec",
   "metadata": {},
   "outputs": [
    {
     "data": {
      "text/plain": [
       "12"
      ]
     },
     "execution_count": 95,
     "metadata": {},
     "output_type": "execute_result"
    }
   ],
   "source": [
    "d.size"
   ]
  },
  {
   "cell_type": "code",
   "execution_count": 100,
   "id": "71b10d4b",
   "metadata": {},
   "outputs": [
    {
     "data": {
      "text/plain": [
       "(2, 2, 3)"
      ]
     },
     "execution_count": 100,
     "metadata": {},
     "output_type": "execute_result"
    }
   ],
   "source": [
    "d.shape"
   ]
  },
  {
   "cell_type": "code",
   "execution_count": 99,
   "id": "83821d71",
   "metadata": {},
   "outputs": [
    {
     "data": {
      "text/plain": [
       "3"
      ]
     },
     "execution_count": 99,
     "metadata": {},
     "output_type": "execute_result"
    }
   ],
   "source": [
    "d.ndim"
   ]
  },
  {
   "cell_type": "code",
   "execution_count": 101,
   "id": "50a2af70",
   "metadata": {},
   "outputs": [
    {
     "name": "stdout",
     "output_type": "stream",
     "text": [
      "10\n",
      "[1 2 3]\n",
      "[[1 2 3]\n",
      " [4 5 6]]\n",
      "[[[ 1  2  3]\n",
      "  [ 4  5  6]]\n",
      "\n",
      " [[ 7  8  9]\n",
      "  [10 11 12]]]\n"
     ]
    }
   ],
   "source": [
    "print(a)\n",
    "print(b)\n",
    "print(c)\n",
    "print(d)"
   ]
  },
  {
   "cell_type": "code",
   "execution_count": 103,
   "id": "2e2e4310",
   "metadata": {},
   "outputs": [
    {
     "name": "stdout",
     "output_type": "stream",
     "text": [
      "1\n",
      "3\n",
      "6\n",
      "12\n"
     ]
    }
   ],
   "source": [
    "print(a.size)\n",
    "print(b.size)\n",
    "print(c.size)\n",
    "print(d.size)"
   ]
  },
  {
   "cell_type": "code",
   "execution_count": 104,
   "id": "4f8680f4",
   "metadata": {},
   "outputs": [
    {
     "name": "stdout",
     "output_type": "stream",
     "text": [
      "0\n",
      "1\n",
      "2\n",
      "3\n"
     ]
    }
   ],
   "source": [
    "print(a.ndim)\n",
    "print(b.ndim)\n",
    "print(c.ndim)\n",
    "print(d.ndim)"
   ]
  },
  {
   "cell_type": "code",
   "execution_count": 105,
   "id": "e42bc3fe",
   "metadata": {},
   "outputs": [
    {
     "name": "stdout",
     "output_type": "stream",
     "text": [
      "()\n",
      "(3,)\n",
      "(2, 3)\n",
      "(2, 2, 3)\n"
     ]
    }
   ],
   "source": [
    "print(a.shape)\n",
    "print(b.shape)\n",
    "print(c.shape)\n",
    "print(d.shape)"
   ]
  },
  {
   "cell_type": "code",
   "execution_count": null,
   "id": "520b213a",
   "metadata": {},
   "outputs": [],
   "source": []
  },
  {
   "cell_type": "code",
   "execution_count": null,
   "id": "a5bed9d9",
   "metadata": {},
   "outputs": [],
   "source": []
  },
  {
   "cell_type": "code",
   "execution_count": 72,
   "id": "493117b3",
   "metadata": {},
   "outputs": [],
   "source": [
    "class Emp:\n",
    "    def __init__(self,eno,ena):\n",
    "        self.eno = eno\n",
    "        self.ena = ena\n",
    "        \n",
    "    def getEno(self):\n",
    "        return self.eno\n",
    "    \n",
    "    def getEna(self):\n",
    "        return self.ena\n",
    "    \n",
    "    \n"
   ]
  },
  {
   "cell_type": "code",
   "execution_count": 73,
   "id": "61a6608b",
   "metadata": {},
   "outputs": [],
   "source": [
    "e1 = Emp(1,'Aaa')"
   ]
  },
  {
   "cell_type": "code",
   "execution_count": 74,
   "id": "20ff84cd",
   "metadata": {},
   "outputs": [
    {
     "data": {
      "text/plain": [
       "1"
      ]
     },
     "execution_count": 74,
     "metadata": {},
     "output_type": "execute_result"
    }
   ],
   "source": [
    "e1.eno"
   ]
  },
  {
   "cell_type": "code",
   "execution_count": 75,
   "id": "5ffac05b",
   "metadata": {},
   "outputs": [
    {
     "data": {
      "text/plain": [
       "'Aaa'"
      ]
     },
     "execution_count": 75,
     "metadata": {},
     "output_type": "execute_result"
    }
   ],
   "source": [
    "e1.ena"
   ]
  },
  {
   "cell_type": "code",
   "execution_count": 78,
   "id": "949e4006",
   "metadata": {},
   "outputs": [],
   "source": [
    "emps = [Emp(101,'Aaa'),Emp(102,'Bbb'),Emp(103,'Ccc')]"
   ]
  },
  {
   "cell_type": "code",
   "execution_count": 79,
   "id": "7e632929",
   "metadata": {},
   "outputs": [
    {
     "data": {
      "text/plain": [
       "[<__main__.Emp at 0x214228c4910>,\n",
       " <__main__.Emp at 0x214228c4fa0>,\n",
       " <__main__.Emp at 0x214228c4c10>]"
      ]
     },
     "execution_count": 79,
     "metadata": {},
     "output_type": "execute_result"
    }
   ],
   "source": [
    "emps"
   ]
  },
  {
   "cell_type": "code",
   "execution_count": 80,
   "id": "0300b827",
   "metadata": {},
   "outputs": [
    {
     "name": "stdout",
     "output_type": "stream",
     "text": [
      "101   Aaa\n",
      "102   Bbb\n",
      "103   Ccc\n"
     ]
    }
   ],
   "source": [
    "for e in emps:\n",
    "    print(e.eno,' ',e.ena)"
   ]
  },
  {
   "cell_type": "code",
   "execution_count": 116,
   "id": "6b3882bc",
   "metadata": {},
   "outputs": [],
   "source": [
    "def delEmp():\n",
    "    if(len(emps)>0):\n",
    "        eid = int(input(\"Enter employee-id whose record you want to remove :: \"))\n",
    "        delstat = False\n",
    "        for i in range(len(emps)):\n",
    "            if emps[i].getEno() == eid:\n",
    "                emps.pop(i)\n",
    "                delstat=True\n",
    "                break\n",
    "        if delstat == True :\n",
    "            print(\"Employee deleted successfully\")\n",
    "        else:\n",
    "            print(\"Employee with given Emp-id not found hence couldn't be deleted!\")\n",
    "    else:\n",
    "        print(\"Employee list empty! No option to delete any Employee.\")"
   ]
  },
  {
   "cell_type": "code",
   "execution_count": 112,
   "id": "87375285",
   "metadata": {},
   "outputs": [
    {
     "name": "stdout",
     "output_type": "stream",
     "text": [
      "Enter employee-id whose record you want to remove :: 104\n",
      "Employee with given Emp-id not found hence couldn't be deleted!\n"
     ]
    }
   ],
   "source": [
    "delEmp()"
   ]
  },
  {
   "cell_type": "code",
   "execution_count": 113,
   "id": "da0a8add",
   "metadata": {},
   "outputs": [
    {
     "name": "stdout",
     "output_type": "stream",
     "text": [
      "Enter employee-id whose record you want to remove :: 101\n",
      "Employee with given Emp-id not found hence couldn't be deleted!\n"
     ]
    }
   ],
   "source": [
    "delEmp()"
   ]
  },
  {
   "cell_type": "code",
   "execution_count": 115,
   "id": "ff9339a5",
   "metadata": {},
   "outputs": [
    {
     "name": "stdout",
     "output_type": "stream",
     "text": [
      "102   Bbb\n",
      "103   Ccc\n"
     ]
    }
   ],
   "source": [
    "for e in emps:\n",
    "    print(e.getEno(),' ',e.getEna())"
   ]
  },
  {
   "cell_type": "code",
   "execution_count": 117,
   "id": "43074d5b",
   "metadata": {},
   "outputs": [
    {
     "name": "stdout",
     "output_type": "stream",
     "text": [
      "Enter employee-id whose record you want to remove :: 103\n",
      "Employee deleted successfully\n"
     ]
    }
   ],
   "source": [
    "delEmp()"
   ]
  },
  {
   "cell_type": "code",
   "execution_count": 118,
   "id": "e530ee13",
   "metadata": {},
   "outputs": [
    {
     "name": "stdout",
     "output_type": "stream",
     "text": [
      "102   Bbb\n"
     ]
    }
   ],
   "source": [
    "for e in emps:\n",
    "    print(e.getEno(),' ',e.getEna())"
   ]
  },
  {
   "cell_type": "code",
   "execution_count": 119,
   "id": "7b3aac7e",
   "metadata": {},
   "outputs": [
    {
     "name": "stdout",
     "output_type": "stream",
     "text": [
      "Enter employee-id whose record you want to remove :: 102\n",
      "Employee deleted successfully\n"
     ]
    }
   ],
   "source": [
    "delEmp()"
   ]
  },
  {
   "cell_type": "code",
   "execution_count": 120,
   "id": "563f4937",
   "metadata": {},
   "outputs": [],
   "source": [
    "for e in emps:\n",
    "    print(e.getEno(),' ',e.getEna())"
   ]
  },
  {
   "cell_type": "code",
   "execution_count": 121,
   "id": "e6f5332e",
   "metadata": {},
   "outputs": [
    {
     "name": "stdout",
     "output_type": "stream",
     "text": [
      "Employee list empty! No option to delete any Employee.\n"
     ]
    }
   ],
   "source": [
    "delEmp()"
   ]
  },
  {
   "cell_type": "code",
   "execution_count": 122,
   "id": "a5a5ade6",
   "metadata": {},
   "outputs": [
    {
     "data": {
      "text/plain": [
       "array(10)"
      ]
     },
     "execution_count": 122,
     "metadata": {},
     "output_type": "execute_result"
    }
   ],
   "source": [
    "a"
   ]
  },
  {
   "cell_type": "code",
   "execution_count": 123,
   "id": "7803f959",
   "metadata": {},
   "outputs": [
    {
     "ename": "IndexError",
     "evalue": "too many indices for array: array is 0-dimensional, but 1 were indexed",
     "output_type": "error",
     "traceback": [
      "\u001b[1;31m---------------------------------------------------------------------------\u001b[0m",
      "\u001b[1;31mIndexError\u001b[0m                                Traceback (most recent call last)",
      "Cell \u001b[1;32mIn[123], line 1\u001b[0m\n\u001b[1;32m----> 1\u001b[0m \u001b[43ma\u001b[49m\u001b[43m[\u001b[49m\u001b[38;5;241;43m0\u001b[39;49m\u001b[43m]\u001b[49m\n",
      "\u001b[1;31mIndexError\u001b[0m: too many indices for array: array is 0-dimensional, but 1 were indexed"
     ]
    }
   ],
   "source": [
    "a[0]"
   ]
  },
  {
   "cell_type": "code",
   "execution_count": 124,
   "id": "3a32ccc2",
   "metadata": {},
   "outputs": [
    {
     "data": {
      "text/plain": [
       "array([1, 2, 3])"
      ]
     },
     "execution_count": 124,
     "metadata": {},
     "output_type": "execute_result"
    }
   ],
   "source": [
    "b"
   ]
  },
  {
   "cell_type": "code",
   "execution_count": 126,
   "id": "c434b21c",
   "metadata": {},
   "outputs": [
    {
     "data": {
      "text/plain": [
       "1"
      ]
     },
     "execution_count": 126,
     "metadata": {},
     "output_type": "execute_result"
    }
   ],
   "source": [
    "b[0]"
   ]
  },
  {
   "cell_type": "code",
   "execution_count": 127,
   "id": "5926b97b",
   "metadata": {},
   "outputs": [
    {
     "data": {
      "text/plain": [
       "2"
      ]
     },
     "execution_count": 127,
     "metadata": {},
     "output_type": "execute_result"
    }
   ],
   "source": [
    "b[1]"
   ]
  },
  {
   "cell_type": "code",
   "execution_count": 128,
   "id": "26bd5147",
   "metadata": {},
   "outputs": [
    {
     "data": {
      "text/plain": [
       "array([[1, 2, 3],\n",
       "       [4, 5, 6]])"
      ]
     },
     "execution_count": 128,
     "metadata": {},
     "output_type": "execute_result"
    }
   ],
   "source": [
    "c"
   ]
  },
  {
   "cell_type": "code",
   "execution_count": 129,
   "id": "95d232c9",
   "metadata": {},
   "outputs": [
    {
     "data": {
      "text/plain": [
       "1"
      ]
     },
     "execution_count": 129,
     "metadata": {},
     "output_type": "execute_result"
    }
   ],
   "source": [
    "c[0][0]"
   ]
  },
  {
   "cell_type": "code",
   "execution_count": 130,
   "id": "318df9d9",
   "metadata": {},
   "outputs": [
    {
     "data": {
      "text/plain": [
       "1"
      ]
     },
     "execution_count": 130,
     "metadata": {},
     "output_type": "execute_result"
    }
   ],
   "source": [
    "c[0,0]"
   ]
  },
  {
   "cell_type": "code",
   "execution_count": 131,
   "id": "1d7a76f9",
   "metadata": {},
   "outputs": [
    {
     "data": {
      "text/plain": [
       "6"
      ]
     },
     "execution_count": 131,
     "metadata": {},
     "output_type": "execute_result"
    }
   ],
   "source": [
    "c[1,2]"
   ]
  },
  {
   "cell_type": "code",
   "execution_count": 132,
   "id": "142311cb",
   "metadata": {},
   "outputs": [
    {
     "data": {
      "text/plain": [
       "6"
      ]
     },
     "execution_count": 132,
     "metadata": {},
     "output_type": "execute_result"
    }
   ],
   "source": [
    "c[1][2]"
   ]
  },
  {
   "cell_type": "code",
   "execution_count": null,
   "id": "a953013a",
   "metadata": {},
   "outputs": [],
   "source": []
  }
 ],
 "metadata": {
  "kernelspec": {
   "display_name": "Python 3 (ipykernel)",
   "language": "python",
   "name": "python3"
  },
  "language_info": {
   "codemirror_mode": {
    "name": "ipython",
    "version": 3
   },
   "file_extension": ".py",
   "mimetype": "text/x-python",
   "name": "python",
   "nbconvert_exporter": "python",
   "pygments_lexer": "ipython3",
   "version": "3.9.13"
  }
 },
 "nbformat": 4,
 "nbformat_minor": 5
}
